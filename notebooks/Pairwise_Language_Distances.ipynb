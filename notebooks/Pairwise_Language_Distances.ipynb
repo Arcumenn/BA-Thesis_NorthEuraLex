{
 "cells": [
  {
   "cell_type": "markdown",
   "id": "d314ea9c",
   "metadata": {},
   "source": [
    "### Calculation of pairwise language distances\n",
    "***\n",
    "***"
   ]
  },
  {
   "cell_type": "markdown",
   "id": "c21b3d83",
   "metadata": {},
   "source": [
    "Set working directory (adapt accordingly) and load tidyverse for better dataframes."
   ]
  },
  {
   "cell_type": "code",
   "execution_count": 1,
   "id": "b531bae9",
   "metadata": {
    "scrolled": true
   },
   "outputs": [
    {
     "name": "stderr",
     "output_type": "stream",
     "text": [
      "── \u001b[1mAttaching packages\u001b[22m ─────────────────────────────────────────────────────────────────────────────── tidyverse 1.3.2 ──\n",
      "\u001b[32m✔\u001b[39m \u001b[34mggplot2\u001b[39m 3.4.0      \u001b[32m✔\u001b[39m \u001b[34mpurrr  \u001b[39m 1.0.1 \n",
      "\u001b[32m✔\u001b[39m \u001b[34mtibble \u001b[39m 3.1.8      \u001b[32m✔\u001b[39m \u001b[34mdplyr  \u001b[39m 1.0.10\n",
      "\u001b[32m✔\u001b[39m \u001b[34mtidyr  \u001b[39m 1.2.1      \u001b[32m✔\u001b[39m \u001b[34mstringr\u001b[39m 1.5.0 \n",
      "\u001b[32m✔\u001b[39m \u001b[34mreadr  \u001b[39m 2.1.3      \u001b[32m✔\u001b[39m \u001b[34mforcats\u001b[39m 0.5.2 \n",
      "── \u001b[1mConflicts\u001b[22m ────────────────────────────────────────────────────────────────────────────────── tidyverse_conflicts() ──\n",
      "\u001b[31m✖\u001b[39m \u001b[34mdplyr\u001b[39m::\u001b[32mfilter()\u001b[39m masks \u001b[34mstats\u001b[39m::filter()\n",
      "\u001b[31m✖\u001b[39m \u001b[34mdplyr\u001b[39m::\u001b[32mlag()\u001b[39m    masks \u001b[34mstats\u001b[39m::lag()\n"
     ]
    }
   ],
   "source": [
    "setwd(\"C:/Users/stein/Dropbox/Studium/7. Semester/BA-Thesis/BA-Thesis_NorthEuraLex\")\n",
    "\n",
    "library(tidyverse)"
   ]
  },
  {
   "cell_type": "markdown",
   "id": "04550c4f",
   "metadata": {},
   "source": [
    "***\n",
    "If necessary, download the necessary TSV-files from the NorthEuraLex website. Then read in the data."
   ]
  },
  {
   "cell_type": "code",
   "execution_count": 2,
   "id": "0fd07ddd",
   "metadata": {},
   "outputs": [
    {
     "data": {
      "text/html": [
       "<table class=\"dataframe\">\n",
       "<caption>A tibble: 6 × 10</caption>\n",
       "<thead>\n",
       "\t<tr><th scope=col>Language_ID</th><th scope=col>Glottocode</th><th scope=col>Concept_ID</th><th scope=col>Word_Form</th><th scope=col>rawIPA</th><th scope=col>IPA</th><th scope=col>ASJP</th><th scope=col>List</th><th scope=col>Dolgo</th><th scope=col>Next_Step</th></tr>\n",
       "\t<tr><th scope=col>&lt;chr&gt;</th><th scope=col>&lt;chr&gt;</th><th scope=col>&lt;chr&gt;</th><th scope=col>&lt;chr&gt;</th><th scope=col>&lt;chr&gt;</th><th scope=col>&lt;chr&gt;</th><th scope=col>&lt;chr&gt;</th><th scope=col>&lt;chr&gt;</th><th scope=col>&lt;chr&gt;</th><th scope=col>&lt;chr&gt;</th></tr>\n",
       "</thead>\n",
       "<tbody>\n",
       "\t<tr><td>fin</td><td>finn1318</td><td>Auge::N </td><td>silmä </td><td>silmæ </td><td>s i l m æ  </td><td>silmE</td><td>SILME</td><td>SVRMV</td><td>validate</td></tr>\n",
       "\t<tr><td>fin</td><td>finn1318</td><td>Ohr::N  </td><td>korva </td><td>kɔrʋɑ </td><td>k ɔ r ʋ ɑ  </td><td>korwa</td><td>KURWA</td><td>KVRWV</td><td>validate</td></tr>\n",
       "\t<tr><td>fin</td><td>finn1318</td><td>Nase::N </td><td>nenä  </td><td>nɛnæ  </td><td>n ɛ n æ    </td><td>nEnE </td><td>NENE </td><td>NVNV </td><td>validate</td></tr>\n",
       "\t<tr><td>fin</td><td>finn1318</td><td>Mund::N </td><td>suu   </td><td>suː   </td><td>s u u      </td><td>su   </td><td>SY   </td><td>SV   </td><td>validate</td></tr>\n",
       "\t<tr><td>fin</td><td>finn1318</td><td>Zahn::N </td><td>hammas</td><td>hɑmːɑs</td><td>h ɑ m m ɑ s</td><td>hamas</td><td>HAMAS</td><td>HVMVS</td><td>validate</td></tr>\n",
       "\t<tr><td>fin</td><td>finn1318</td><td>Zunge::N</td><td>kieli </td><td>kiɛ̯li </td><td>k i ɛ l i  </td><td>kiEli</td><td>KIELI</td><td>KVRV </td><td>validate</td></tr>\n",
       "</tbody>\n",
       "</table>\n"
      ],
      "text/latex": [
       "A tibble: 6 × 10\n",
       "\\begin{tabular}{llllllllll}\n",
       " Language\\_ID & Glottocode & Concept\\_ID & Word\\_Form & rawIPA & IPA & ASJP & List & Dolgo & Next\\_Step\\\\\n",
       " <chr> & <chr> & <chr> & <chr> & <chr> & <chr> & <chr> & <chr> & <chr> & <chr>\\\\\n",
       "\\hline\n",
       "\t fin & finn1318 & Auge::N  & silmä  & silmæ  & s i l m æ   & silmE & SILME & SVRMV & validate\\\\\n",
       "\t fin & finn1318 & Ohr::N   & korva  & kɔrʋɑ  & k ɔ r ʋ ɑ   & korwa & KURWA & KVRWV & validate\\\\\n",
       "\t fin & finn1318 & Nase::N  & nenä   & nɛnæ   & n ɛ n æ     & nEnE  & NENE  & NVNV  & validate\\\\\n",
       "\t fin & finn1318 & Mund::N  & suu    & suː    & s u u       & su    & SY    & SV    & validate\\\\\n",
       "\t fin & finn1318 & Zahn::N  & hammas & hɑmːɑs & h ɑ m m ɑ s & hamas & HAMAS & HVMVS & validate\\\\\n",
       "\t fin & finn1318 & Zunge::N & kieli  & kiɛ̯li  & k i ɛ l i   & kiEli & KIELI & KVRV  & validate\\\\\n",
       "\\end{tabular}\n"
      ],
      "text/markdown": [
       "\n",
       "A tibble: 6 × 10\n",
       "\n",
       "| Language_ID &lt;chr&gt; | Glottocode &lt;chr&gt; | Concept_ID &lt;chr&gt; | Word_Form &lt;chr&gt; | rawIPA &lt;chr&gt; | IPA &lt;chr&gt; | ASJP &lt;chr&gt; | List &lt;chr&gt; | Dolgo &lt;chr&gt; | Next_Step &lt;chr&gt; |\n",
       "|---|---|---|---|---|---|---|---|---|---|\n",
       "| fin | finn1318 | Auge::N  | silmä  | silmæ  | s i l m æ   | silmE | SILME | SVRMV | validate |\n",
       "| fin | finn1318 | Ohr::N   | korva  | kɔrʋɑ  | k ɔ r ʋ ɑ   | korwa | KURWA | KVRWV | validate |\n",
       "| fin | finn1318 | Nase::N  | nenä   | nɛnæ   | n ɛ n æ     | nEnE  | NENE  | NVNV  | validate |\n",
       "| fin | finn1318 | Mund::N  | suu    | suː    | s u u       | su    | SY    | SV    | validate |\n",
       "| fin | finn1318 | Zahn::N  | hammas | hɑmːɑs | h ɑ m m ɑ s | hamas | HAMAS | HVMVS | validate |\n",
       "| fin | finn1318 | Zunge::N | kieli  | kiɛ̯li  | k i ɛ l i   | kiEli | KIELI | KVRV  | validate |\n",
       "\n"
      ],
      "text/plain": [
       "  Language_ID Glottocode Concept_ID Word_Form rawIPA IPA         ASJP  List \n",
       "1 fin         finn1318   Auge::N    silmä     silmæ  s i l m æ   silmE SILME\n",
       "2 fin         finn1318   Ohr::N     korva     kɔrʋɑ  k ɔ r ʋ ɑ   korwa KURWA\n",
       "3 fin         finn1318   Nase::N    nenä      nɛnæ   n ɛ n æ     nEnE  NENE \n",
       "4 fin         finn1318   Mund::N    suu       suː    s u u       su    SY   \n",
       "5 fin         finn1318   Zahn::N    hammas    hɑmːɑs h ɑ m m ɑ s hamas HAMAS\n",
       "6 fin         finn1318   Zunge::N   kieli     kiɛ̯li  k i ɛ l i   kiEli KIELI\n",
       "  Dolgo Next_Step\n",
       "1 SVRMV validate \n",
       "2 KVRWV validate \n",
       "3 NVNV  validate \n",
       "4 SV    validate \n",
       "5 HVMVS validate \n",
       "6 KVRV  validate "
      ]
     },
     "metadata": {},
     "output_type": "display_data"
    },
    {
     "data": {
      "text/html": [
       "<table class=\"dataframe\">\n",
       "<caption>A spec_tbl_df: 3 × 7</caption>\n",
       "<thead>\n",
       "\t<tr><th scope=col>name</th><th scope=col>glotto_code</th><th scope=col>iso_code</th><th scope=col>family</th><th scope=col>subfamily</th><th scope=col>latitude</th><th scope=col>longitude</th></tr>\n",
       "\t<tr><th scope=col>&lt;chr&gt;</th><th scope=col>&lt;chr&gt;</th><th scope=col>&lt;chr&gt;</th><th scope=col>&lt;chr&gt;</th><th scope=col>&lt;chr&gt;</th><th scope=col>&lt;dbl&gt;</th><th scope=col>&lt;dbl&gt;</th></tr>\n",
       "</thead>\n",
       "<tbody>\n",
       "\t<tr><td>Hindi                 </td><td>hind1269</td><td>hin</td><td>Indo-European</td><td>Indo-Aryan</td><td>27.2000</td><td>  78.000</td></tr>\n",
       "\t<tr><td>French                </td><td>stan1290</td><td>fra</td><td>Indo-European</td><td>Italic    </td><td>48.0000</td><td>   2.000</td></tr>\n",
       "\t<tr><td>Central Siberian Yupik</td><td>cent2128</td><td>ess</td><td>Eskimo-Aleut </td><td>Eskimo    </td><td>63.4308</td><td>-170.272</td></tr>\n",
       "</tbody>\n",
       "</table>\n"
      ],
      "text/latex": [
       "A spec\\_tbl\\_df: 3 × 7\n",
       "\\begin{tabular}{lllllll}\n",
       " name & glotto\\_code & iso\\_code & family & subfamily & latitude & longitude\\\\\n",
       " <chr> & <chr> & <chr> & <chr> & <chr> & <dbl> & <dbl>\\\\\n",
       "\\hline\n",
       "\t Hindi                  & hind1269 & hin & Indo-European & Indo-Aryan & 27.2000 &   78.000\\\\\n",
       "\t French                 & stan1290 & fra & Indo-European & Italic     & 48.0000 &    2.000\\\\\n",
       "\t Central Siberian Yupik & cent2128 & ess & Eskimo-Aleut  & Eskimo     & 63.4308 & -170.272\\\\\n",
       "\\end{tabular}\n"
      ],
      "text/markdown": [
       "\n",
       "A spec_tbl_df: 3 × 7\n",
       "\n",
       "| name &lt;chr&gt; | glotto_code &lt;chr&gt; | iso_code &lt;chr&gt; | family &lt;chr&gt; | subfamily &lt;chr&gt; | latitude &lt;dbl&gt; | longitude &lt;dbl&gt; |\n",
       "|---|---|---|---|---|---|---|\n",
       "| Hindi                  | hind1269 | hin | Indo-European | Indo-Aryan | 27.2000 |   78.000 |\n",
       "| French                 | stan1290 | fra | Indo-European | Italic     | 48.0000 |    2.000 |\n",
       "| Central Siberian Yupik | cent2128 | ess | Eskimo-Aleut  | Eskimo     | 63.4308 | -170.272 |\n",
       "\n"
      ],
      "text/plain": [
       "  name                   glotto_code iso_code family        subfamily  latitude\n",
       "1 Hindi                  hind1269    hin      Indo-European Indo-Aryan 27.2000 \n",
       "2 French                 stan1290    fra      Indo-European Italic     48.0000 \n",
       "3 Central Siberian Yupik cent2128    ess      Eskimo-Aleut  Eskimo     63.4308 \n",
       "  longitude\n",
       "1   78.000 \n",
       "2    2.000 \n",
       "3 -170.272 "
      ]
     },
     "metadata": {},
     "output_type": "display_data"
    }
   ],
   "source": [
    "conceptdata_loc = \"./data/northeuralex-0.9-forms.tsv\"\n",
    "geodata_loc = \"./data/northeuralex-0.9-language-data.tsv\"\n",
    "\n",
    "if(!file.exists(conceptdata_loc)) {\n",
    "    download.file(\n",
    "        \"http://www.sfs.uni-tuebingen.de/~jdellert/northeuralex/0.9/northeuralex-0.9-forms.tsv\",\n",
    "        dest = conceptdata_loc\n",
    "    )\n",
    "}\n",
    "\n",
    "if(!file.exists(geodata_loc)) {\n",
    "    download.file(\n",
    "        \"http://www.sfs.uni-tuebingen.de/~jdellert/northeuralex/0.9/northeuralex-0.9-language-data.tsv\",\n",
    "        dest = geodata_loc\n",
    "    )\n",
    "}\n",
    "\n",
    "raw_conceptdata = read_tsv(\"./data/northeuralex-0.9-forms.tsv\", show_col_types = FALSE)\n",
    "raw_geodata = read_tsv(\"./data/northeuralex-0.9-language-data.tsv\", show_col_types = FALSE)\n",
    "\n",
    "head(raw_conceptdata)\n",
    "sample_n(raw_geodata, 3)"
   ]
  },
  {
   "cell_type": "markdown",
   "id": "0d441483",
   "metadata": {},
   "source": [
    "***\n",
    "Filter the conceptdata for rows which have \"validate\" in their _Next_Step_ column, thereby excluding rows that still need to be reviewed."
   ]
  },
  {
   "cell_type": "code",
   "execution_count": 3,
   "id": "fda7fa74",
   "metadata": {},
   "outputs": [],
   "source": [
    "conceptdata = raw_conceptdata %>% filter(Next_Step == \"validate\")"
   ]
  },
  {
   "cell_type": "code",
   "execution_count": 4,
   "id": "59acd063",
   "metadata": {
    "scrolled": false
   },
   "outputs": [
    {
     "data": {
      "text/html": [
       "<table class=\"dataframe\">\n",
       "<caption>A tibble: 6 × 6</caption>\n",
       "<thead>\n",
       "\t<tr><th scope=col>Language_ID</th><th scope=col>Concept_ID</th><th scope=col>Word_Form</th><th scope=col>rawIPA</th><th scope=col>ASJP</th><th scope=col>Next_Step</th></tr>\n",
       "\t<tr><th scope=col>&lt;chr&gt;</th><th scope=col>&lt;chr&gt;</th><th scope=col>&lt;chr&gt;</th><th scope=col>&lt;chr&gt;</th><th scope=col>&lt;chr&gt;</th><th scope=col>&lt;chr&gt;</th></tr>\n",
       "</thead>\n",
       "<tbody>\n",
       "\t<tr><td>fin</td><td>Auge::N </td><td>silmä </td><td>silmæ </td><td>silmE</td><td>validate</td></tr>\n",
       "\t<tr><td>fin</td><td>Ohr::N  </td><td>korva </td><td>kɔrʋɑ </td><td>korwa</td><td>validate</td></tr>\n",
       "\t<tr><td>fin</td><td>Nase::N </td><td>nenä  </td><td>nɛnæ  </td><td>nEnE </td><td>validate</td></tr>\n",
       "\t<tr><td>fin</td><td>Mund::N </td><td>suu   </td><td>suː   </td><td>su   </td><td>validate</td></tr>\n",
       "\t<tr><td>fin</td><td>Zahn::N </td><td>hammas</td><td>hɑmːɑs</td><td>hamas</td><td>validate</td></tr>\n",
       "\t<tr><td>fin</td><td>Zunge::N</td><td>kieli </td><td>kiɛ̯li </td><td>kiEli</td><td>validate</td></tr>\n",
       "</tbody>\n",
       "</table>\n"
      ],
      "text/latex": [
       "A tibble: 6 × 6\n",
       "\\begin{tabular}{llllll}\n",
       " Language\\_ID & Concept\\_ID & Word\\_Form & rawIPA & ASJP & Next\\_Step\\\\\n",
       " <chr> & <chr> & <chr> & <chr> & <chr> & <chr>\\\\\n",
       "\\hline\n",
       "\t fin & Auge::N  & silmä  & silmæ  & silmE & validate\\\\\n",
       "\t fin & Ohr::N   & korva  & kɔrʋɑ  & korwa & validate\\\\\n",
       "\t fin & Nase::N  & nenä   & nɛnæ   & nEnE  & validate\\\\\n",
       "\t fin & Mund::N  & suu    & suː    & su    & validate\\\\\n",
       "\t fin & Zahn::N  & hammas & hɑmːɑs & hamas & validate\\\\\n",
       "\t fin & Zunge::N & kieli  & kiɛ̯li  & kiEli & validate\\\\\n",
       "\\end{tabular}\n"
      ],
      "text/markdown": [
       "\n",
       "A tibble: 6 × 6\n",
       "\n",
       "| Language_ID &lt;chr&gt; | Concept_ID &lt;chr&gt; | Word_Form &lt;chr&gt; | rawIPA &lt;chr&gt; | ASJP &lt;chr&gt; | Next_Step &lt;chr&gt; |\n",
       "|---|---|---|---|---|---|\n",
       "| fin | Auge::N  | silmä  | silmæ  | silmE | validate |\n",
       "| fin | Ohr::N   | korva  | kɔrʋɑ  | korwa | validate |\n",
       "| fin | Nase::N  | nenä   | nɛnæ   | nEnE  | validate |\n",
       "| fin | Mund::N  | suu    | suː    | su    | validate |\n",
       "| fin | Zahn::N  | hammas | hɑmːɑs | hamas | validate |\n",
       "| fin | Zunge::N | kieli  | kiɛ̯li  | kiEli | validate |\n",
       "\n"
      ],
      "text/plain": [
       "  Language_ID Concept_ID Word_Form rawIPA ASJP  Next_Step\n",
       "1 fin         Auge::N    silmä     silmæ  silmE validate \n",
       "2 fin         Ohr::N     korva     kɔrʋɑ  korwa validate \n",
       "3 fin         Nase::N    nenä      nɛnæ   nEnE  validate \n",
       "4 fin         Mund::N    suu       suː    su    validate \n",
       "5 fin         Zahn::N    hammas    hɑmːɑs hamas validate \n",
       "6 fin         Zunge::N   kieli     kiɛ̯li  kiEli validate "
      ]
     },
     "metadata": {},
     "output_type": "display_data"
    }
   ],
   "source": [
    "conceptdata = conceptdata %>% select(Language_ID, Concept_ID, Word_Form, rawIPA, ASJP, Next_Step)\n",
    "head(conceptdata)"
   ]
  },
  {
   "cell_type": "markdown",
   "id": "de3040ef",
   "metadata": {},
   "source": [
    "***\n",
    "Only select the three columns needed for the calculation of the pairwise distances."
   ]
  },
  {
   "cell_type": "code",
   "execution_count": 5,
   "id": "b722ebe2",
   "metadata": {},
   "outputs": [
    {
     "data": {
      "text/html": [
       "<table class=\"dataframe\">\n",
       "<caption>A tibble: 6 × 3</caption>\n",
       "<thead>\n",
       "\t<tr><th scope=col>Language_ID</th><th scope=col>Concept_ID</th><th scope=col>ASJP</th></tr>\n",
       "\t<tr><th scope=col>&lt;chr&gt;</th><th scope=col>&lt;chr&gt;</th><th scope=col>&lt;chr&gt;</th></tr>\n",
       "</thead>\n",
       "<tbody>\n",
       "\t<tr><td>fin</td><td>Auge::N </td><td>silmE</td></tr>\n",
       "\t<tr><td>fin</td><td>Ohr::N  </td><td>korwa</td></tr>\n",
       "\t<tr><td>fin</td><td>Nase::N </td><td>nEnE </td></tr>\n",
       "\t<tr><td>fin</td><td>Mund::N </td><td>su   </td></tr>\n",
       "\t<tr><td>fin</td><td>Zahn::N </td><td>hamas</td></tr>\n",
       "\t<tr><td>fin</td><td>Zunge::N</td><td>kiEli</td></tr>\n",
       "</tbody>\n",
       "</table>\n"
      ],
      "text/latex": [
       "A tibble: 6 × 3\n",
       "\\begin{tabular}{lll}\n",
       " Language\\_ID & Concept\\_ID & ASJP\\\\\n",
       " <chr> & <chr> & <chr>\\\\\n",
       "\\hline\n",
       "\t fin & Auge::N  & silmE\\\\\n",
       "\t fin & Ohr::N   & korwa\\\\\n",
       "\t fin & Nase::N  & nEnE \\\\\n",
       "\t fin & Mund::N  & su   \\\\\n",
       "\t fin & Zahn::N  & hamas\\\\\n",
       "\t fin & Zunge::N & kiEli\\\\\n",
       "\\end{tabular}\n"
      ],
      "text/markdown": [
       "\n",
       "A tibble: 6 × 3\n",
       "\n",
       "| Language_ID &lt;chr&gt; | Concept_ID &lt;chr&gt; | ASJP &lt;chr&gt; |\n",
       "|---|---|---|\n",
       "| fin | Auge::N  | silmE |\n",
       "| fin | Ohr::N   | korwa |\n",
       "| fin | Nase::N  | nEnE  |\n",
       "| fin | Mund::N  | su    |\n",
       "| fin | Zahn::N  | hamas |\n",
       "| fin | Zunge::N | kiEli |\n",
       "\n"
      ],
      "text/plain": [
       "  Language_ID Concept_ID ASJP \n",
       "1 fin         Auge::N    silmE\n",
       "2 fin         Ohr::N     korwa\n",
       "3 fin         Nase::N    nEnE \n",
       "4 fin         Mund::N    su   \n",
       "5 fin         Zahn::N    hamas\n",
       "6 fin         Zunge::N   kiEli"
      ]
     },
     "metadata": {},
     "output_type": "display_data"
    }
   ],
   "source": [
    "conceptdata = conceptdata %>% select(Language_ID, Concept_ID, ASJP)\n",
    "head(conceptdata)"
   ]
  },
  {
   "cell_type": "markdown",
   "id": "31d4b1bd",
   "metadata": {},
   "source": [
    "***\n",
    "Make a vector with the ASJP word list and filter the data to only keep rows with one of the 40 ASJP concepts. "
   ]
  },
  {
   "cell_type": "code",
   "execution_count": 6,
   "id": "30ff8425",
   "metadata": {},
   "outputs": [
    {
     "data": {
      "text/html": [
       "<table class=\"dataframe\">\n",
       "<caption>A tibble: 6 × 3</caption>\n",
       "<thead>\n",
       "\t<tr><th scope=col>Language_ID</th><th scope=col>Concept_ID</th><th scope=col>ASJP</th></tr>\n",
       "\t<tr><th scope=col>&lt;chr&gt;</th><th scope=col>&lt;chr&gt;</th><th scope=col>&lt;chr&gt;</th></tr>\n",
       "</thead>\n",
       "<tbody>\n",
       "\t<tr><td>fin</td><td>Auge::N </td><td>silmE</td></tr>\n",
       "\t<tr><td>fin</td><td>Ohr::N  </td><td>korwa</td></tr>\n",
       "\t<tr><td>fin</td><td>Nase::N </td><td>nEnE </td></tr>\n",
       "\t<tr><td>fin</td><td>Zahn::N </td><td>hamas</td></tr>\n",
       "\t<tr><td>fin</td><td>Zunge::N</td><td>kiEli</td></tr>\n",
       "\t<tr><td>fin</td><td>Busen::N</td><td>rinta</td></tr>\n",
       "</tbody>\n",
       "</table>\n"
      ],
      "text/latex": [
       "A tibble: 6 × 3\n",
       "\\begin{tabular}{lll}\n",
       " Language\\_ID & Concept\\_ID & ASJP\\\\\n",
       " <chr> & <chr> & <chr>\\\\\n",
       "\\hline\n",
       "\t fin & Auge::N  & silmE\\\\\n",
       "\t fin & Ohr::N   & korwa\\\\\n",
       "\t fin & Nase::N  & nEnE \\\\\n",
       "\t fin & Zahn::N  & hamas\\\\\n",
       "\t fin & Zunge::N & kiEli\\\\\n",
       "\t fin & Busen::N & rinta\\\\\n",
       "\\end{tabular}\n"
      ],
      "text/markdown": [
       "\n",
       "A tibble: 6 × 3\n",
       "\n",
       "| Language_ID &lt;chr&gt; | Concept_ID &lt;chr&gt; | ASJP &lt;chr&gt; |\n",
       "|---|---|---|\n",
       "| fin | Auge::N  | silmE |\n",
       "| fin | Ohr::N   | korwa |\n",
       "| fin | Nase::N  | nEnE  |\n",
       "| fin | Zahn::N  | hamas |\n",
       "| fin | Zunge::N | kiEli |\n",
       "| fin | Busen::N | rinta |\n",
       "\n"
      ],
      "text/plain": [
       "  Language_ID Concept_ID ASJP \n",
       "1 fin         Auge::N    silmE\n",
       "2 fin         Ohr::N     korwa\n",
       "3 fin         Nase::N    nEnE \n",
       "4 fin         Zahn::N    hamas\n",
       "5 fin         Zunge::N   kiEli\n",
       "6 fin         Busen::N   rinta"
      ]
     },
     "metadata": {},
     "output_type": "display_data"
    }
   ],
   "source": [
    "asjp_concepts = c(\"Auge::N\", \"Ohr::N\", \"Nase::N\", \"Zahn::N\", \"Zunge::N\",\n",
    "                  \"Busen::N\", \"Hand::N\", \"Knie::N\", \"Haut::N\", \"Blut::N\", \n",
    "                  \"Knochen::N\", \"Leber::N\", \"Sonne::N\", \"Stern::N\", \"Wasser::N\",\n",
    "                  \"Stein::N\", \"Feuer::N\", \"Berg::N\", \"Baum::N\", \"Blatt::N\",\n",
    "                  \"Horn::N\", \"Hund::N\", \"Fisch::N\", \"Laus::N\", \"Mensch::N\", \n",
    "                  \"Name::N\", \"Pfad::N\", \"Nacht::N\", \"voll::A\", \"neu::A\", \n",
    "                  \"ich::PRN\", \"du::PRN\", \"wir::PRN\", \"eins::NUM\", \"zwei::NUM\",\n",
    "                  \"trinken::V\", \"sterben::V\", \"kommen::V\", \"sehen::V\", \n",
    "                  \"hören::V\")\n",
    "\n",
    "conceptdata = filter(conceptdata, Concept_ID %in% asjp_concepts)\n",
    "head(conceptdata)"
   ]
  },
  {
   "cell_type": "markdown",
   "id": "2b239c0e",
   "metadata": {},
   "source": [
    "***\n",
    "Get the iso codes of all the languages."
   ]
  },
  {
   "cell_type": "code",
   "execution_count": 7,
   "id": "39e0dd98",
   "metadata": {},
   "outputs": [
    {
     "data": {
      "text/html": [
       "<table class=\"dataframe\">\n",
       "<caption>A tibble: 6 × 1</caption>\n",
       "<thead>\n",
       "\t<tr><th scope=col>iso_code</th></tr>\n",
       "\t<tr><th scope=col>&lt;chr&gt;</th></tr>\n",
       "</thead>\n",
       "<tbody>\n",
       "\t<tr><td>fin</td></tr>\n",
       "\t<tr><td>krl</td></tr>\n",
       "\t<tr><td>olo</td></tr>\n",
       "\t<tr><td>vep</td></tr>\n",
       "\t<tr><td>ekk</td></tr>\n",
       "\t<tr><td>liv</td></tr>\n",
       "</tbody>\n",
       "</table>\n"
      ],
      "text/latex": [
       "A tibble: 6 × 1\n",
       "\\begin{tabular}{l}\n",
       " iso\\_code\\\\\n",
       " <chr>\\\\\n",
       "\\hline\n",
       "\t fin\\\\\n",
       "\t krl\\\\\n",
       "\t olo\\\\\n",
       "\t vep\\\\\n",
       "\t ekk\\\\\n",
       "\t liv\\\\\n",
       "\\end{tabular}\n"
      ],
      "text/markdown": [
       "\n",
       "A tibble: 6 × 1\n",
       "\n",
       "| iso_code &lt;chr&gt; |\n",
       "|---|\n",
       "| fin |\n",
       "| krl |\n",
       "| olo |\n",
       "| vep |\n",
       "| ekk |\n",
       "| liv |\n",
       "\n"
      ],
      "text/plain": [
       "  iso_code\n",
       "1 fin     \n",
       "2 krl     \n",
       "3 olo     \n",
       "4 vep     \n",
       "5 ekk     \n",
       "6 liv     "
      ]
     },
     "metadata": {},
     "output_type": "display_data"
    }
   ],
   "source": [
    "languages = raw_geodata %>% select(iso_code)\n",
    "head(languages)"
   ]
  },
  {
   "cell_type": "markdown",
   "id": "16a8eeb5",
   "metadata": {},
   "source": [
    "***\n",
    "For each language, compile a list of the concepts and the corresponding word(s) for that concept."
   ]
  },
  {
   "cell_type": "code",
   "execution_count": 8,
   "id": "c73b8335",
   "metadata": {},
   "outputs": [],
   "source": [
    "language_params = list()\n",
    "for (i in 1:nrow(languages)) {\n",
    "    lang = \n",
    "        conceptdata %>%\n",
    "        filter(Language_ID == languages$iso_code[i]) %>%\n",
    "        select(Concept_ID, ASJP)\n",
    "    language_params[[i]] = lang\n",
    "}"
   ]
  },
  {
   "cell_type": "markdown",
   "id": "a5ce893a",
   "metadata": {},
   "source": [
    "***\n",
    "Create a matrix to store the pairwise language distances."
   ]
  },
  {
   "cell_type": "code",
   "execution_count": 9,
   "id": "4f67569b",
   "metadata": {},
   "outputs": [],
   "source": [
    "ldn_dists = \n",
    "    matrix(0, nrow(languages), nrow(languages))"
   ]
  },
  {
   "cell_type": "markdown",
   "id": "b9e71f6f",
   "metadata": {},
   "source": [
    "***\n",
    "Vectorize the *adist* function to use it with the *mutate* function from the *dplyr* package. *Adist* calculates the Levenshtein distance of two words."
   ]
  },
  {
   "cell_type": "code",
   "execution_count": 10,
   "id": "898f7e03",
   "metadata": {},
   "outputs": [],
   "source": [
    "adist_v = Vectorize(adist)"
   ]
  },
  {
   "cell_type": "markdown",
   "id": "76936595",
   "metadata": {},
   "source": [
    "***\n",
    "This next block calculates the normalized Levenshtein distance (LDN) between words for the same concept & then averages across all 40 concepts, to return pairwise language distances (Like in the prior paper, but with more concise code, taking advantage of tidyverse's tibbles; should take about two minutes to run)."
   ]
  },
  {
   "cell_type": "code",
   "execution_count": 11,
   "id": "5309f4d6",
   "metadata": {
    "scrolled": true
   },
   "outputs": [
    {
     "data": {
      "text/html": [
       "<table class=\"dataframe\">\n",
       "<caption>A matrix: 6 × 107 of type dbl</caption>\n",
       "<tbody>\n",
       "\t<tr><td>0.0000000</td><td>0.1331548</td><td>0.2214286</td><td>0.3420238</td><td>0.3494643</td><td>0.4164286</td><td>0.6958929</td><td>0.7836310</td><td>0.7352381</td><td>0.7301190</td><td>⋯</td><td>0.9576058</td><td>0.9422619</td><td>0.8884005</td><td>0.8855782</td><td>0.8780566</td><td>0.8749660</td><td>0.9318182</td><td>0.9045238</td><td>0.9308333</td><td>0.8645238</td></tr>\n",
       "\t<tr><td>0.1331548</td><td>0.0000000</td><td>0.1704167</td><td>0.3068750</td><td>0.2984524</td><td>0.4074405</td><td>0.6870238</td><td>0.7527976</td><td>0.7094048</td><td>0.7019048</td><td>⋯</td><td>0.9464947</td><td>0.9525132</td><td>0.8923077</td><td>0.9097279</td><td>0.8819820</td><td>0.8885714</td><td>0.9385749</td><td>0.8962500</td><td>0.9258333</td><td>0.8675000</td></tr>\n",
       "\t<tr><td>0.2214286</td><td>0.1704167</td><td>0.0000000</td><td>0.2579167</td><td>0.3358333</td><td>0.4270833</td><td>0.7066071</td><td>0.7757143</td><td>0.7291071</td><td>0.7170833</td><td>⋯</td><td>0.9685185</td><td>0.9434524</td><td>0.8970085</td><td>0.8990476</td><td>0.8747748</td><td>0.8857143</td><td>0.9335790</td><td>0.8958333</td><td>0.9166667</td><td>0.8562500</td></tr>\n",
       "\t<tr><td>0.3420238</td><td>0.3068750</td><td>0.2579167</td><td>0.0000000</td><td>0.2787202</td><td>0.3767560</td><td>0.7005655</td><td>0.8084226</td><td>0.7714286</td><td>0.7441369</td><td>⋯</td><td>0.9564815</td><td>0.9383598</td><td>0.8833333</td><td>0.9144898</td><td>0.9058559</td><td>0.9245238</td><td>0.9416871</td><td>0.8858333</td><td>0.9179167</td><td>0.8914583</td></tr>\n",
       "\t<tr><td>0.3494643</td><td>0.2984524</td><td>0.3358333</td><td>0.2787202</td><td>0.0000000</td><td>0.4129167</td><td>0.7494048</td><td>0.7984226</td><td>0.7551190</td><td>0.7358929</td><td>⋯</td><td>0.9439815</td><td>0.9250992</td><td>0.8749084</td><td>0.8936735</td><td>0.8843629</td><td>0.9111565</td><td>0.9369662</td><td>0.8901190</td><td>0.9142857</td><td>0.8660119</td></tr>\n",
       "\t<tr><td>0.4164286</td><td>0.4074405</td><td>0.4270833</td><td>0.3767560</td><td>0.4129167</td><td>0.0000000</td><td>0.7159821</td><td>0.8024107</td><td>0.7757738</td><td>0.7560714</td><td>⋯</td><td>0.9337963</td><td>0.9455357</td><td>0.9110501</td><td>0.8944218</td><td>0.9073359</td><td>0.9102041</td><td>0.9376740</td><td>0.8978571</td><td>0.9172024</td><td>0.8950000</td></tr>\n",
       "</tbody>\n",
       "</table>\n"
      ],
      "text/latex": [
       "A matrix: 6 × 107 of type dbl\n",
       "\\begin{tabular}{lllllllllllllllllllll}\n",
       "\t 0.0000000 & 0.1331548 & 0.2214286 & 0.3420238 & 0.3494643 & 0.4164286 & 0.6958929 & 0.7836310 & 0.7352381 & 0.7301190 & ⋯ & 0.9576058 & 0.9422619 & 0.8884005 & 0.8855782 & 0.8780566 & 0.8749660 & 0.9318182 & 0.9045238 & 0.9308333 & 0.8645238\\\\\n",
       "\t 0.1331548 & 0.0000000 & 0.1704167 & 0.3068750 & 0.2984524 & 0.4074405 & 0.6870238 & 0.7527976 & 0.7094048 & 0.7019048 & ⋯ & 0.9464947 & 0.9525132 & 0.8923077 & 0.9097279 & 0.8819820 & 0.8885714 & 0.9385749 & 0.8962500 & 0.9258333 & 0.8675000\\\\\n",
       "\t 0.2214286 & 0.1704167 & 0.0000000 & 0.2579167 & 0.3358333 & 0.4270833 & 0.7066071 & 0.7757143 & 0.7291071 & 0.7170833 & ⋯ & 0.9685185 & 0.9434524 & 0.8970085 & 0.8990476 & 0.8747748 & 0.8857143 & 0.9335790 & 0.8958333 & 0.9166667 & 0.8562500\\\\\n",
       "\t 0.3420238 & 0.3068750 & 0.2579167 & 0.0000000 & 0.2787202 & 0.3767560 & 0.7005655 & 0.8084226 & 0.7714286 & 0.7441369 & ⋯ & 0.9564815 & 0.9383598 & 0.8833333 & 0.9144898 & 0.9058559 & 0.9245238 & 0.9416871 & 0.8858333 & 0.9179167 & 0.8914583\\\\\n",
       "\t 0.3494643 & 0.2984524 & 0.3358333 & 0.2787202 & 0.0000000 & 0.4129167 & 0.7494048 & 0.7984226 & 0.7551190 & 0.7358929 & ⋯ & 0.9439815 & 0.9250992 & 0.8749084 & 0.8936735 & 0.8843629 & 0.9111565 & 0.9369662 & 0.8901190 & 0.9142857 & 0.8660119\\\\\n",
       "\t 0.4164286 & 0.4074405 & 0.4270833 & 0.3767560 & 0.4129167 & 0.0000000 & 0.7159821 & 0.8024107 & 0.7757738 & 0.7560714 & ⋯ & 0.9337963 & 0.9455357 & 0.9110501 & 0.8944218 & 0.9073359 & 0.9102041 & 0.9376740 & 0.8978571 & 0.9172024 & 0.8950000\\\\\n",
       "\\end{tabular}\n"
      ],
      "text/markdown": [
       "\n",
       "A matrix: 6 × 107 of type dbl\n",
       "\n",
       "| 0.0000000 | 0.1331548 | 0.2214286 | 0.3420238 | 0.3494643 | 0.4164286 | 0.6958929 | 0.7836310 | 0.7352381 | 0.7301190 | ⋯ | 0.9576058 | 0.9422619 | 0.8884005 | 0.8855782 | 0.8780566 | 0.8749660 | 0.9318182 | 0.9045238 | 0.9308333 | 0.8645238 |\n",
       "| 0.1331548 | 0.0000000 | 0.1704167 | 0.3068750 | 0.2984524 | 0.4074405 | 0.6870238 | 0.7527976 | 0.7094048 | 0.7019048 | ⋯ | 0.9464947 | 0.9525132 | 0.8923077 | 0.9097279 | 0.8819820 | 0.8885714 | 0.9385749 | 0.8962500 | 0.9258333 | 0.8675000 |\n",
       "| 0.2214286 | 0.1704167 | 0.0000000 | 0.2579167 | 0.3358333 | 0.4270833 | 0.7066071 | 0.7757143 | 0.7291071 | 0.7170833 | ⋯ | 0.9685185 | 0.9434524 | 0.8970085 | 0.8990476 | 0.8747748 | 0.8857143 | 0.9335790 | 0.8958333 | 0.9166667 | 0.8562500 |\n",
       "| 0.3420238 | 0.3068750 | 0.2579167 | 0.0000000 | 0.2787202 | 0.3767560 | 0.7005655 | 0.8084226 | 0.7714286 | 0.7441369 | ⋯ | 0.9564815 | 0.9383598 | 0.8833333 | 0.9144898 | 0.9058559 | 0.9245238 | 0.9416871 | 0.8858333 | 0.9179167 | 0.8914583 |\n",
       "| 0.3494643 | 0.2984524 | 0.3358333 | 0.2787202 | 0.0000000 | 0.4129167 | 0.7494048 | 0.7984226 | 0.7551190 | 0.7358929 | ⋯ | 0.9439815 | 0.9250992 | 0.8749084 | 0.8936735 | 0.8843629 | 0.9111565 | 0.9369662 | 0.8901190 | 0.9142857 | 0.8660119 |\n",
       "| 0.4164286 | 0.4074405 | 0.4270833 | 0.3767560 | 0.4129167 | 0.0000000 | 0.7159821 | 0.8024107 | 0.7757738 | 0.7560714 | ⋯ | 0.9337963 | 0.9455357 | 0.9110501 | 0.8944218 | 0.9073359 | 0.9102041 | 0.9376740 | 0.8978571 | 0.9172024 | 0.8950000 |\n",
       "\n"
      ],
      "text/plain": [
       "     [,1]      [,2]      [,3]      [,4]      [,5]      [,6]      [,7]     \n",
       "[1,] 0.0000000 0.1331548 0.2214286 0.3420238 0.3494643 0.4164286 0.6958929\n",
       "[2,] 0.1331548 0.0000000 0.1704167 0.3068750 0.2984524 0.4074405 0.6870238\n",
       "[3,] 0.2214286 0.1704167 0.0000000 0.2579167 0.3358333 0.4270833 0.7066071\n",
       "[4,] 0.3420238 0.3068750 0.2579167 0.0000000 0.2787202 0.3767560 0.7005655\n",
       "[5,] 0.3494643 0.2984524 0.3358333 0.2787202 0.0000000 0.4129167 0.7494048\n",
       "[6,] 0.4164286 0.4074405 0.4270833 0.3767560 0.4129167 0.0000000 0.7159821\n",
       "     [,8]      [,9]      [,10]     [,11] [,12]     [,13]     [,14]    \n",
       "[1,] 0.7836310 0.7352381 0.7301190 ⋯     0.9576058 0.9422619 0.8884005\n",
       "[2,] 0.7527976 0.7094048 0.7019048 ⋯     0.9464947 0.9525132 0.8923077\n",
       "[3,] 0.7757143 0.7291071 0.7170833 ⋯     0.9685185 0.9434524 0.8970085\n",
       "[4,] 0.8084226 0.7714286 0.7441369 ⋯     0.9564815 0.9383598 0.8833333\n",
       "[5,] 0.7984226 0.7551190 0.7358929 ⋯     0.9439815 0.9250992 0.8749084\n",
       "[6,] 0.8024107 0.7757738 0.7560714 ⋯     0.9337963 0.9455357 0.9110501\n",
       "     [,15]     [,16]     [,17]     [,18]     [,19]     [,20]     [,21]    \n",
       "[1,] 0.8855782 0.8780566 0.8749660 0.9318182 0.9045238 0.9308333 0.8645238\n",
       "[2,] 0.9097279 0.8819820 0.8885714 0.9385749 0.8962500 0.9258333 0.8675000\n",
       "[3,] 0.8990476 0.8747748 0.8857143 0.9335790 0.8958333 0.9166667 0.8562500\n",
       "[4,] 0.9144898 0.9058559 0.9245238 0.9416871 0.8858333 0.9179167 0.8914583\n",
       "[5,] 0.8936735 0.8843629 0.9111565 0.9369662 0.8901190 0.9142857 0.8660119\n",
       "[6,] 0.8944218 0.9073359 0.9102041 0.9376740 0.8978571 0.9172024 0.8950000"
      ]
     },
     "metadata": {},
     "output_type": "display_data"
    }
   ],
   "source": [
    "for (i in 1:(nrow(languages) - 1)) {\n",
    "    for (j in (i + 1):nrow(languages)) {\n",
    "        # creates a tibble comparing two languages\n",
    "        joined_tibble = \n",
    "            inner_join(language_params[[i]], language_params[[j]], by=c(\"Concept_ID\" = \"Concept_ID\")) %>%\n",
    "      \n",
    "            # calculate the LND between words representing the same concept (vectorized adist comes into play here)\n",
    "            mutate(avg_levenshtein_dist = adist_v(ASJP.x, ASJP.y) / pmax(nchar(ASJP.x), nchar(ASJP.y))) %>%\n",
    "      \n",
    "            # if there are multiple word pairs for a concept, only keep the pair with the lowest distance\n",
    "            group_by(Concept_ID) %>%\n",
    "            slice_min(order_by = avg_levenshtein_dist, with_ties = F)\n",
    "    \n",
    "    # the mean of all the concept distances is the language distance\n",
    "    ldn_dists[i, j] = ldn_dists[j, i] = mean(joined_tibble$avg_levenshtein_dist)\n",
    "    }\n",
    "}\n",
    "\n",
    "head(ldn_dists)"
   ]
  },
  {
   "cell_type": "markdown",
   "id": "2ceeac94",
   "metadata": {},
   "source": [
    "***\n",
    "Save the distances in a csv file."
   ]
  },
  {
   "cell_type": "code",
   "execution_count": 12,
   "id": "3199a4ca",
   "metadata": {},
   "outputs": [],
   "source": [
    "write.csv(ldn_dists, \"./language_distances/ldn_dists.csv\", row.names = FALSE)"
   ]
  },
  {
   "cell_type": "markdown",
   "id": "a32bbd1f",
   "metadata": {},
   "source": [
    "***\n",
    "Create a Matrix for the Levenshtein distance normalized divided (LDND)."
   ]
  },
  {
   "cell_type": "code",
   "execution_count": 13,
   "id": "c59393e7",
   "metadata": {},
   "outputs": [],
   "source": [
    "ldnd_dists =\n",
    "    matrix(0, nrow(languages), nrow(languages))"
   ]
  },
  {
   "cell_type": "markdown",
   "id": "bb00e244",
   "metadata": {},
   "source": [
    "***\n",
    "Starts with the same code block as the calculation of LDN. But additionally, all non-synonymous word pair distances are also computed. The LDN is then divided by the mean of these non-synonymous distances, resulting in LDND (may take 5-10 minutes)."
   ]
  },
  {
   "cell_type": "code",
   "execution_count": 14,
   "id": "b81218e2",
   "metadata": {},
   "outputs": [
    {
     "data": {
      "text/html": [
       "<table class=\"dataframe\">\n",
       "<caption>A matrix: 6 × 107 of type dbl</caption>\n",
       "<tbody>\n",
       "\t<tr><td>0.0000000</td><td>0.1579734</td><td>0.2620130</td><td>0.3931308</td><td>0.3968384</td><td>0.4709688</td><td>0.8080191</td><td>0.8782206</td><td>0.8490529</td><td>0.8404573</td><td>⋯</td><td>1.013777</td><td>1.015846</td><td>0.9900241</td><td>0.9775972</td><td>0.9381607</td><td>0.9940535</td><td>0.9870627</td><td>0.9941389</td><td>1.0154748</td><td>0.9449136</td></tr>\n",
       "\t<tr><td>0.1579734</td><td>0.0000000</td><td>0.2036281</td><td>0.3550604</td><td>0.3404945</td><td>0.4620941</td><td>0.7994501</td><td>0.8480265</td><td>0.8270263</td><td>0.8120653</td><td>⋯</td><td>1.008669</td><td>1.025167</td><td>0.9959903</td><td>1.0064391</td><td>0.9457668</td><td>1.0127221</td><td>0.9926387</td><td>0.9943814</td><td>1.0167547</td><td>0.9473905</td></tr>\n",
       "\t<tr><td>0.2620130</td><td>0.2036281</td><td>0.0000000</td><td>0.2974513</td><td>0.3813807</td><td>0.4811718</td><td>0.8229075</td><td>0.8636491</td><td>0.8464200</td><td>0.8291312</td><td>⋯</td><td>1.019086</td><td>1.013200</td><td>0.9999212</td><td>0.9907112</td><td>0.9352526</td><td>1.0091758</td><td>0.9879100</td><td>0.9802088</td><td>1.0026879</td><td>0.9405365</td></tr>\n",
       "\t<tr><td>0.3931308</td><td>0.3550604</td><td>0.2974513</td><td>0.0000000</td><td>0.3117212</td><td>0.4254044</td><td>0.7987945</td><td>0.9032555</td><td>0.8704120</td><td>0.8407602</td><td>⋯</td><td>1.023395</td><td>1.006924</td><td>0.9651291</td><td>1.0012267</td><td>0.9716997</td><td>1.0229981</td><td>0.9929986</td><td>0.9729577</td><td>1.0106634</td><td>0.9608312</td></tr>\n",
       "\t<tr><td>0.3968384</td><td>0.3404945</td><td>0.3813807</td><td>0.3117212</td><td>0.0000000</td><td>0.4600719</td><td>0.8242966</td><td>0.8804042</td><td>0.8534376</td><td>0.8359287</td><td>⋯</td><td>1.010537</td><td>1.007382</td><td>0.9671672</td><td>0.9794530</td><td>0.9630825</td><td>1.0266077</td><td>0.9936553</td><td>0.9926387</td><td>0.9938399</td><td>0.9289986</td></tr>\n",
       "\t<tr><td>0.4709688</td><td>0.4620941</td><td>0.4811718</td><td>0.4254044</td><td>0.4600719</td><td>0.0000000</td><td>0.7963237</td><td>0.8984228</td><td>0.8719805</td><td>0.8554732</td><td>⋯</td><td>1.007992</td><td>1.016376</td><td>0.9945735</td><td>0.9784430</td><td>0.9774791</td><td>1.0079386</td><td>0.9986236</td><td>0.9926698</td><td>1.0100068</td><td>0.9641235</td></tr>\n",
       "</tbody>\n",
       "</table>\n"
      ],
      "text/latex": [
       "A matrix: 6 × 107 of type dbl\n",
       "\\begin{tabular}{lllllllllllllllllllll}\n",
       "\t 0.0000000 & 0.1579734 & 0.2620130 & 0.3931308 & 0.3968384 & 0.4709688 & 0.8080191 & 0.8782206 & 0.8490529 & 0.8404573 & ⋯ & 1.013777 & 1.015846 & 0.9900241 & 0.9775972 & 0.9381607 & 0.9940535 & 0.9870627 & 0.9941389 & 1.0154748 & 0.9449136\\\\\n",
       "\t 0.1579734 & 0.0000000 & 0.2036281 & 0.3550604 & 0.3404945 & 0.4620941 & 0.7994501 & 0.8480265 & 0.8270263 & 0.8120653 & ⋯ & 1.008669 & 1.025167 & 0.9959903 & 1.0064391 & 0.9457668 & 1.0127221 & 0.9926387 & 0.9943814 & 1.0167547 & 0.9473905\\\\\n",
       "\t 0.2620130 & 0.2036281 & 0.0000000 & 0.2974513 & 0.3813807 & 0.4811718 & 0.8229075 & 0.8636491 & 0.8464200 & 0.8291312 & ⋯ & 1.019086 & 1.013200 & 0.9999212 & 0.9907112 & 0.9352526 & 1.0091758 & 0.9879100 & 0.9802088 & 1.0026879 & 0.9405365\\\\\n",
       "\t 0.3931308 & 0.3550604 & 0.2974513 & 0.0000000 & 0.3117212 & 0.4254044 & 0.7987945 & 0.9032555 & 0.8704120 & 0.8407602 & ⋯ & 1.023395 & 1.006924 & 0.9651291 & 1.0012267 & 0.9716997 & 1.0229981 & 0.9929986 & 0.9729577 & 1.0106634 & 0.9608312\\\\\n",
       "\t 0.3968384 & 0.3404945 & 0.3813807 & 0.3117212 & 0.0000000 & 0.4600719 & 0.8242966 & 0.8804042 & 0.8534376 & 0.8359287 & ⋯ & 1.010537 & 1.007382 & 0.9671672 & 0.9794530 & 0.9630825 & 1.0266077 & 0.9936553 & 0.9926387 & 0.9938399 & 0.9289986\\\\\n",
       "\t 0.4709688 & 0.4620941 & 0.4811718 & 0.4254044 & 0.4600719 & 0.0000000 & 0.7963237 & 0.8984228 & 0.8719805 & 0.8554732 & ⋯ & 1.007992 & 1.016376 & 0.9945735 & 0.9784430 & 0.9774791 & 1.0079386 & 0.9986236 & 0.9926698 & 1.0100068 & 0.9641235\\\\\n",
       "\\end{tabular}\n"
      ],
      "text/markdown": [
       "\n",
       "A matrix: 6 × 107 of type dbl\n",
       "\n",
       "| 0.0000000 | 0.1579734 | 0.2620130 | 0.3931308 | 0.3968384 | 0.4709688 | 0.8080191 | 0.8782206 | 0.8490529 | 0.8404573 | ⋯ | 1.013777 | 1.015846 | 0.9900241 | 0.9775972 | 0.9381607 | 0.9940535 | 0.9870627 | 0.9941389 | 1.0154748 | 0.9449136 |\n",
       "| 0.1579734 | 0.0000000 | 0.2036281 | 0.3550604 | 0.3404945 | 0.4620941 | 0.7994501 | 0.8480265 | 0.8270263 | 0.8120653 | ⋯ | 1.008669 | 1.025167 | 0.9959903 | 1.0064391 | 0.9457668 | 1.0127221 | 0.9926387 | 0.9943814 | 1.0167547 | 0.9473905 |\n",
       "| 0.2620130 | 0.2036281 | 0.0000000 | 0.2974513 | 0.3813807 | 0.4811718 | 0.8229075 | 0.8636491 | 0.8464200 | 0.8291312 | ⋯ | 1.019086 | 1.013200 | 0.9999212 | 0.9907112 | 0.9352526 | 1.0091758 | 0.9879100 | 0.9802088 | 1.0026879 | 0.9405365 |\n",
       "| 0.3931308 | 0.3550604 | 0.2974513 | 0.0000000 | 0.3117212 | 0.4254044 | 0.7987945 | 0.9032555 | 0.8704120 | 0.8407602 | ⋯ | 1.023395 | 1.006924 | 0.9651291 | 1.0012267 | 0.9716997 | 1.0229981 | 0.9929986 | 0.9729577 | 1.0106634 | 0.9608312 |\n",
       "| 0.3968384 | 0.3404945 | 0.3813807 | 0.3117212 | 0.0000000 | 0.4600719 | 0.8242966 | 0.8804042 | 0.8534376 | 0.8359287 | ⋯ | 1.010537 | 1.007382 | 0.9671672 | 0.9794530 | 0.9630825 | 1.0266077 | 0.9936553 | 0.9926387 | 0.9938399 | 0.9289986 |\n",
       "| 0.4709688 | 0.4620941 | 0.4811718 | 0.4254044 | 0.4600719 | 0.0000000 | 0.7963237 | 0.8984228 | 0.8719805 | 0.8554732 | ⋯ | 1.007992 | 1.016376 | 0.9945735 | 0.9784430 | 0.9774791 | 1.0079386 | 0.9986236 | 0.9926698 | 1.0100068 | 0.9641235 |\n",
       "\n"
      ],
      "text/plain": [
       "     [,1]      [,2]      [,3]      [,4]      [,5]      [,6]      [,7]     \n",
       "[1,] 0.0000000 0.1579734 0.2620130 0.3931308 0.3968384 0.4709688 0.8080191\n",
       "[2,] 0.1579734 0.0000000 0.2036281 0.3550604 0.3404945 0.4620941 0.7994501\n",
       "[3,] 0.2620130 0.2036281 0.0000000 0.2974513 0.3813807 0.4811718 0.8229075\n",
       "[4,] 0.3931308 0.3550604 0.2974513 0.0000000 0.3117212 0.4254044 0.7987945\n",
       "[5,] 0.3968384 0.3404945 0.3813807 0.3117212 0.0000000 0.4600719 0.8242966\n",
       "[6,] 0.4709688 0.4620941 0.4811718 0.4254044 0.4600719 0.0000000 0.7963237\n",
       "     [,8]      [,9]      [,10]     [,11] [,12]    [,13]    [,14]     [,15]    \n",
       "[1,] 0.8782206 0.8490529 0.8404573 ⋯     1.013777 1.015846 0.9900241 0.9775972\n",
       "[2,] 0.8480265 0.8270263 0.8120653 ⋯     1.008669 1.025167 0.9959903 1.0064391\n",
       "[3,] 0.8636491 0.8464200 0.8291312 ⋯     1.019086 1.013200 0.9999212 0.9907112\n",
       "[4,] 0.9032555 0.8704120 0.8407602 ⋯     1.023395 1.006924 0.9651291 1.0012267\n",
       "[5,] 0.8804042 0.8534376 0.8359287 ⋯     1.010537 1.007382 0.9671672 0.9794530\n",
       "[6,] 0.8984228 0.8719805 0.8554732 ⋯     1.007992 1.016376 0.9945735 0.9784430\n",
       "     [,16]     [,17]     [,18]     [,19]     [,20]     [,21]    \n",
       "[1,] 0.9381607 0.9940535 0.9870627 0.9941389 1.0154748 0.9449136\n",
       "[2,] 0.9457668 1.0127221 0.9926387 0.9943814 1.0167547 0.9473905\n",
       "[3,] 0.9352526 1.0091758 0.9879100 0.9802088 1.0026879 0.9405365\n",
       "[4,] 0.9716997 1.0229981 0.9929986 0.9729577 1.0106634 0.9608312\n",
       "[5,] 0.9630825 1.0266077 0.9936553 0.9926387 0.9938399 0.9289986\n",
       "[6,] 0.9774791 1.0079386 0.9986236 0.9926698 1.0100068 0.9641235"
      ]
     },
     "metadata": {},
     "output_type": "display_data"
    }
   ],
   "source": [
    "for (i in 1:(nrow(languages) - 1)) {\n",
    "    for (j in (i + 1):nrow(languages)) {\n",
    "        joined_tibble = \n",
    "            inner_join(language_params[[i]], language_params[[j]], by=c(\"Concept_ID\" = \"Concept_ID\")) %>%\n",
    "            mutate(avg_levenshtein_dist = adist_v(ASJP.x, ASJP.y) / pmax(nchar(ASJP.x), nchar(ASJP.y))) %>%\n",
    "            group_by(Concept_ID) %>%\n",
    "            slice_min(order_by = avg_levenshtein_dist, with_ties = F)\n",
    "      \n",
    "    gamma = 0\n",
    "    for (k in 1:nrow(joined_tibble)) {\n",
    "          for (l in 1:nrow(joined_tibble)) {\n",
    "              if(k == l){next}\n",
    "              # gamma is tracking the summed-up LDNs of non-synonymous word pairs\n",
    "              gamma = \n",
    "                  gamma + \n",
    "                  adist(joined_tibble$ASJP.x[k], joined_tibble$ASJP.y[l]) / \n",
    "                  max(nchar(joined_tibble$ASJP.x[k]), nchar(joined_tibble$ASJP.y[l]))\n",
    "        }\n",
    "    }\n",
    "    # divide by the number of calculated LDNs to get the average LDN for non-synoymous word pairs\n",
    "    gamma = gamma / (nrow(joined_tibble) * (nrow(joined_tibble) - 1))\n",
    "    # divide the LDNs by gamma, to get LDND\n",
    "    ldnd_dists[i, j] = ldnd_dists[j, i] =\n",
    "        mean(joined_tibble$avg_levenshtein_dist) / gamma\n",
    "  }\n",
    "}\n",
    "\n",
    "head(ldnd_dists)"
   ]
  },
  {
   "cell_type": "markdown",
   "id": "c1b49297",
   "metadata": {},
   "source": [
    "***\n",
    "Create another csv file."
   ]
  },
  {
   "cell_type": "code",
   "execution_count": 15,
   "id": "5b70ecb7",
   "metadata": {},
   "outputs": [],
   "source": [
    "write.csv(ldnd_dists, \"./language_distances/ldnd_dists.csv\", row.names = FALSE)"
   ]
  },
  {
   "cell_type": "markdown",
   "id": "8ff79e8e",
   "metadata": {},
   "source": [
    "***\n",
    "To calculate the next scores, the PMI scores between the ASJP sound classes are needed. If necessary, download the file with the PMI scores, then read them in."
   ]
  },
  {
   "cell_type": "code",
   "execution_count": 11,
   "id": "8744df2b",
   "metadata": {},
   "outputs": [
    {
     "data": {
      "text/html": [
       "<table class=\"dataframe\">\n",
       "<caption>A data.frame: 6 × 41</caption>\n",
       "<thead>\n",
       "\t<tr><th></th><th scope=col>!</th><th scope=col>3</th><th scope=col>4</th><th scope=col>5</th><th scope=col>7</th><th scope=col>8</th><th scope=col>C</th><th scope=col>E</th><th scope=col>G</th><th scope=col>L</th><th scope=col>⋯</th><th scope=col>q</th><th scope=col>r</th><th scope=col>s</th><th scope=col>t</th><th scope=col>u</th><th scope=col>v</th><th scope=col>w</th><th scope=col>x</th><th scope=col>y</th><th scope=col>z</th></tr>\n",
       "\t<tr><th></th><th scope=col>&lt;dbl&gt;</th><th scope=col>&lt;dbl&gt;</th><th scope=col>&lt;dbl&gt;</th><th scope=col>&lt;dbl&gt;</th><th scope=col>&lt;dbl&gt;</th><th scope=col>&lt;dbl&gt;</th><th scope=col>&lt;dbl&gt;</th><th scope=col>&lt;dbl&gt;</th><th scope=col>&lt;dbl&gt;</th><th scope=col>&lt;dbl&gt;</th><th scope=col>⋯</th><th scope=col>&lt;dbl&gt;</th><th scope=col>&lt;dbl&gt;</th><th scope=col>&lt;dbl&gt;</th><th scope=col>&lt;dbl&gt;</th><th scope=col>&lt;dbl&gt;</th><th scope=col>&lt;dbl&gt;</th><th scope=col>&lt;dbl&gt;</th><th scope=col>&lt;dbl&gt;</th><th scope=col>&lt;dbl&gt;</th><th scope=col>&lt;dbl&gt;</th></tr>\n",
       "</thead>\n",
       "<tbody>\n",
       "\t<tr><th scope=row>!</th><td> 5.1221920</td><td>-5.366628</td><td>-0.6660987</td><td>-3.8046271</td><td>-4.727376</td><td>-2.5387277</td><td>-4.173302</td><td>-4.8432118</td><td>-0.2110367</td><td>-3.087661</td><td>⋯</td><td>-3.633199</td><td>-5.777114</td><td>-5.4221885</td><td>-6.020425375</td><td>-6.4771753</td><td>-3.733401</td><td>-5.1084969</td><td>-4.0021361</td><td>-5.133982</td><td>-3.478218</td></tr>\n",
       "\t<tr><th scope=row>3</th><td>-5.3666279</td><td> 2.321213</td><td>-4.0673450</td><td>-4.9032883</td><td>-7.435475</td><td>-5.2468267</td><td>-6.881401</td><td>-0.5782361</td><td>-3.6122829</td><td>-6.488907</td><td>⋯</td><td>-5.088535</td><td>-8.485213</td><td>-7.0316753</td><td>-8.728524451</td><td>-0.6736969</td><td>-6.441500</td><td>-8.5097432</td><td>-7.4033824</td><td>-5.167933</td><td>-5.780852</td></tr>\n",
       "\t<tr><th scope=row>4</th><td>-0.6660987</td><td>-4.067345</td><td> 5.2679133</td><td> 0.8958533</td><td>-3.428093</td><td>-0.1408324</td><td>-2.874019</td><td>-3.5439288</td><td> 1.0882463</td><td>-1.788378</td><td>⋯</td><td>-2.333916</td><td>-4.477831</td><td>-4.1229056</td><td>-4.721142391</td><td>-5.1778923</td><td>-2.434118</td><td>-3.1160668</td><td>-2.7028531</td><td>-3.834699</td><td>-2.178935</td></tr>\n",
       "\t<tr><th scope=row>5</th><td>-3.8046271</td><td>-4.903288</td><td> 0.8958533</td><td> 3.9886589</td><td>-4.264036</td><td>-4.3779731</td><td>-3.373490</td><td>-6.6824572</td><td>-1.3571349</td><td>-2.624321</td><td>⋯</td><td>-5.472445</td><td>-4.182373</td><td>-7.2614340</td><td>-6.761058514</td><td>-8.3164207</td><td>-5.572647</td><td>-6.2545952</td><td>-5.8413815</td><td>-1.054334</td><td>-2.544875</td></tr>\n",
       "\t<tr><th scope=row>7</th><td>-4.7273756</td><td>-7.435475</td><td>-3.4280926</td><td>-4.2640360</td><td> 3.702041</td><td>-4.2021093</td><td>-4.855854</td><td>-5.6592956</td><td>-2.9730306</td><td>-2.111985</td><td>⋯</td><td> 2.268349</td><td>-2.326502</td><td>-1.3543887</td><td>-0.653834114</td><td>-9.2391692</td><td>-5.396783</td><td>-0.1478133</td><td>-0.3572501</td><td>-1.950556</td><td>-4.448453</td></tr>\n",
       "\t<tr><th scope=row>8</th><td>-2.5387277</td><td>-5.246827</td><td>-0.1408324</td><td>-4.3779731</td><td>-4.202109</td><td> 4.2922055</td><td>-2.348752</td><td>-4.7234106</td><td>-0.7843826</td><td> 1.221795</td><td>⋯</td><td>-3.513398</td><td>-0.785940</td><td> 0.6456476</td><td>-0.002097624</td><td>-7.0505213</td><td>-3.208135</td><td>-5.6818429</td><td>-3.8823349</td><td> 1.012892</td><td> 1.701008</td></tr>\n",
       "</tbody>\n",
       "</table>\n"
      ],
      "text/latex": [
       "A data.frame: 6 × 41\n",
       "\\begin{tabular}{r|lllllllllllllllllllll}\n",
       "  & ! & 3 & 4 & 5 & 7 & 8 & C & E & G & L & ⋯ & q & r & s & t & u & v & w & x & y & z\\\\\n",
       "  & <dbl> & <dbl> & <dbl> & <dbl> & <dbl> & <dbl> & <dbl> & <dbl> & <dbl> & <dbl> & ⋯ & <dbl> & <dbl> & <dbl> & <dbl> & <dbl> & <dbl> & <dbl> & <dbl> & <dbl> & <dbl>\\\\\n",
       "\\hline\n",
       "\t! &  5.1221920 & -5.366628 & -0.6660987 & -3.8046271 & -4.727376 & -2.5387277 & -4.173302 & -4.8432118 & -0.2110367 & -3.087661 & ⋯ & -3.633199 & -5.777114 & -5.4221885 & -6.020425375 & -6.4771753 & -3.733401 & -5.1084969 & -4.0021361 & -5.133982 & -3.478218\\\\\n",
       "\t3 & -5.3666279 &  2.321213 & -4.0673450 & -4.9032883 & -7.435475 & -5.2468267 & -6.881401 & -0.5782361 & -3.6122829 & -6.488907 & ⋯ & -5.088535 & -8.485213 & -7.0316753 & -8.728524451 & -0.6736969 & -6.441500 & -8.5097432 & -7.4033824 & -5.167933 & -5.780852\\\\\n",
       "\t4 & -0.6660987 & -4.067345 &  5.2679133 &  0.8958533 & -3.428093 & -0.1408324 & -2.874019 & -3.5439288 &  1.0882463 & -1.788378 & ⋯ & -2.333916 & -4.477831 & -4.1229056 & -4.721142391 & -5.1778923 & -2.434118 & -3.1160668 & -2.7028531 & -3.834699 & -2.178935\\\\\n",
       "\t5 & -3.8046271 & -4.903288 &  0.8958533 &  3.9886589 & -4.264036 & -4.3779731 & -3.373490 & -6.6824572 & -1.3571349 & -2.624321 & ⋯ & -5.472445 & -4.182373 & -7.2614340 & -6.761058514 & -8.3164207 & -5.572647 & -6.2545952 & -5.8413815 & -1.054334 & -2.544875\\\\\n",
       "\t7 & -4.7273756 & -7.435475 & -3.4280926 & -4.2640360 &  3.702041 & -4.2021093 & -4.855854 & -5.6592956 & -2.9730306 & -2.111985 & ⋯ &  2.268349 & -2.326502 & -1.3543887 & -0.653834114 & -9.2391692 & -5.396783 & -0.1478133 & -0.3572501 & -1.950556 & -4.448453\\\\\n",
       "\t8 & -2.5387277 & -5.246827 & -0.1408324 & -4.3779731 & -4.202109 &  4.2922055 & -2.348752 & -4.7234106 & -0.7843826 &  1.221795 & ⋯ & -3.513398 & -0.785940 &  0.6456476 & -0.002097624 & -7.0505213 & -3.208135 & -5.6818429 & -3.8823349 &  1.012892 &  1.701008\\\\\n",
       "\\end{tabular}\n"
      ],
      "text/markdown": [
       "\n",
       "A data.frame: 6 × 41\n",
       "\n",
       "| <!--/--> | ! &lt;dbl&gt; | 3 &lt;dbl&gt; | 4 &lt;dbl&gt; | 5 &lt;dbl&gt; | 7 &lt;dbl&gt; | 8 &lt;dbl&gt; | C &lt;dbl&gt; | E &lt;dbl&gt; | G &lt;dbl&gt; | L &lt;dbl&gt; | ⋯ ⋯ | q &lt;dbl&gt; | r &lt;dbl&gt; | s &lt;dbl&gt; | t &lt;dbl&gt; | u &lt;dbl&gt; | v &lt;dbl&gt; | w &lt;dbl&gt; | x &lt;dbl&gt; | y &lt;dbl&gt; | z &lt;dbl&gt; |\n",
       "|---|---|---|---|---|---|---|---|---|---|---|---|---|---|---|---|---|---|---|---|---|---|\n",
       "| ! |  5.1221920 | -5.366628 | -0.6660987 | -3.8046271 | -4.727376 | -2.5387277 | -4.173302 | -4.8432118 | -0.2110367 | -3.087661 | ⋯ | -3.633199 | -5.777114 | -5.4221885 | -6.020425375 | -6.4771753 | -3.733401 | -5.1084969 | -4.0021361 | -5.133982 | -3.478218 |\n",
       "| 3 | -5.3666279 |  2.321213 | -4.0673450 | -4.9032883 | -7.435475 | -5.2468267 | -6.881401 | -0.5782361 | -3.6122829 | -6.488907 | ⋯ | -5.088535 | -8.485213 | -7.0316753 | -8.728524451 | -0.6736969 | -6.441500 | -8.5097432 | -7.4033824 | -5.167933 | -5.780852 |\n",
       "| 4 | -0.6660987 | -4.067345 |  5.2679133 |  0.8958533 | -3.428093 | -0.1408324 | -2.874019 | -3.5439288 |  1.0882463 | -1.788378 | ⋯ | -2.333916 | -4.477831 | -4.1229056 | -4.721142391 | -5.1778923 | -2.434118 | -3.1160668 | -2.7028531 | -3.834699 | -2.178935 |\n",
       "| 5 | -3.8046271 | -4.903288 |  0.8958533 |  3.9886589 | -4.264036 | -4.3779731 | -3.373490 | -6.6824572 | -1.3571349 | -2.624321 | ⋯ | -5.472445 | -4.182373 | -7.2614340 | -6.761058514 | -8.3164207 | -5.572647 | -6.2545952 | -5.8413815 | -1.054334 | -2.544875 |\n",
       "| 7 | -4.7273756 | -7.435475 | -3.4280926 | -4.2640360 |  3.702041 | -4.2021093 | -4.855854 | -5.6592956 | -2.9730306 | -2.111985 | ⋯ |  2.268349 | -2.326502 | -1.3543887 | -0.653834114 | -9.2391692 | -5.396783 | -0.1478133 | -0.3572501 | -1.950556 | -4.448453 |\n",
       "| 8 | -2.5387277 | -5.246827 | -0.1408324 | -4.3779731 | -4.202109 |  4.2922055 | -2.348752 | -4.7234106 | -0.7843826 |  1.221795 | ⋯ | -3.513398 | -0.785940 |  0.6456476 | -0.002097624 | -7.0505213 | -3.208135 | -5.6818429 | -3.8823349 |  1.012892 |  1.701008 |\n",
       "\n"
      ],
      "text/plain": [
       "  !          3         4          5          7         8          C        \n",
       "!  5.1221920 -5.366628 -0.6660987 -3.8046271 -4.727376 -2.5387277 -4.173302\n",
       "3 -5.3666279  2.321213 -4.0673450 -4.9032883 -7.435475 -5.2468267 -6.881401\n",
       "4 -0.6660987 -4.067345  5.2679133  0.8958533 -3.428093 -0.1408324 -2.874019\n",
       "5 -3.8046271 -4.903288  0.8958533  3.9886589 -4.264036 -4.3779731 -3.373490\n",
       "7 -4.7273756 -7.435475 -3.4280926 -4.2640360  3.702041 -4.2021093 -4.855854\n",
       "8 -2.5387277 -5.246827 -0.1408324 -4.3779731 -4.202109  4.2922055 -2.348752\n",
       "  E          G          L         ⋯ q         r         s          t           \n",
       "! -4.8432118 -0.2110367 -3.087661 ⋯ -3.633199 -5.777114 -5.4221885 -6.020425375\n",
       "3 -0.5782361 -3.6122829 -6.488907 ⋯ -5.088535 -8.485213 -7.0316753 -8.728524451\n",
       "4 -3.5439288  1.0882463 -1.788378 ⋯ -2.333916 -4.477831 -4.1229056 -4.721142391\n",
       "5 -6.6824572 -1.3571349 -2.624321 ⋯ -5.472445 -4.182373 -7.2614340 -6.761058514\n",
       "7 -5.6592956 -2.9730306 -2.111985 ⋯  2.268349 -2.326502 -1.3543887 -0.653834114\n",
       "8 -4.7234106 -0.7843826  1.221795 ⋯ -3.513398 -0.785940  0.6456476 -0.002097624\n",
       "  u          v         w          x          y         z        \n",
       "! -6.4771753 -3.733401 -5.1084969 -4.0021361 -5.133982 -3.478218\n",
       "3 -0.6736969 -6.441500 -8.5097432 -7.4033824 -5.167933 -5.780852\n",
       "4 -5.1778923 -2.434118 -3.1160668 -2.7028531 -3.834699 -2.178935\n",
       "5 -8.3164207 -5.572647 -6.2545952 -5.8413815 -1.054334 -2.544875\n",
       "7 -9.2391692 -5.396783 -0.1478133 -0.3572501 -1.950556 -4.448453\n",
       "8 -7.0505213 -3.208135 -5.6818429 -3.8823349  1.012892  1.701008"
      ]
     },
     "metadata": {},
     "output_type": "display_data"
    }
   ],
   "source": [
    "PMI_data_loc = \"./data/pnas.1500331112.sd04.csv\"\n",
    "\n",
    "\n",
    "if(!file.exists(PMI_data_loc)) {\n",
    "  download.file(\n",
    "    \"http://www.pnas.org/lookup/suppl/doi:10.1073/pnas.1500331112/-/DCSupplemental/pnas.1500331112.sd04.csv\",\n",
    "    dest = PMI_data_loc\n",
    "  )\n",
    "}\n",
    "\n",
    "\n",
    "PMI_scores = read.table(\"./data/pnas.1500331112.sd04.csv\", sep = \",\", check.names=FALSE)\n",
    "\n",
    "head(PMI_scores)"
   ]
  },
  {
   "cell_type": "markdown",
   "id": "027c98fd",
   "metadata": {},
   "source": [
    "***\n",
    "Next, a function to calculate the affine gap score between two words is needed.\n",
    "\n",
    "The following R code has been adapted from the _affine_ function in the python **py_stringmatching** package; https://github.com/anhaidgroup/py_stringmatching/blob/master/py_stringmatching/similarity_measure/cython/cython_affine.pyx). \n",
    "\n",
    "The _gap_start_ and _gap_continuation_ values are taken from the paper _Phylogenetic Inference from Word Lists Using Weighted Alignment with Empirically Determined Weights_ by Gerhard Jäger (https://brill.com/view/journals/ldc/3/2/article-p245_4.xml?language=en)"
   ]
  },
  {
   "cell_type": "code",
   "execution_count": 12,
   "id": "d6dbf9bf",
   "metadata": {},
   "outputs": [],
   "source": [
    "affine <- function(word1, word2, gap_start = -2.4930, gap_continuation = -1.7057) {\n",
    "  \n",
    "  length1 = nchar(word1)\n",
    "  length2 = nchar(word2)\n",
    "  \n",
    "  m = matrix(0, length1 + 1, length2 + 1)\n",
    "  x = matrix(0, length1 + 1, length2 + 1)\n",
    "  y = matrix(0, length1 + 1, length2 + 1)\n",
    "  \n",
    "  for (i in 2:(length1 + 1)){\n",
    "    m[i, 1] = -Inf\n",
    "    x[i, 1] = gap_start + (i - 1) * gap_continuation\n",
    "    y[i, 1] = -Inf\n",
    "  } \n",
    "  \n",
    "  for (j in 2:(length2 + 1)){\n",
    "    m[1, j] = -Inf\n",
    "    x[1, j] = -Inf\n",
    "    y[1, j] = gap_start + (j - 1) * gap_continuation\n",
    "  }\n",
    "  \n",
    "  for (i in 2:(length1 + 1)){\n",
    "    for (j in 2:(length2 + 1)){\n",
    "      m[i,j] = PMI_scores[substr(word1, i - 1, i - 1), substr(word2, j - 1, j - 1)] +\n",
    "        max(m[i - 1, j - 1], x[i - 1, j - 1], y[i - 1, j - 1])\n",
    "      \n",
    "      x[i, j] = max(gap_start + m[i - 1, j], gap_continuation + x[i - 1, j])\n",
    "      \n",
    "      y[i, j] = max(gap_start + m[i, j - 1], gap_continuation + y[i, j - 1])      \n",
    "    }\n",
    "  }\n",
    "  \n",
    "  max(m[length1 + 1, length2 + 1], x[length1 + 1, length2 + 1], y[length1 + 1, length2 + 1])\n",
    "}"
   ]
  },
  {
   "cell_type": "markdown",
   "id": "30f152df",
   "metadata": {},
   "source": [
    "***\n",
    "The following two examples are taken from the paper _Support for linguistic macrofamilies from weighted sequence alignment_, also by Gerhard Jäger (https://www.pnas.org/doi/epdf/10.1073/pnas.1500331112). The affine gap results are identical to the results in the paper, therefore the implementation of the algorithm seems to be correct."
   ]
  },
  {
   "cell_type": "code",
   "execution_count": 13,
   "id": "52520656",
   "metadata": {},
   "outputs": [
    {
     "data": {
      "text/html": [
       "4.8043564256737"
      ],
      "text/latex": [
       "4.8043564256737"
      ],
      "text/markdown": [
       "4.8043564256737"
      ],
      "text/plain": [
       "[1] 4.804356"
      ]
     },
     "metadata": {},
     "output_type": "display_data"
    },
    {
     "data": {
      "text/html": [
       "-11.28491539753"
      ],
      "text/latex": [
       "-11.28491539753"
      ],
      "text/markdown": [
       "-11.28491539753"
      ],
      "text/plain": [
       "[1] -11.28492"
      ]
     },
     "metadata": {},
     "output_type": "display_data"
    }
   ],
   "source": [
    "affine(\"hEnd\", \"hant\")\n",
    "affine(\"mano\", \"hant\")"
   ]
  },
  {
   "cell_type": "markdown",
   "id": "44092904",
   "metadata": {},
   "source": [
    "***\n",
    "Before the distances between the languages are calculated, a matrix to store them is created."
   ]
  },
  {
   "cell_type": "code",
   "execution_count": 14,
   "id": "74c32ade",
   "metadata": {},
   "outputs": [],
   "source": [
    "pmi_based_dists = matrix(1, nrow(languages), nrow(languages))"
   ]
  },
  {
   "cell_type": "markdown",
   "id": "aa3f08ea",
   "metadata": {},
   "source": [
    "***\n",
    "Vectorize the affine function to use it with mutate."
   ]
  },
  {
   "cell_type": "code",
   "execution_count": 15,
   "id": "cdc5577d",
   "metadata": {},
   "outputs": [],
   "source": [
    "affine_v = Vectorize(affine)"
   ]
  },
  {
   "cell_type": "markdown",
   "id": "758ea8e4",
   "metadata": {},
   "source": [
    "***\n",
    "Now it's time to iterate through all language pairs and store the resulting language distances in the newly created matrix. The first block is again identical to the LDN & LDND calculations (Beware, the runtime of this block is very long. )"
   ]
  },
  {
   "cell_type": "code",
   "execution_count": 16,
   "id": "4becb42f",
   "metadata": {},
   "outputs": [
    {
     "data": {
      "text/html": [
       "<table class=\"dataframe\">\n",
       "<caption>A matrix: 6 × 107 of type dbl</caption>\n",
       "<tbody>\n",
       "\t<tr><td>1.0000000</td><td>0.2020306</td><td>0.2671554</td><td>0.3877505</td><td>0.2987612</td><td>0.4980926</td><td>0.9501134</td><td>1.130384</td><td>1.182634</td><td>1.143173</td><td>⋯</td><td>2.051201</td><td>2.049683</td><td>1.955936</td><td>1.729659</td><td>1.717902</td><td>2.156545</td><td>1.942527</td><td>2.093353</td><td>2.143394</td><td>1.638936</td></tr>\n",
       "\t<tr><td>0.2020306</td><td>1.0000000</td><td>0.2312442</td><td>0.3928244</td><td>0.2495400</td><td>0.4996734</td><td>0.8892533</td><td>1.056352</td><td>1.139539</td><td>1.097643</td><td>⋯</td><td>2.128409</td><td>2.051136</td><td>2.065297</td><td>1.855659</td><td>1.829116</td><td>2.220592</td><td>1.893201</td><td>2.079829</td><td>2.106067</td><td>1.743064</td></tr>\n",
       "\t<tr><td>0.2671554</td><td>0.2312442</td><td>1.0000000</td><td>0.3705025</td><td>0.3002269</td><td>0.4507320</td><td>0.9490869</td><td>1.126955</td><td>1.171226</td><td>1.141359</td><td>⋯</td><td>2.129995</td><td>1.962520</td><td>2.012011</td><td>1.764128</td><td>1.752981</td><td>2.128719</td><td>1.961556</td><td>1.896714</td><td>2.076663</td><td>1.701123</td></tr>\n",
       "\t<tr><td>0.3877505</td><td>0.3928244</td><td>0.3705025</td><td>1.0000000</td><td>0.3734886</td><td>0.5237560</td><td>1.0676698</td><td>1.252276</td><td>1.231458</td><td>1.197169</td><td>⋯</td><td>2.049211</td><td>2.127150</td><td>2.073315</td><td>1.951704</td><td>1.923538</td><td>2.306704</td><td>2.020159</td><td>2.193510</td><td>2.124377</td><td>1.882367</td></tr>\n",
       "\t<tr><td>0.2987612</td><td>0.2495400</td><td>0.3002269</td><td>0.3734886</td><td>1.0000000</td><td>0.4186482</td><td>0.9189513</td><td>1.030004</td><td>1.110358</td><td>1.121856</td><td>⋯</td><td>1.979511</td><td>1.983815</td><td>2.054011</td><td>1.751842</td><td>1.797844</td><td>2.251170</td><td>1.913400</td><td>2.025316</td><td>2.025773</td><td>1.746150</td></tr>\n",
       "\t<tr><td>0.4980926</td><td>0.4996734</td><td>0.4507320</td><td>0.5237560</td><td>0.4186482</td><td>1.0000000</td><td>1.0113933</td><td>1.120942</td><td>1.170445</td><td>1.121669</td><td>⋯</td><td>2.143556</td><td>1.995187</td><td>2.098740</td><td>1.813570</td><td>1.867573</td><td>2.212761</td><td>1.883280</td><td>2.218564</td><td>2.241535</td><td>1.869677</td></tr>\n",
       "</tbody>\n",
       "</table>\n"
      ],
      "text/latex": [
       "A matrix: 6 × 107 of type dbl\n",
       "\\begin{tabular}{lllllllllllllllllllll}\n",
       "\t 1.0000000 & 0.2020306 & 0.2671554 & 0.3877505 & 0.2987612 & 0.4980926 & 0.9501134 & 1.130384 & 1.182634 & 1.143173 & ⋯ & 2.051201 & 2.049683 & 1.955936 & 1.729659 & 1.717902 & 2.156545 & 1.942527 & 2.093353 & 2.143394 & 1.638936\\\\\n",
       "\t 0.2020306 & 1.0000000 & 0.2312442 & 0.3928244 & 0.2495400 & 0.4996734 & 0.8892533 & 1.056352 & 1.139539 & 1.097643 & ⋯ & 2.128409 & 2.051136 & 2.065297 & 1.855659 & 1.829116 & 2.220592 & 1.893201 & 2.079829 & 2.106067 & 1.743064\\\\\n",
       "\t 0.2671554 & 0.2312442 & 1.0000000 & 0.3705025 & 0.3002269 & 0.4507320 & 0.9490869 & 1.126955 & 1.171226 & 1.141359 & ⋯ & 2.129995 & 1.962520 & 2.012011 & 1.764128 & 1.752981 & 2.128719 & 1.961556 & 1.896714 & 2.076663 & 1.701123\\\\\n",
       "\t 0.3877505 & 0.3928244 & 0.3705025 & 1.0000000 & 0.3734886 & 0.5237560 & 1.0676698 & 1.252276 & 1.231458 & 1.197169 & ⋯ & 2.049211 & 2.127150 & 2.073315 & 1.951704 & 1.923538 & 2.306704 & 2.020159 & 2.193510 & 2.124377 & 1.882367\\\\\n",
       "\t 0.2987612 & 0.2495400 & 0.3002269 & 0.3734886 & 1.0000000 & 0.4186482 & 0.9189513 & 1.030004 & 1.110358 & 1.121856 & ⋯ & 1.979511 & 1.983815 & 2.054011 & 1.751842 & 1.797844 & 2.251170 & 1.913400 & 2.025316 & 2.025773 & 1.746150\\\\\n",
       "\t 0.4980926 & 0.4996734 & 0.4507320 & 0.5237560 & 0.4186482 & 1.0000000 & 1.0113933 & 1.120942 & 1.170445 & 1.121669 & ⋯ & 2.143556 & 1.995187 & 2.098740 & 1.813570 & 1.867573 & 2.212761 & 1.883280 & 2.218564 & 2.241535 & 1.869677\\\\\n",
       "\\end{tabular}\n"
      ],
      "text/markdown": [
       "\n",
       "A matrix: 6 × 107 of type dbl\n",
       "\n",
       "| 1.0000000 | 0.2020306 | 0.2671554 | 0.3877505 | 0.2987612 | 0.4980926 | 0.9501134 | 1.130384 | 1.182634 | 1.143173 | ⋯ | 2.051201 | 2.049683 | 1.955936 | 1.729659 | 1.717902 | 2.156545 | 1.942527 | 2.093353 | 2.143394 | 1.638936 |\n",
       "| 0.2020306 | 1.0000000 | 0.2312442 | 0.3928244 | 0.2495400 | 0.4996734 | 0.8892533 | 1.056352 | 1.139539 | 1.097643 | ⋯ | 2.128409 | 2.051136 | 2.065297 | 1.855659 | 1.829116 | 2.220592 | 1.893201 | 2.079829 | 2.106067 | 1.743064 |\n",
       "| 0.2671554 | 0.2312442 | 1.0000000 | 0.3705025 | 0.3002269 | 0.4507320 | 0.9490869 | 1.126955 | 1.171226 | 1.141359 | ⋯ | 2.129995 | 1.962520 | 2.012011 | 1.764128 | 1.752981 | 2.128719 | 1.961556 | 1.896714 | 2.076663 | 1.701123 |\n",
       "| 0.3877505 | 0.3928244 | 0.3705025 | 1.0000000 | 0.3734886 | 0.5237560 | 1.0676698 | 1.252276 | 1.231458 | 1.197169 | ⋯ | 2.049211 | 2.127150 | 2.073315 | 1.951704 | 1.923538 | 2.306704 | 2.020159 | 2.193510 | 2.124377 | 1.882367 |\n",
       "| 0.2987612 | 0.2495400 | 0.3002269 | 0.3734886 | 1.0000000 | 0.4186482 | 0.9189513 | 1.030004 | 1.110358 | 1.121856 | ⋯ | 1.979511 | 1.983815 | 2.054011 | 1.751842 | 1.797844 | 2.251170 | 1.913400 | 2.025316 | 2.025773 | 1.746150 |\n",
       "| 0.4980926 | 0.4996734 | 0.4507320 | 0.5237560 | 0.4186482 | 1.0000000 | 1.0113933 | 1.120942 | 1.170445 | 1.121669 | ⋯ | 2.143556 | 1.995187 | 2.098740 | 1.813570 | 1.867573 | 2.212761 | 1.883280 | 2.218564 | 2.241535 | 1.869677 |\n",
       "\n"
      ],
      "text/plain": [
       "     [,1]      [,2]      [,3]      [,4]      [,5]      [,6]      [,7]     \n",
       "[1,] 1.0000000 0.2020306 0.2671554 0.3877505 0.2987612 0.4980926 0.9501134\n",
       "[2,] 0.2020306 1.0000000 0.2312442 0.3928244 0.2495400 0.4996734 0.8892533\n",
       "[3,] 0.2671554 0.2312442 1.0000000 0.3705025 0.3002269 0.4507320 0.9490869\n",
       "[4,] 0.3877505 0.3928244 0.3705025 1.0000000 0.3734886 0.5237560 1.0676698\n",
       "[5,] 0.2987612 0.2495400 0.3002269 0.3734886 1.0000000 0.4186482 0.9189513\n",
       "[6,] 0.4980926 0.4996734 0.4507320 0.5237560 0.4186482 1.0000000 1.0113933\n",
       "     [,8]     [,9]     [,10]    [,11] [,12]    [,13]    [,14]    [,15]   \n",
       "[1,] 1.130384 1.182634 1.143173 ⋯     2.051201 2.049683 1.955936 1.729659\n",
       "[2,] 1.056352 1.139539 1.097643 ⋯     2.128409 2.051136 2.065297 1.855659\n",
       "[3,] 1.126955 1.171226 1.141359 ⋯     2.129995 1.962520 2.012011 1.764128\n",
       "[4,] 1.252276 1.231458 1.197169 ⋯     2.049211 2.127150 2.073315 1.951704\n",
       "[5,] 1.030004 1.110358 1.121856 ⋯     1.979511 1.983815 2.054011 1.751842\n",
       "[6,] 1.120942 1.170445 1.121669 ⋯     2.143556 1.995187 2.098740 1.813570\n",
       "     [,16]    [,17]    [,18]    [,19]    [,20]    [,21]   \n",
       "[1,] 1.717902 2.156545 1.942527 2.093353 2.143394 1.638936\n",
       "[2,] 1.829116 2.220592 1.893201 2.079829 2.106067 1.743064\n",
       "[3,] 1.752981 2.128719 1.961556 1.896714 2.076663 1.701123\n",
       "[4,] 1.923538 2.306704 2.020159 2.193510 2.124377 1.882367\n",
       "[5,] 1.797844 2.251170 1.913400 2.025316 2.025773 1.746150\n",
       "[6,] 1.867573 2.212761 1.883280 2.218564 2.241535 1.869677"
      ]
     },
     "metadata": {},
     "output_type": "display_data"
    }
   ],
   "source": [
    "for (i in 1:(nrow(languages) - 1)) {\n",
    "    for (j in (i + 1):nrow(languages)) {\n",
    "        joined_tibble = \n",
    "          inner_join(language_params[[i]], language_params[[j]], by=c(\"Concept_ID\" = \"Concept_ID\")) %>%\n",
    "          mutate(similarity = affine_v(ASJP.x, ASJP.y)) %>%\n",
    "          group_by(Concept_ID) %>%\n",
    "          slice_min(order_by = similarity, with_ties = F)\n",
    "    \n",
    "    # compute all non-synonymous word pair distances\n",
    "    m = matrix(0, nrow(joined_tibble), nrow(joined_tibble))\n",
    "    diag(m) = NaN\n",
    "    for (k in 1:nrow(joined_tibble)) {\n",
    "        for (l in 1:nrow(joined_tibble)) {\n",
    "            if(k == l){next}\n",
    "            m[k, l] = affine(joined_tibble$ASJP.x[k], joined_tibble$ASJP.y[l])\n",
    "        }\n",
    "    }\n",
    "    \n",
    "    # number of non_synonymous wordpairs\n",
    "    non_synonymous_wordpairs = nrow(joined_tibble) * (nrow(joined_tibble) - 1)\n",
    "    # calculate the calibrated similarity for each word pair\n",
    "    for (k in 1:nrow(joined_tibble)){\n",
    "        numerator = 1 + sum(m > joined_tibble$similarity[k], na.rm = T)\n",
    "        denominator = 1 + non_synonymous_wordpairs\n",
    "        calibrated_sim = -log(numerator / denominator)\n",
    "        joined_tibble$similarity[k] = calibrated_sim\n",
    "    }\n",
    "    # calculate the pairwise distance of all languages, based on the mean concept distance  \n",
    "    pmi_based_dists[i, j] = pmi_based_dists[j, i] = \n",
    "        log(log(non_synonymous_wordpairs)) - log(mean(joined_tibble$similarity))\n",
    "  }\n",
    "}\n",
    "\n",
    "head(pmi_based_dists)"
   ]
  },
  {
   "cell_type": "markdown",
   "id": "2ae6ea5b",
   "metadata": {},
   "source": [
    "***\n",
    "And save these distances aswell."
   ]
  },
  {
   "cell_type": "code",
   "execution_count": 17,
   "id": "65375ee9",
   "metadata": {},
   "outputs": [],
   "source": [
    "write.csv(pmi_based_dists, \"./language_distances/pmi_dists.csv, row.names = FALSE)"
   ]
  }
 ],
 "metadata": {
  "kernelspec": {
   "display_name": "R",
   "language": "R",
   "name": "ir"
  },
  "language_info": {
   "codemirror_mode": "r",
   "file_extension": ".r",
   "mimetype": "text/x-r-source",
   "name": "R",
   "pygments_lexer": "r",
   "version": "4.2.2"
  }
 },
 "nbformat": 4,
 "nbformat_minor": 5
}
