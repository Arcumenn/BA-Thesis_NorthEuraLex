{
 "cells": [
  {
   "cell_type": "markdown",
   "id": "9a4f4618",
   "metadata": {},
   "source": [
    "### Evaluation of Distance Measures\n",
    "***\n",
    "***"
   ]
  },
  {
   "cell_type": "markdown",
   "id": "e658e2a6",
   "metadata": {},
   "source": [
    "Set working directory and load the distances that have been calculated in the first notebook."
   ]
  },
  {
   "cell_type": "code",
   "execution_count": 192,
   "id": "12ec2228",
   "metadata": {},
   "outputs": [],
   "source": [
    "setwd(\"C:/Users/stein/Dropbox/Studium/7. Semester/BA-Thesis/BA-Thesis_NorthEuraLex\")\n",
    "\n",
    "ldn_dists = read.csv(\"./language_distances/ldn_dists.csv\")\n",
    "ldnd_dists = read.csv(\"./language_distances/ldnd_dists.csv\")\n",
    "pmi_dists = read.csv(\"./language_distances/pmi_based_dists2.csv\")"
   ]
  },
  {
   "cell_type": "markdown",
   "id": "13eafb80",
   "metadata": {},
   "source": [
    "***\n",
    "Load NorthEuraLex language data and use it to add rownames to distance data."
   ]
  },
  {
   "cell_type": "code",
   "execution_count": 193,
   "id": "ac0c09d1",
   "metadata": {
    "scrolled": true
   },
   "outputs": [
    {
     "name": "stderr",
     "output_type": "stream",
     "text": [
      "\u001b[1mRows: \u001b[22m\u001b[34m107\u001b[39m \u001b[1mColumns: \u001b[22m\u001b[34m7\u001b[39m\n",
      "\u001b[36m──\u001b[39m \u001b[1mColumn specification\u001b[22m \u001b[36m────────────────────────────────────────────────────────────────────────────────────────────────\u001b[39m\n",
      "\u001b[1mDelimiter:\u001b[22m \"\\t\"\n",
      "\u001b[31mchr\u001b[39m (5): name, glotto_code, iso_code, family, subfamily\n",
      "\u001b[32mdbl\u001b[39m (2): latitude, longitude\n",
      "\n",
      "\u001b[36mℹ\u001b[39m Use `spec()` to retrieve the full column specification for this data.\n",
      "\u001b[36mℹ\u001b[39m Specify the column types or set `show_col_types = FALSE` to quiet this message.\n"
     ]
    }
   ],
   "source": [
    "library(tidyverse)\n",
    "\n",
    "geodata = read_tsv(\"./data/northeuralex-0.9-language-data.tsv\")\n",
    "\n",
    "rownames(ldn_dists) = rownames(ldnd_dists) = rownames(pmi_dists) = geodata$glotto_code"
   ]
  },
  {
   "cell_type": "markdown",
   "id": "bdc03316",
   "metadata": {},
   "source": [
    "***\n",
    "The next step is to use the PMI-based distance matrix to make a phylogenetic tree of a subset of the languages - the Uralic languages. Start by taking the relevants rows / columns of the distance matrix. The rows are renamed to have the language names instead of the glotto codes as label names in the dendrogram later."
   ]
  },
  {
   "cell_type": "code",
   "execution_count": 194,
   "id": "861aaa77",
   "metadata": {},
   "outputs": [
    {
     "data": {
      "text/html": [
       "<table class=\"dataframe\">\n",
       "<caption>A data.frame: 6 × 26</caption>\n",
       "<thead>\n",
       "\t<tr><th></th><th scope=col>V1</th><th scope=col>V2</th><th scope=col>V3</th><th scope=col>V4</th><th scope=col>V5</th><th scope=col>V6</th><th scope=col>V7</th><th scope=col>V8</th><th scope=col>V9</th><th scope=col>V10</th><th scope=col>⋯</th><th scope=col>V17</th><th scope=col>V18</th><th scope=col>V19</th><th scope=col>V20</th><th scope=col>V21</th><th scope=col>V22</th><th scope=col>V23</th><th scope=col>V24</th><th scope=col>V25</th><th scope=col>V26</th></tr>\n",
       "\t<tr><th></th><th scope=col>&lt;dbl&gt;</th><th scope=col>&lt;dbl&gt;</th><th scope=col>&lt;dbl&gt;</th><th scope=col>&lt;dbl&gt;</th><th scope=col>&lt;dbl&gt;</th><th scope=col>&lt;dbl&gt;</th><th scope=col>&lt;dbl&gt;</th><th scope=col>&lt;dbl&gt;</th><th scope=col>&lt;dbl&gt;</th><th scope=col>&lt;dbl&gt;</th><th scope=col>⋯</th><th scope=col>&lt;dbl&gt;</th><th scope=col>&lt;dbl&gt;</th><th scope=col>&lt;dbl&gt;</th><th scope=col>&lt;dbl&gt;</th><th scope=col>&lt;dbl&gt;</th><th scope=col>&lt;dbl&gt;</th><th scope=col>&lt;dbl&gt;</th><th scope=col>&lt;dbl&gt;</th><th scope=col>&lt;dbl&gt;</th><th scope=col>&lt;dbl&gt;</th></tr>\n",
       "</thead>\n",
       "<tbody>\n",
       "\t<tr><th scope=row>Finnish</th><td>1.0000000</td><td>0.2020306</td><td>0.2671554</td><td>0.3877505</td><td>0.2987612</td><td>0.4980926</td><td>0.9501134</td><td>1.130384</td><td>1.182634</td><td>1.143173</td><td>⋯</td><td>1.0468870</td><td>1.285144</td><td>1.171774</td><td>1.099220</td><td>1.316005</td><td>1.325798</td><td>1.257502</td><td>1.473402</td><td>1.435060</td><td>1.285972</td></tr>\n",
       "\t<tr><th scope=row>North Karelian</th><td>0.2020306</td><td>1.0000000</td><td>0.2312442</td><td>0.3928244</td><td>0.2495400</td><td>0.4996734</td><td>0.8892533</td><td>1.056352</td><td>1.139539</td><td>1.097643</td><td>⋯</td><td>1.0597123</td><td>1.245479</td><td>1.171167</td><td>1.146900</td><td>1.392662</td><td>1.377118</td><td>1.266016</td><td>1.450428</td><td>1.418958</td><td>1.345705</td></tr>\n",
       "\t<tr><th scope=row>Olonets Karelian</th><td>0.2671554</td><td>0.2312442</td><td>1.0000000</td><td>0.3705025</td><td>0.3002269</td><td>0.4507320</td><td>0.9490869</td><td>1.126955</td><td>1.171226</td><td>1.141359</td><td>⋯</td><td>0.9827500</td><td>1.245379</td><td>1.205418</td><td>1.095158</td><td>1.291223</td><td>1.362988</td><td>1.142944</td><td>1.386363</td><td>1.417617</td><td>1.249271</td></tr>\n",
       "\t<tr><th scope=row>Veps</th><td>0.3877505</td><td>0.3928244</td><td>0.3705025</td><td>1.0000000</td><td>0.3734886</td><td>0.5237560</td><td>1.0676698</td><td>1.252276</td><td>1.231458</td><td>1.197169</td><td>⋯</td><td>1.0920060</td><td>1.252768</td><td>1.198535</td><td>1.176813</td><td>1.364681</td><td>1.366861</td><td>1.262586</td><td>1.606771</td><td>1.565917</td><td>1.290821</td></tr>\n",
       "\t<tr><th scope=row>Estonian</th><td>0.2987612</td><td>0.2495400</td><td>0.3002269</td><td>0.3734886</td><td>1.0000000</td><td>0.4186482</td><td>0.9189513</td><td>1.030004</td><td>1.110358</td><td>1.121856</td><td>⋯</td><td>1.0004142</td><td>1.221026</td><td>1.168392</td><td>1.176038</td><td>1.237816</td><td>1.240266</td><td>1.194810</td><td>1.541334</td><td>1.420545</td><td>1.307780</td></tr>\n",
       "\t<tr><th scope=row>Livonian</th><td>0.4980926</td><td>0.4996734</td><td>0.4507320</td><td>0.5237560</td><td>0.4186482</td><td>1.0000000</td><td>1.0113933</td><td>1.120942</td><td>1.170445</td><td>1.121669</td><td>⋯</td><td>0.9606459</td><td>1.132650</td><td>1.074354</td><td>1.189248</td><td>1.137700</td><td>1.317145</td><td>1.253934</td><td>1.464078</td><td>1.398307</td><td>1.240765</td></tr>\n",
       "</tbody>\n",
       "</table>\n"
      ],
      "text/latex": [
       "A data.frame: 6 × 26\n",
       "\\begin{tabular}{r|lllllllllllllllllllll}\n",
       "  & V1 & V2 & V3 & V4 & V5 & V6 & V7 & V8 & V9 & V10 & ⋯ & V17 & V18 & V19 & V20 & V21 & V22 & V23 & V24 & V25 & V26\\\\\n",
       "  & <dbl> & <dbl> & <dbl> & <dbl> & <dbl> & <dbl> & <dbl> & <dbl> & <dbl> & <dbl> & ⋯ & <dbl> & <dbl> & <dbl> & <dbl> & <dbl> & <dbl> & <dbl> & <dbl> & <dbl> & <dbl>\\\\\n",
       "\\hline\n",
       "\tFinnish & 1.0000000 & 0.2020306 & 0.2671554 & 0.3877505 & 0.2987612 & 0.4980926 & 0.9501134 & 1.130384 & 1.182634 & 1.143173 & ⋯ & 1.0468870 & 1.285144 & 1.171774 & 1.099220 & 1.316005 & 1.325798 & 1.257502 & 1.473402 & 1.435060 & 1.285972\\\\\n",
       "\tNorth Karelian & 0.2020306 & 1.0000000 & 0.2312442 & 0.3928244 & 0.2495400 & 0.4996734 & 0.8892533 & 1.056352 & 1.139539 & 1.097643 & ⋯ & 1.0597123 & 1.245479 & 1.171167 & 1.146900 & 1.392662 & 1.377118 & 1.266016 & 1.450428 & 1.418958 & 1.345705\\\\\n",
       "\tOlonets Karelian & 0.2671554 & 0.2312442 & 1.0000000 & 0.3705025 & 0.3002269 & 0.4507320 & 0.9490869 & 1.126955 & 1.171226 & 1.141359 & ⋯ & 0.9827500 & 1.245379 & 1.205418 & 1.095158 & 1.291223 & 1.362988 & 1.142944 & 1.386363 & 1.417617 & 1.249271\\\\\n",
       "\tVeps & 0.3877505 & 0.3928244 & 0.3705025 & 1.0000000 & 0.3734886 & 0.5237560 & 1.0676698 & 1.252276 & 1.231458 & 1.197169 & ⋯ & 1.0920060 & 1.252768 & 1.198535 & 1.176813 & 1.364681 & 1.366861 & 1.262586 & 1.606771 & 1.565917 & 1.290821\\\\\n",
       "\tEstonian & 0.2987612 & 0.2495400 & 0.3002269 & 0.3734886 & 1.0000000 & 0.4186482 & 0.9189513 & 1.030004 & 1.110358 & 1.121856 & ⋯ & 1.0004142 & 1.221026 & 1.168392 & 1.176038 & 1.237816 & 1.240266 & 1.194810 & 1.541334 & 1.420545 & 1.307780\\\\\n",
       "\tLivonian & 0.4980926 & 0.4996734 & 0.4507320 & 0.5237560 & 0.4186482 & 1.0000000 & 1.0113933 & 1.120942 & 1.170445 & 1.121669 & ⋯ & 0.9606459 & 1.132650 & 1.074354 & 1.189248 & 1.137700 & 1.317145 & 1.253934 & 1.464078 & 1.398307 & 1.240765\\\\\n",
       "\\end{tabular}\n"
      ],
      "text/markdown": [
       "\n",
       "A data.frame: 6 × 26\n",
       "\n",
       "| <!--/--> | V1 &lt;dbl&gt; | V2 &lt;dbl&gt; | V3 &lt;dbl&gt; | V4 &lt;dbl&gt; | V5 &lt;dbl&gt; | V6 &lt;dbl&gt; | V7 &lt;dbl&gt; | V8 &lt;dbl&gt; | V9 &lt;dbl&gt; | V10 &lt;dbl&gt; | ⋯ ⋯ | V17 &lt;dbl&gt; | V18 &lt;dbl&gt; | V19 &lt;dbl&gt; | V20 &lt;dbl&gt; | V21 &lt;dbl&gt; | V22 &lt;dbl&gt; | V23 &lt;dbl&gt; | V24 &lt;dbl&gt; | V25 &lt;dbl&gt; | V26 &lt;dbl&gt; |\n",
       "|---|---|---|---|---|---|---|---|---|---|---|---|---|---|---|---|---|---|---|---|---|---|\n",
       "| Finnish | 1.0000000 | 0.2020306 | 0.2671554 | 0.3877505 | 0.2987612 | 0.4980926 | 0.9501134 | 1.130384 | 1.182634 | 1.143173 | ⋯ | 1.0468870 | 1.285144 | 1.171774 | 1.099220 | 1.316005 | 1.325798 | 1.257502 | 1.473402 | 1.435060 | 1.285972 |\n",
       "| North Karelian | 0.2020306 | 1.0000000 | 0.2312442 | 0.3928244 | 0.2495400 | 0.4996734 | 0.8892533 | 1.056352 | 1.139539 | 1.097643 | ⋯ | 1.0597123 | 1.245479 | 1.171167 | 1.146900 | 1.392662 | 1.377118 | 1.266016 | 1.450428 | 1.418958 | 1.345705 |\n",
       "| Olonets Karelian | 0.2671554 | 0.2312442 | 1.0000000 | 0.3705025 | 0.3002269 | 0.4507320 | 0.9490869 | 1.126955 | 1.171226 | 1.141359 | ⋯ | 0.9827500 | 1.245379 | 1.205418 | 1.095158 | 1.291223 | 1.362988 | 1.142944 | 1.386363 | 1.417617 | 1.249271 |\n",
       "| Veps | 0.3877505 | 0.3928244 | 0.3705025 | 1.0000000 | 0.3734886 | 0.5237560 | 1.0676698 | 1.252276 | 1.231458 | 1.197169 | ⋯ | 1.0920060 | 1.252768 | 1.198535 | 1.176813 | 1.364681 | 1.366861 | 1.262586 | 1.606771 | 1.565917 | 1.290821 |\n",
       "| Estonian | 0.2987612 | 0.2495400 | 0.3002269 | 0.3734886 | 1.0000000 | 0.4186482 | 0.9189513 | 1.030004 | 1.110358 | 1.121856 | ⋯ | 1.0004142 | 1.221026 | 1.168392 | 1.176038 | 1.237816 | 1.240266 | 1.194810 | 1.541334 | 1.420545 | 1.307780 |\n",
       "| Livonian | 0.4980926 | 0.4996734 | 0.4507320 | 0.5237560 | 0.4186482 | 1.0000000 | 1.0113933 | 1.120942 | 1.170445 | 1.121669 | ⋯ | 0.9606459 | 1.132650 | 1.074354 | 1.189248 | 1.137700 | 1.317145 | 1.253934 | 1.464078 | 1.398307 | 1.240765 |\n",
       "\n"
      ],
      "text/plain": [
       "                 V1        V2        V3        V4        V5        V6       \n",
       "Finnish          1.0000000 0.2020306 0.2671554 0.3877505 0.2987612 0.4980926\n",
       "North Karelian   0.2020306 1.0000000 0.2312442 0.3928244 0.2495400 0.4996734\n",
       "Olonets Karelian 0.2671554 0.2312442 1.0000000 0.3705025 0.3002269 0.4507320\n",
       "Veps             0.3877505 0.3928244 0.3705025 1.0000000 0.3734886 0.5237560\n",
       "Estonian         0.2987612 0.2495400 0.3002269 0.3734886 1.0000000 0.4186482\n",
       "Livonian         0.4980926 0.4996734 0.4507320 0.5237560 0.4186482 1.0000000\n",
       "                 V7        V8       V9       V10      ⋯ V17       V18     \n",
       "Finnish          0.9501134 1.130384 1.182634 1.143173 ⋯ 1.0468870 1.285144\n",
       "North Karelian   0.8892533 1.056352 1.139539 1.097643 ⋯ 1.0597123 1.245479\n",
       "Olonets Karelian 0.9490869 1.126955 1.171226 1.141359 ⋯ 0.9827500 1.245379\n",
       "Veps             1.0676698 1.252276 1.231458 1.197169 ⋯ 1.0920060 1.252768\n",
       "Estonian         0.9189513 1.030004 1.110358 1.121856 ⋯ 1.0004142 1.221026\n",
       "Livonian         1.0113933 1.120942 1.170445 1.121669 ⋯ 0.9606459 1.132650\n",
       "                 V19      V20      V21      V22      V23      V24      V25     \n",
       "Finnish          1.171774 1.099220 1.316005 1.325798 1.257502 1.473402 1.435060\n",
       "North Karelian   1.171167 1.146900 1.392662 1.377118 1.266016 1.450428 1.418958\n",
       "Olonets Karelian 1.205418 1.095158 1.291223 1.362988 1.142944 1.386363 1.417617\n",
       "Veps             1.198535 1.176813 1.364681 1.366861 1.262586 1.606771 1.565917\n",
       "Estonian         1.168392 1.176038 1.237816 1.240266 1.194810 1.541334 1.420545\n",
       "Livonian         1.074354 1.189248 1.137700 1.317145 1.253934 1.464078 1.398307\n",
       "                 V26     \n",
       "Finnish          1.285972\n",
       "North Karelian   1.345705\n",
       "Olonets Karelian 1.249271\n",
       "Veps             1.290821\n",
       "Estonian         1.307780\n",
       "Livonian         1.240765"
      ]
     },
     "metadata": {},
     "output_type": "display_data"
    }
   ],
   "source": [
    "uralic_dists = pmi_dists[1:26, 1:26]\n",
    "rownames(uralic_dists) = head(geodata, 26)$name\n",
    "head(uralic_dists)"
   ]
  },
  {
   "cell_type": "markdown",
   "id": "5a71a9e4",
   "metadata": {},
   "source": [
    "***\n",
    "Apply neighbor joining on the resulting matrix and plot the tree. The package _ape_ needs to be loaded for the function _nj_ to be available. "
   ]
  },
  {
   "cell_type": "code",
   "execution_count": 195,
   "id": "15f09eb6",
   "metadata": {},
   "outputs": [
    {
     "data": {
      "image/png": "[encoded data removed]",
      "text/plain": [
       "plot without title"
      ]
     },
     "metadata": {
      "image/png": {
       "height": 720,
       "width": 720
      }
     },
     "output_type": "display_data"
    }
   ],
   "source": [
    "library(ape)\n",
    "nj_uralic = nj(as.dist(uralic_dists))\n",
    "plot(nj_uralic)"
   ]
  },
  {
   "cell_type": "markdown",
   "id": "fba908b9",
   "metadata": {},
   "source": [
    "***\n",
    "Some modifications to the plot are made, to highlight the different subfamilies."
   ]
  },
  {
   "cell_type": "code",
   "execution_count": 196,
   "id": "6233df1b",
   "metadata": {},
   "outputs": [
    {
     "data": {
      "image/png": "[encoded data removed]",
      "text/plain": [
       "plot without title"
      ]
     },
     "metadata": {
      "image/png": {
       "height": 720,
       "width": 720
      }
     },
     "output_type": "display_data"
    }
   ],
   "source": [
    "# set colours for the plot\n",
    "dendro_cols = def(nj_uralic$tip.label, Erzya = \"red\", Moksha = \"red\", \"Southern Sami\" = \"darkgreen\",\n",
    "                  \"Kildin Sami\" = \"darkgreen\", \"Skolt Sami\" = \"darkgreen\", \"Lule Sami\" = \"darkgreen\", \n",
    "                  \"Inari Sami\" = \"darkgreen\", \"Northern Sami\" = \"darkgreen\", Nganasan = \"darkblue\", \n",
    "                  \"Tundra Nenets\" = \"darkblue\", \"Forest Enets\" = \"darkblue\", \"Northern Selkup\" = \"darkblue\", \n",
    "                  \"Meadow Mari\" = \"lightblue\", \"Hill Mari\" = \"lightblue\", Udmurt = \"orange\", \n",
    "                  \"Komi-Permyak\" = \"orange\", \"Komi-Zyrian\" = \"orange\", Livonian = \"purple\", \n",
    "                  Estonian = \"purple\", Veps = \"purple\", \"Olonets Karelian\" = \"purple\", \n",
    "                  \"North Karelian\" = \"purple\", Finnish = \"purple\", default = \"black\")\n",
    "\n",
    "# ladderizing the tree makes it more 'tidy'\n",
    "nj_uralic = nj_uralic %>% ladderize()\n",
    "\n",
    "# use a few optional plot arguments\n",
    "options(repr.plot.width=12, repr.plot.height=12)\n",
    "plot(nj_uralic, tip.color = dendro_cols, font = 2, edge.width = 1.0, adj = 0.1)"
   ]
  },
  {
   "cell_type": "markdown",
   "id": "3697b50d",
   "metadata": {},
   "source": [
    "***\n",
    "Create 24 neighbor joining / FastME trees, six for all 107 languages of NorthEuraLex and for the four biggest families represented in it."
   ]
  },
  {
   "cell_type": "code",
   "execution_count": 198,
   "id": "ad5cf26e",
   "metadata": {
    "scrolled": true
   },
   "outputs": [],
   "source": [
    "# build trees for a subset of the distance matrix\n",
    "build_trees = function(range) {\n",
    "    \n",
    "    nj_ldn = nj(as.dist(ldn_dists[range, range]))\n",
    "    fastme_ldn = fastme.bal(as.dist(ldn_dists[range, range]))\n",
    "    \n",
    "    nj_ldnd = nj(as.dist(ldnd_dists[range, range]))\n",
    "    fastme_ldnd = fastme.bal(as.dist(ldnd_dists[range, range]))\n",
    "    \n",
    "    nj_pmi = nj(as.dist(pmi_dists[range, range]))\n",
    "    fastme_pmi = fastme.bal(as.dist(pmi_dists[range, range]))\n",
    "    \n",
    "    list(nj_ldn, fastme_ldn, nj_ldnd, fastme_ldnd, nj_pmi, fastme_pmi)\n",
    "}\n",
    "\n",
    "# build the trees\n",
    "northeura_trees = build_trees(1:107)\n",
    "uralic_trees = build_trees(1:26)\n",
    "indo_trees = build_trees(27:63)\n",
    "turkic_trees = build_trees(64:71)"
   ]
  },
  {
   "cell_type": "code",
   "execution_count": 216,
   "id": "d668c1a4",
   "metadata": {},
   "outputs": [
    {
     "data": {
      "image/png": "[encoded data removed]",
      "text/plain": [
       "plot without title"
      ]
     },
     "metadata": {
      "image/png": {
       "height": 720,
       "width": 720
      }
     },
     "output_type": "display_data"
    }
   ],
   "source": [
    "plot(northeura_trees[[3]])"
   ]
  },
  {
   "cell_type": "markdown",
   "id": "8bcf8276",
   "metadata": {},
   "source": [
    "***\n",
    "Use the _glottoTrees_ package to load a Glottolog supertree, containing all the languoids in the Glottolog from Africa, Eurasia and North America."
   ]
  },
  {
   "cell_type": "code",
   "execution_count": 209,
   "id": "4d860840",
   "metadata": {},
   "outputs": [
    {
     "name": "stderr",
     "output_type": "stream",
     "text": [
      "Warning message in abridge_labels(.):\n",
      "\"Labels without glottocodes were detected and left unchanged for: 0 tip(s); 1 node(s): World\"\n"
     ]
    }
   ],
   "source": [
    "library(glottoTrees)\n",
    "# build the supertree and shorten the labels to only consist of the glottocode\n",
    "supertree = assemble_supertree(macro_groups = NULL) %>% abridge_labels()"
   ]
  },
  {
   "cell_type": "markdown",
   "id": "a4c3d89f",
   "metadata": {},
   "source": [
    "***\n",
    "Remove all languoids from the tree that are not part of the 107 NorthEuraLex languages."
   ]
  },
  {
   "cell_type": "code",
   "execution_count": 210,
   "id": "ac197b85",
   "metadata": {
    "scrolled": false
   },
   "outputs": [],
   "source": [
    "glottree = keep_as_tip(supertree, geodata$glotto_code)"
   ]
  },
  {
   "cell_type": "markdown",
   "id": "8a76026d",
   "metadata": {},
   "source": [
    "***\n",
    "Also build the Glottolog trees for the three language families which are represented with the most languages in the NorthEuraLex data."
   ]
  },
  {
   "cell_type": "code",
   "execution_count": 211,
   "id": "6af660df",
   "metadata": {
    "scrolled": true
   },
   "outputs": [],
   "source": [
    "# get the family tree and then remove all languages that are not in the NorthEuraLex data set \n",
    "glottree_uralic = get_glottolog_trees(\"Uralic\") %>% abridge_labels() %>% \n",
    "                        keep_as_tip(head(geodata, 26)$glotto_code)\n",
    "glottree_indo = get_glottolog_trees(\"Indo-European\") %>% abridge_labels() %>% \n",
    "                        keep_as_tip(slice(geodata, 27:63)$glotto_code) %>%\n",
    "                        # The Indo-European tree is rooted, while the others are not, and needs to be unrooted. \n",
    "                        # Otherwise calling QuartetStatus on it later does not work.\n",
    "                        unroot()\n",
    "glottree_turkic = get_glottolog_trees(\"Turkic\") %>% abridge_labels() %>% \n",
    "                        keep_as_tip(slice(geodata, 64:71)$glotto_code)"
   ]
  },
  {
   "cell_type": "markdown",
   "id": "7c46de2f",
   "metadata": {},
   "source": [
    "***\n",
    "Load the _Quartet_ package to compute the quartet distances and the _TreeDist_ package to create randomised trees. Then compare the six trees from each region (all languages, Uralic, Indo-European, Turkic) to the Glottolog tree, with the symmetric divergence (SD) and the similarity to reference (S2R). Additionally, 100 random trees are created and then compared with the GlottoTree to have a benchmark for what the distance between random trees is. \n",
    " \n",
    "(The resulting scores are more neatly displayed in Table 4 of the thesis)"
   ]
  },
  {
   "cell_type": "code",
   "execution_count": 212,
   "id": "ff5cbd40",
   "metadata": {
    "scrolled": false
   },
   "outputs": [
    {
     "data": {
      "text/html": [
       "<ol>\n",
       "\t<li><style>\n",
       ".list-inline {list-style: none; margin:0; padding: 0}\n",
       ".list-inline>li {display: inline-block}\n",
       ".list-inline>li:not(:last-child)::after {content: \"\\00b7\"; padding: 0 .5ex}\n",
       "</style>\n",
       "<ol class=list-inline><li>27411</li><li>26308</li><li>12168</li><li>10054</li><li>18711</li><li>19857</li></ol>\n",
       "</li>\n",
       "\t<li>2049002.76</li>\n",
       "\t<li><style>\n",
       ".list-inline {list-style: none; margin:0; padding: 0}\n",
       ".list-inline>li {display: inline-block}\n",
       ".list-inline>li:not(:last-child)::after {content: \"\\00b7\"; padding: 0 .5ex}\n",
       "</style>\n",
       "<ol class=list-inline><li>0.207631559059879</li><li>0.20741782463701</li><li>0.204677838472584</li><li>0.204268196976714</li><li>0.205945711844142</li><li>0.206167778615319</li></ol>\n",
       "</li>\n",
       "\t<li>0.599366598134717</li>\n",
       "\t<li><style>\n",
       ".list-inline {list-style: none; margin:0; padding: 0}\n",
       ".list-inline>li {display: inline-block}\n",
       ".list-inline>li:not(:last-child)::after {content: \"\\00b7\"; padding: 0 .5ex}\n",
       "</style>\n",
       "<ol class=list-inline><li>0.013382443356558</li><li>0.0128439429362054</li><li>0.0059405921258836</li><li>0.00490850700473655</li><li>0.00913497857227252</li><li>0.00969447220937469</li></ol>\n",
       "</li>\n",
       "\t<li>1.00035253632233</li>\n",
       "</ol>\n"
      ],
      "text/latex": [
       "\\begin{enumerate}\n",
       "\\item \\begin{enumerate*}\n",
       "\\item 27411\n",
       "\\item 26308\n",
       "\\item 12168\n",
       "\\item 10054\n",
       "\\item 18711\n",
       "\\item 19857\n",
       "\\end{enumerate*}\n",
       "\n",
       "\\item 2049002.76\n",
       "\\item \\begin{enumerate*}\n",
       "\\item 0.207631559059879\n",
       "\\item 0.20741782463701\n",
       "\\item 0.204677838472584\n",
       "\\item 0.204268196976714\n",
       "\\item 0.205945711844142\n",
       "\\item 0.206167778615319\n",
       "\\end{enumerate*}\n",
       "\n",
       "\\item 0.599366598134717\n",
       "\\item \\begin{enumerate*}\n",
       "\\item 0.013382443356558\n",
       "\\item 0.0128439429362054\n",
       "\\item 0.0059405921258836\n",
       "\\item 0.00490850700473655\n",
       "\\item 0.00913497857227252\n",
       "\\item 0.00969447220937469\n",
       "\\end{enumerate*}\n",
       "\n",
       "\\item 1.00035253632233\n",
       "\\end{enumerate}\n"
      ],
      "text/markdown": [
       "1. 1. 27411\n",
       "2. 26308\n",
       "3. 12168\n",
       "4. 10054\n",
       "5. 18711\n",
       "6. 19857\n",
       "\n",
       "\n",
       "\n",
       "2. 2049002.76\n",
       "3. 1. 0.207631559059879\n",
       "2. 0.20741782463701\n",
       "3. 0.204677838472584\n",
       "4. 0.204268196976714\n",
       "5. 0.205945711844142\n",
       "6. 0.206167778615319\n",
       "\n",
       "\n",
       "\n",
       "4. 0.599366598134717\n",
       "5. 1. 0.013382443356558\n",
       "2. 0.0128439429362054\n",
       "3. 0.0059405921258836\n",
       "4. 0.00490850700473655\n",
       "5. 0.00913497857227252\n",
       "6. 0.00969447220937469\n",
       "\n",
       "\n",
       "\n",
       "6. 1.00035253632233\n",
       "\n",
       "\n"
      ],
      "text/plain": [
       "[[1]]\n",
       "[1] 27411 26308 12168 10054 18711 19857\n",
       "\n",
       "[[2]]\n",
       "[1] 2049003\n",
       "\n",
       "[[3]]\n",
       "[1] 0.2076316 0.2074178 0.2046778 0.2042682 0.2059457 0.2061678\n",
       "\n",
       "[[4]]\n",
       "[1] 0.5993666\n",
       "\n",
       "[[5]]\n",
       "[1] 0.013382443 0.012843943 0.005940592 0.004908507 0.009134979 0.009694472\n",
       "\n",
       "[[6]]\n",
       "[1] 1.000353\n"
      ]
     },
     "metadata": {},
     "output_type": "display_data"
    },
    {
     "data": {
      "text/html": [
       "<ol>\n",
       "\t<li><style>\n",
       ".list-inline {list-style: none; margin:0; padding: 0}\n",
       ".list-inline>li {display: inline-block}\n",
       ".list-inline>li:not(:last-child)::after {content: \"\\00b7\"; padding: 0 .5ex}\n",
       "</style>\n",
       "<ol class=list-inline><li>1986</li><li>1396</li><li>1406</li><li>1396</li><li>1290</li><li>1290</li></ol>\n",
       "</li>\n",
       "\t<li>31235.42</li>\n",
       "\t<li><style>\n",
       ".list-inline {list-style: none; margin:0; padding: 0}\n",
       ".list-inline>li {display: inline-block}\n",
       ".list-inline>li:not(:last-child)::after {content: \"\\00b7\"; padding: 0 .5ex}\n",
       "</style>\n",
       "<ol class=list-inline><li>0.176039064274358</li><li>0.167105761223408</li><li>0.167257173139526</li><li>0.167105761223408</li><li>0.16550079491256</li><li>0.16550079491256</li></ol>\n",
       "</li>\n",
       "\t<li>0.618910137027784</li>\n",
       "\t<li><style>\n",
       ".list-inline {list-style: none; margin:0; padding: 0}\n",
       ".list-inline>li {display: inline-block}\n",
       ".list-inline>li:not(:last-child)::after {content: \"\\00b7\"; padding: 0 .5ex}\n",
       "</style>\n",
       "<ol class=list-inline><li>0.0637028483448807</li><li>0.0447780343854248</li><li>0.0450987939440594</li><li>0.0447780343854248</li><li>0.0413779830638951</li><li>0.0413779830638951</li></ol>\n",
       "</li>\n",
       "\t<li>1.00190595329741</li>\n",
       "</ol>\n"
      ],
      "text/latex": [
       "\\begin{enumerate}\n",
       "\\item \\begin{enumerate*}\n",
       "\\item 1986\n",
       "\\item 1396\n",
       "\\item 1406\n",
       "\\item 1396\n",
       "\\item 1290\n",
       "\\item 1290\n",
       "\\end{enumerate*}\n",
       "\n",
       "\\item 31235.42\n",
       "\\item \\begin{enumerate*}\n",
       "\\item 0.176039064274358\n",
       "\\item 0.167105761223408\n",
       "\\item 0.167257173139526\n",
       "\\item 0.167105761223408\n",
       "\\item 0.16550079491256\n",
       "\\item 0.16550079491256\n",
       "\\end{enumerate*}\n",
       "\n",
       "\\item 0.618910137027784\n",
       "\\item \\begin{enumerate*}\n",
       "\\item 0.0637028483448807\n",
       "\\item 0.0447780343854248\n",
       "\\item 0.0450987939440594\n",
       "\\item 0.0447780343854248\n",
       "\\item 0.0413779830638951\n",
       "\\item 0.0413779830638951\n",
       "\\end{enumerate*}\n",
       "\n",
       "\\item 1.00190595329741\n",
       "\\end{enumerate}\n"
      ],
      "text/markdown": [
       "1. 1. 1986\n",
       "2. 1396\n",
       "3. 1406\n",
       "4. 1396\n",
       "5. 1290\n",
       "6. 1290\n",
       "\n",
       "\n",
       "\n",
       "2. 31235.42\n",
       "3. 1. 0.176039064274358\n",
       "2. 0.167105761223408\n",
       "3. 0.167257173139526\n",
       "4. 0.167105761223408\n",
       "5. 0.16550079491256\n",
       "6. 0.16550079491256\n",
       "\n",
       "\n",
       "\n",
       "4. 0.618910137027784\n",
       "5. 1. 0.0637028483448807\n",
       "2. 0.0447780343854248\n",
       "3. 0.0450987939440594\n",
       "4. 0.0447780343854248\n",
       "5. 0.0413779830638951\n",
       "6. 0.0413779830638951\n",
       "\n",
       "\n",
       "\n",
       "6. 1.00190595329741\n",
       "\n",
       "\n"
      ],
      "text/plain": [
       "[[1]]\n",
       "[1] 1986 1396 1406 1396 1290 1290\n",
       "\n",
       "[[2]]\n",
       "[1] 31235.42\n",
       "\n",
       "[[3]]\n",
       "[1] 0.1760391 0.1671058 0.1672572 0.1671058 0.1655008 0.1655008\n",
       "\n",
       "[[4]]\n",
       "[1] 0.6189101\n",
       "\n",
       "[[5]]\n",
       "[1] 0.06370285 0.04477803 0.04509879 0.04477803 0.04137798 0.04137798\n",
       "\n",
       "[[6]]\n",
       "[1] 1.001906\n"
      ]
     },
     "metadata": {},
     "output_type": "display_data"
    },
    {
     "data": {
      "text/html": [
       "<ol>\n",
       "\t<li><style>\n",
       ".list-inline {list-style: none; margin:0; padding: 0}\n",
       ".list-inline>li {display: inline-block}\n",
       ".list-inline>li:not(:last-child)::after {content: \"\\00b7\"; padding: 0 .5ex}\n",
       "</style>\n",
       "<ol class=list-inline><li>422</li><li>399</li><li>422</li><li>399</li><li>359</li><li>355</li></ol>\n",
       "</li>\n",
       "\t<li>5891.07</li>\n",
       "\t<li><style>\n",
       ".list-inline {list-style: none; margin:0; padding: 0}\n",
       ".list-inline>li {display: inline-block}\n",
       ".list-inline>li:not(:last-child)::after {content: \"\\00b7\"; padding: 0 .5ex}\n",
       "</style>\n",
       "<ol class=list-inline><li>0.237157190635452</li><li>0.23561872909699</li><li>0.237157190635452</li><li>0.23561872909699</li><li>0.232943143812709</li><li>0.232675585284281</li></ol>\n",
       "</li>\n",
       "\t<li>0.60298127090301</li>\n",
       "\t<li><style>\n",
       ".list-inline {list-style: none; margin:0; padding: 0}\n",
       ".list-inline>li {display: inline-block}\n",
       ".list-inline>li:not(:last-child)::after {content: \"\\00b7\"; padding: 0 .5ex}\n",
       "</style>\n",
       "<ol class=list-inline><li>0.0727335401585661</li><li>0.0687693898655639</li><li>0.0727335401585661</li><li>0.0687693898655639</li><li>0.0618752154429508</li><li>0.0611857980006892</li></ol>\n",
       "</li>\n",
       "\t<li>1.01535160289555</li>\n",
       "</ol>\n"
      ],
      "text/latex": [
       "\\begin{enumerate}\n",
       "\\item \\begin{enumerate*}\n",
       "\\item 422\n",
       "\\item 399\n",
       "\\item 422\n",
       "\\item 399\n",
       "\\item 359\n",
       "\\item 355\n",
       "\\end{enumerate*}\n",
       "\n",
       "\\item 5891.07\n",
       "\\item \\begin{enumerate*}\n",
       "\\item 0.237157190635452\n",
       "\\item 0.23561872909699\n",
       "\\item 0.237157190635452\n",
       "\\item 0.23561872909699\n",
       "\\item 0.232943143812709\n",
       "\\item 0.232675585284281\n",
       "\\end{enumerate*}\n",
       "\n",
       "\\item 0.60298127090301\n",
       "\\item \\begin{enumerate*}\n",
       "\\item 0.0727335401585661\n",
       "\\item 0.0687693898655639\n",
       "\\item 0.0727335401585661\n",
       "\\item 0.0687693898655639\n",
       "\\item 0.0618752154429508\n",
       "\\item 0.0611857980006892\n",
       "\\end{enumerate*}\n",
       "\n",
       "\\item 1.01535160289555\n",
       "\\end{enumerate}\n"
      ],
      "text/markdown": [
       "1. 1. 422\n",
       "2. 399\n",
       "3. 422\n",
       "4. 399\n",
       "5. 359\n",
       "6. 355\n",
       "\n",
       "\n",
       "\n",
       "2. 5891.07\n",
       "3. 1. 0.237157190635452\n",
       "2. 0.23561872909699\n",
       "3. 0.237157190635452\n",
       "4. 0.23561872909699\n",
       "5. 0.232943143812709\n",
       "6. 0.232675585284281\n",
       "\n",
       "\n",
       "\n",
       "4. 0.60298127090301\n",
       "5. 1. 0.0727335401585661\n",
       "2. 0.0687693898655639\n",
       "3. 0.0727335401585661\n",
       "4. 0.0687693898655639\n",
       "5. 0.0618752154429508\n",
       "6. 0.0611857980006892\n",
       "\n",
       "\n",
       "\n",
       "6. 1.01535160289555\n",
       "\n",
       "\n"
      ],
      "text/plain": [
       "[[1]]\n",
       "[1] 422 399 422 399 359 355\n",
       "\n",
       "[[2]]\n",
       "[1] 5891.07\n",
       "\n",
       "[[3]]\n",
       "[1] 0.2371572 0.2356187 0.2371572 0.2356187 0.2329431 0.2326756\n",
       "\n",
       "[[4]]\n",
       "[1] 0.6029813\n",
       "\n",
       "[[5]]\n",
       "[1] 0.07273354 0.06876939 0.07273354 0.06876939 0.06187522 0.06118580\n",
       "\n",
       "[[6]]\n",
       "[1] 1.015352\n"
      ]
     },
     "metadata": {},
     "output_type": "display_data"
    },
    {
     "data": {
      "text/html": [
       "<ol>\n",
       "\t<li><style>\n",
       ".list-inline {list-style: none; margin:0; padding: 0}\n",
       ".list-inline>li {display: inline-block}\n",
       ".list-inline>li:not(:last-child)::after {content: \"\\00b7\"; padding: 0 .5ex}\n",
       "</style>\n",
       "<ol class=list-inline><li>14</li><li>14</li><li>12</li><li>12</li><li>12</li><li>12</li></ol>\n",
       "</li>\n",
       "\t<li>31.28</li>\n",
       "\t<li><style>\n",
       ".list-inline {list-style: none; margin:0; padding: 0}\n",
       ".list-inline>li {display: inline-block}\n",
       ".list-inline>li:not(:last-child)::after {content: \"\\00b7\"; padding: 0 .5ex}\n",
       "</style>\n",
       "<ol class=list-inline><li>0.364285714285714</li><li>0.364285714285714</li><li>0.335714285714286</li><li>0.335714285714286</li><li>0.335714285714286</li><li>0.335714285714286</li></ol>\n",
       "</li>\n",
       "\t<li>0.611142857142857</li>\n",
       "\t<li><style>\n",
       ".list-inline {list-style: none; margin:0; padding: 0}\n",
       ".list-inline>li {display: inline-block}\n",
       ".list-inline>li:not(:last-child)::after {content: \"\\00b7\"; padding: 0 .5ex}\n",
       "</style>\n",
       "<ol class=list-inline><li>0.446808510638298</li><li>0.446808510638298</li><li>0.382978723404255</li><li>0.382978723404255</li><li>0.382978723404255</li><li>0.382978723404255</li></ol>\n",
       "</li>\n",
       "\t<li>0.998297872340426</li>\n",
       "</ol>\n"
      ],
      "text/latex": [
       "\\begin{enumerate}\n",
       "\\item \\begin{enumerate*}\n",
       "\\item 14\n",
       "\\item 14\n",
       "\\item 12\n",
       "\\item 12\n",
       "\\item 12\n",
       "\\item 12\n",
       "\\end{enumerate*}\n",
       "\n",
       "\\item 31.28\n",
       "\\item \\begin{enumerate*}\n",
       "\\item 0.364285714285714\n",
       "\\item 0.364285714285714\n",
       "\\item 0.335714285714286\n",
       "\\item 0.335714285714286\n",
       "\\item 0.335714285714286\n",
       "\\item 0.335714285714286\n",
       "\\end{enumerate*}\n",
       "\n",
       "\\item 0.611142857142857\n",
       "\\item \\begin{enumerate*}\n",
       "\\item 0.446808510638298\n",
       "\\item 0.446808510638298\n",
       "\\item 0.382978723404255\n",
       "\\item 0.382978723404255\n",
       "\\item 0.382978723404255\n",
       "\\item 0.382978723404255\n",
       "\\end{enumerate*}\n",
       "\n",
       "\\item 0.998297872340426\n",
       "\\end{enumerate}\n"
      ],
      "text/markdown": [
       "1. 1. 14\n",
       "2. 14\n",
       "3. 12\n",
       "4. 12\n",
       "5. 12\n",
       "6. 12\n",
       "\n",
       "\n",
       "\n",
       "2. 31.28\n",
       "3. 1. 0.364285714285714\n",
       "2. 0.364285714285714\n",
       "3. 0.335714285714286\n",
       "4. 0.335714285714286\n",
       "5. 0.335714285714286\n",
       "6. 0.335714285714286\n",
       "\n",
       "\n",
       "\n",
       "4. 0.611142857142857\n",
       "5. 1. 0.446808510638298\n",
       "2. 0.446808510638298\n",
       "3. 0.382978723404255\n",
       "4. 0.382978723404255\n",
       "5. 0.382978723404255\n",
       "6. 0.382978723404255\n",
       "\n",
       "\n",
       "\n",
       "6. 0.998297872340426\n",
       "\n",
       "\n"
      ],
      "text/plain": [
       "[[1]]\n",
       "[1] 14 14 12 12 12 12\n",
       "\n",
       "[[2]]\n",
       "[1] 31.28\n",
       "\n",
       "[[3]]\n",
       "[1] 0.3642857 0.3642857 0.3357143 0.3357143 0.3357143 0.3357143\n",
       "\n",
       "[[4]]\n",
       "[1] 0.6111429\n",
       "\n",
       "[[5]]\n",
       "[1] 0.4468085 0.4468085 0.3829787 0.3829787 0.3829787 0.3829787\n",
       "\n",
       "[[6]]\n",
       "[1] 0.9982979\n"
      ]
     },
     "metadata": {},
     "output_type": "display_data"
    },
    {
     "data": {
      "text/html": [
       "<ol>\n",
       "\t<li><style>\n",
       ".list-inline {list-style: none; margin:0; padding: 0}\n",
       ".list-inline>li {display: inline-block}\n",
       ".list-inline>li:not(:last-child)::after {content: \"\\00b7\"; padding: 0 .5ex}\n",
       "</style>\n",
       "<ol class=list-inline><li>5518</li><li>4570</li><li>5908</li><li>4570</li><li>4236</li><li>4506</li></ol>\n",
       "</li>\n",
       "\t<li>482228.21</li>\n",
       "\t<li><style>\n",
       ".list-inline {list-style: none; margin:0; padding: 0}\n",
       ".list-inline>li {display: inline-block}\n",
       ".list-inline>li:not(:last-child)::after {content: \"\\00b7\"; padding: 0 .5ex}\n",
       "</style>\n",
       "<ol class=list-inline><li>0.133989615442013</li><li>0.133013940420014</li><li>0.134391000735873</li><li>0.133013940420014</li><li>0.132670189937579</li><li>0.132948072064098</li></ol>\n",
       "</li>\n",
       "\t<li>0.624616455767855</li>\n",
       "\t<li><style>\n",
       ".list-inline {list-style: none; margin:0; padding: 0}\n",
       ".list-inline>li {display: inline-block}\n",
       ".list-inline>li:not(:last-child)::after {content: \"\\00b7\"; padding: 0 .5ex}\n",
       "</style>\n",
       "<ol class=list-inline><li>0.0114593385232863</li><li>0.00949060838191729</li><li>0.0122692591510648</li><li>0.00949060838191729</li><li>0.00879698404940954</li><li>0.00935769833017897</li></ol>\n",
       "</li>\n",
       "\t<li>1.00145275532229</li>\n",
       "</ol>\n"
      ],
      "text/latex": [
       "\\begin{enumerate}\n",
       "\\item \\begin{enumerate*}\n",
       "\\item 5518\n",
       "\\item 4570\n",
       "\\item 5908\n",
       "\\item 4570\n",
       "\\item 4236\n",
       "\\item 4506\n",
       "\\end{enumerate*}\n",
       "\n",
       "\\item 482228.21\n",
       "\\item \\begin{enumerate*}\n",
       "\\item 0.133989615442013\n",
       "\\item 0.133013940420014\n",
       "\\item 0.134391000735873\n",
       "\\item 0.133013940420014\n",
       "\\item 0.132670189937579\n",
       "\\item 0.132948072064098\n",
       "\\end{enumerate*}\n",
       "\n",
       "\\item 0.624616455767855\n",
       "\\item \\begin{enumerate*}\n",
       "\\item 0.0114593385232863\n",
       "\\item 0.00949060838191729\n",
       "\\item 0.0122692591510648\n",
       "\\item 0.00949060838191729\n",
       "\\item 0.00879698404940954\n",
       "\\item 0.00935769833017897\n",
       "\\end{enumerate*}\n",
       "\n",
       "\\item 1.00145275532229\n",
       "\\end{enumerate}\n"
      ],
      "text/markdown": [
       "1. 1. 5518\n",
       "2. 4570\n",
       "3. 5908\n",
       "4. 4570\n",
       "5. 4236\n",
       "6. 4506\n",
       "\n",
       "\n",
       "\n",
       "2. 482228.21\n",
       "3. 1. 0.133989615442013\n",
       "2. 0.133013940420014\n",
       "3. 0.134391000735873\n",
       "4. 0.133013940420014\n",
       "5. 0.132670189937579\n",
       "6. 0.132948072064098\n",
       "\n",
       "\n",
       "\n",
       "4. 0.624616455767855\n",
       "5. 1. 0.0114593385232863\n",
       "2. 0.00949060838191729\n",
       "3. 0.0122692591510648\n",
       "4. 0.00949060838191729\n",
       "5. 0.00879698404940954\n",
       "6. 0.00935769833017897\n",
       "\n",
       "\n",
       "\n",
       "6. 1.00145275532229\n",
       "\n",
       "\n"
      ],
      "text/plain": [
       "[[1]]\n",
       "[1] 5518 4570 5908 4570 4236 4506\n",
       "\n",
       "[[2]]\n",
       "[1] 482228.2\n",
       "\n",
       "[[3]]\n",
       "[1] 0.1339896 0.1330139 0.1343910 0.1330139 0.1326702 0.1329481\n",
       "\n",
       "[[4]]\n",
       "[1] 0.6246165\n",
       "\n",
       "[[5]]\n",
       "[1] 0.011459339 0.009490608 0.012269259 0.009490608 0.008796984 0.009357698\n",
       "\n",
       "[[6]]\n",
       "[1] 1.001453\n"
      ]
     },
     "metadata": {},
     "output_type": "display_data"
    }
   ],
   "source": [
    "# for reproduction purposes a set is set (for the random trees generated with the rmtree method)\n",
    "set.seed(42)\n",
    "library(Quartet)\n",
    "library(TreeDist)\n",
    "\n",
    "# this function scores a set of trees with regards to the reference 'glotto_tree'\n",
    "score_trees = function(trees, glotto_tree, range) {\n",
    "    \n",
    "    statuses = QuartetStatus(trees, glotto_tree)\n",
    "    # create 100 random trees\n",
    "    random_forest = rmtree(100, length(range), tip.label = slice(geodata, range)$glotto_code)\n",
    "    # compare them all pairwise\n",
    "    random_statuses = QuartetStatus(random_forest, glotto_tree)\n",
    "\n",
    "    # compute number of differently resolved quartets\n",
    "    d = statuses[,4]\n",
    "    d_rand = mean(random_statuses[,4])\n",
    "    \n",
    "    # compute SD scores\n",
    "    sd = QuartetDivergence(statuses, similarity = F)\n",
    "    sd_rand = mean(QuartetDivergence(random_statuses, similarity = F))\n",
    "    \n",
    "    # compute S2R scores\n",
    "    s2r = SimilarityToReference(statuses, similarity = F, normalize = T)\n",
    "    s2r_rand = mean(SimilarityToReference(random_statuses, similarity = F, normalize = T))\n",
    "    \n",
    "    list(d, d_rand, sd, sd_rand, s2r, s2r_rand)\n",
    "}\n",
    "\n",
    "# call the function for each group of languages\n",
    "northeura_scores = score_trees(northeura_trees, glottree, 1:107)\n",
    "uralic_scores = score_trees(uralic_trees, glottree_uralic, 1:26)\n",
    "indo_scores = score_trees(indo_trees, glottree_indo, 27:63)\n",
    "turkic_scores = score_trees(turkic_trees, glottree_turkic, 64:71)\n",
    "mix_score = score_trees(uralic_indo_turkic_trees, glottree_uralic_indo_turkic, 1:71)\n",
    "\n",
    "# Output the four lists containing the scores\n",
    "northeura_scores\n",
    "indo_scores\n",
    "uralic_scores\n",
    "turkic_scores\n",
    "mix_score"
   ]
  },
  {
   "cell_type": "code",
   "execution_count": null,
   "id": "d7dd8ffb",
   "metadata": {},
   "outputs": [],
   "source": []
  }
 ],
 "metadata": {
  "kernelspec": {
   "display_name": "R",
   "language": "R",
   "name": "ir"
  },
  "language_info": {
   "codemirror_mode": "r",
   "file_extension": ".r",
   "mimetype": "text/x-r-source",
   "name": "R",
   "pygments_lexer": "r",
   "version": "4.2.2"
  }
 },
 "nbformat": 4,
 "nbformat_minor": 5
}
