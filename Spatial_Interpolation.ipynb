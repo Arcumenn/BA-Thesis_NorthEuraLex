{
 "cells": [
  {
   "cell_type": "markdown",
   "id": "ed22e25c",
   "metadata": {},
   "source": [
    "### Spatial Interpolation\n",
    "***\n",
    "***\n",
    "Set working directory, load libraries, read in data."
   ]
  },
  {
   "cell_type": "code",
   "execution_count": 1,
   "id": "f049d05a",
   "metadata": {
    "scrolled": true
   },
   "outputs": [
    {
     "name": "stderr",
     "output_type": "stream",
     "text": [
      "Linking to GEOS 3.9.3, GDAL 3.5.2, PROJ 8.2.1; sf_use_s2() is TRUE\n",
      "\n",
      "To access larger datasets in this package, install the spDataLarge\n",
      "package with: `install.packages('spDataLarge',\n",
      "repos='https://nowosad.github.io/drat/', type='source')`\n",
      "\n",
      "Lade nötiges Paket: plotrix\n",
      "\n",
      "Lade nötiges Paket: colorspace\n",
      "\n",
      "Lade nötiges Paket: e1071\n",
      "\n",
      "\n",
      "Attache Paket: 'smacof'\n",
      "\n",
      "\n",
      "Das folgende Objekt ist maskiert 'package:base':\n",
      "\n",
      "    transform\n",
      "\n",
      "\n",
      "terra 1.6.47\n",
      "\n",
      "\n",
      "Attache Paket: 'terra'\n",
      "\n",
      "\n",
      "Das folgende Objekt ist maskiert 'package:e1071':\n",
      "\n",
      "    interpolate\n",
      "\n",
      "\n",
      "Das folgende Objekt ist maskiert 'package:colorspace':\n",
      "\n",
      "    RGB\n",
      "\n",
      "\n",
      "Das folgende Objekt ist maskiert 'package:plotrix':\n",
      "\n",
      "    rescale\n",
      "\n",
      "\n",
      "── \u001b[1mAttaching packages\u001b[22m ─────────────────────────────────────────────────────────────────────────────── tidyverse 1.3.2 ──\n",
      "\u001b[32m✔\u001b[39m \u001b[34mggplot2\u001b[39m 3.4.0      \u001b[32m✔\u001b[39m \u001b[34mpurrr  \u001b[39m 1.0.1 \n",
      "\u001b[32m✔\u001b[39m \u001b[34mtibble \u001b[39m 3.1.8      \u001b[32m✔\u001b[39m \u001b[34mdplyr  \u001b[39m 1.0.10\n",
      "\u001b[32m✔\u001b[39m \u001b[34mtidyr  \u001b[39m 1.2.1      \u001b[32m✔\u001b[39m \u001b[34mstringr\u001b[39m 1.5.0 \n",
      "\u001b[32m✔\u001b[39m \u001b[34mreadr  \u001b[39m 2.1.3      \u001b[32m✔\u001b[39m \u001b[34mforcats\u001b[39m 0.5.2 \n",
      "── \u001b[1mConflicts\u001b[22m ────────────────────────────────────────────────────────────────────────────────── tidyverse_conflicts() ──\n",
      "\u001b[31m✖\u001b[39m \u001b[34mtidyr\u001b[39m::\u001b[32mextract()\u001b[39m masks \u001b[34mterra\u001b[39m::extract()\n",
      "\u001b[31m✖\u001b[39m \u001b[34mdplyr\u001b[39m::\u001b[32mfilter()\u001b[39m  masks \u001b[34mstats\u001b[39m::filter()\n",
      "\u001b[31m✖\u001b[39m \u001b[34mdplyr\u001b[39m::\u001b[32mlag()\u001b[39m     masks \u001b[34mstats\u001b[39m::lag()\n",
      "\u001b[1mRows: \u001b[22m\u001b[34m107\u001b[39m \u001b[1mColumns: \u001b[22m\u001b[34m7\u001b[39m\n",
      "\u001b[36m──\u001b[39m \u001b[1mColumn specification\u001b[22m \u001b[36m────────────────────────────────────────────────────────────────────────────────────────────────\u001b[39m\n",
      "\u001b[1mDelimiter:\u001b[22m \"\\t\"\n",
      "\u001b[31mchr\u001b[39m (5): name, glotto_code, iso_code, family, subfamily\n",
      "\u001b[32mdbl\u001b[39m (2): latitude, longitude\n",
      "\n",
      "\u001b[36mℹ\u001b[39m Use `spec()` to retrieve the full column specification for this data.\n",
      "\u001b[36mℹ\u001b[39m Specify the column types or set `show_col_types = FALSE` to quiet this message.\n"
     ]
    }
   ],
   "source": [
    "setwd(\"C:/Users/stein/Dropbox/Studium/7. Semester/BA-Thesis/BA-Thesis_NorthEuraLex\")\n",
    "\n",
    "library(gstat)\n",
    "library(sf)\n",
    "library(spData)\n",
    "library(smacof)\n",
    "library(terra)\n",
    "library(tidyverse)\n",
    "library(tmap)\n",
    "\n",
    "pmi_dists = read.csv(\"./language_distances/pmi_dists.csv\")\n",
    "geodata = read_tsv(\"./data/northeuralex-0.9-language-data.tsv\")"
   ]
  },
  {
   "cell_type": "markdown",
   "id": "5942c692",
   "metadata": {},
   "source": [
    "***\n",
    "Use function from the MDS file again and get the projected worldmap."
   ]
  },
  {
   "cell_type": "code",
   "execution_count": 2,
   "id": "c8a2b033",
   "metadata": {},
   "outputs": [],
   "source": [
    "colour_and_convert = function(fit.mds, range_a, range_b = range_a) {\n",
    "\n",
    "   mds_data = \n",
    "        fit.mds$conf[range_a,] %>%\n",
    "        # convert matrix containing the coordinates to tibble\n",
    "        as_tibble() %>%\n",
    "        # add column with ISO codes\n",
    "        mutate(iso_code = slice(geodata, range_b)$iso_code) %>%\n",
    "        # subtract the smallest value (Step 1/2)\n",
    "        mutate(x = D1 - min(.$D1), y = D2 - min(.$D2), z = D3 - min(.$D3)) %>%\n",
    "        # divide by maximum value (Step 2/2, all values are between 0 and 1 now))\n",
    "        mutate(r = x / max(.$x), g = y / max(.$y), b = z / max(.$z)) %>%\n",
    "        # combine r, g, and b into a color\n",
    "        mutate(col = rgb(r,g,b)) %>%\n",
    "        # select the only two relevant columns\n",
    "        select(iso_code, col, r, g, b)\n",
    "\n",
    "    coloured_mds = \n",
    "        slice(geodata, range_b) %>% \n",
    "        select(iso_code, latitude, longitude, name, family, subfamily) %>%\n",
    "        inner_join(mds_data) %>%\n",
    "        st_as_sf(coords=c(\"longitude\", \"latitude\"), crs=4326) %>%\n",
    "        st_transform(\"+proj=eqearth lon_0=125\")\n",
    "    \n",
    "}"
   ]
  },
  {
   "cell_type": "code",
   "execution_count": 3,
   "id": "969b1358",
   "metadata": {},
   "outputs": [
    {
     "name": "stderr",
     "output_type": "stream",
     "text": [
      "Warning message:\n",
      "\"attribute variables are assumed to be spatially constant throughout all geometries\"\n"
     ]
    }
   ],
   "source": [
    "# produce an extremely slim polygon that represents the 60° W meridian\n",
    "meridian_55_west = \n",
    "  st_polygon(x = list(rbind(c(-55.0001, 90), # upper left corner of the polygon\n",
    "                            c(-55, 90), # upper right corner of the polygon\n",
    "                            c(-55, -90), # lower right corner of the polygon\n",
    "                            c(-55.0001, -90), # lower left corner of the polygon\n",
    "                            c(-55.0001, 90)))) %>%\n",
    "  st_sfc() %>%\n",
    "  # set the crs of the polygon to the geodetic system for world\n",
    "  st_set_crs(4326)\n",
    "\n",
    "library(spData)\n",
    "\n",
    "# remove everything on the 60° meridian from the world data, effectively cutting all polygons that cross the meridian\n",
    "world_without_55 = \n",
    "  world %>% \n",
    "  st_difference(meridian_55_west) %>% \n",
    "  st_transform(\"+proj=eqearth lon_0=125\")"
   ]
  },
  {
   "cell_type": "markdown",
   "id": "7b3b3db9",
   "metadata": {},
   "source": [
    "Get rid of some of the languages that are very far away from other languages."
   ]
  },
  {
   "cell_type": "code",
   "execution_count": 4,
   "id": "fcda99b5",
   "metadata": {},
   "outputs": [],
   "source": [
    "inds1 = which(geodata$latitude < 37)\n",
    "inds2 = which(geodata$longitude < -8.1)\n",
    "inds3 = which(geodata$longitude > 49.50000)\n",
    "\n",
    "excluded_langs = sort(unique(c(inds1, inds2, inds3)))"
   ]
  },
  {
   "cell_type": "markdown",
   "id": "9443c301",
   "metadata": {},
   "source": [
    "Apply MDS on a subset of the PMI-based distance matrix. "
   ]
  },
  {
   "cell_type": "code",
   "execution_count": 5,
   "id": "189c666a",
   "metadata": {
    "scrolled": false
   },
   "outputs": [
    {
     "name": "stdout",
     "output_type": "stream",
     "text": [
      "[1] \"Stress\"\n"
     ]
    },
    {
     "data": {
      "text/html": [
       "0.158602250650684"
      ],
      "text/latex": [
       "0.158602250650684"
      ],
      "text/markdown": [
       "0.158602250650684"
      ],
      "text/plain": [
       "[1] 0.1586023"
      ]
     },
     "metadata": {},
     "output_type": "display_data"
    },
    {
     "data": {
      "text/plain": [
       "\n",
       "Call: permtest.smacof(object = fit.pmi, nrep = 100, verbose = FALSE)\n",
       "\n",
       "SMACOF Permutation Test\n",
       "Number of objects: 62 \n",
       "Number of replications (permutations): 100 \n",
       "\n",
       "Observed stress value: 0.159 \n",
       "p-value: <0.001 \n"
      ]
     },
     "metadata": {},
     "output_type": "display_data"
    },
    {
     "data": {
      "image/png": "[encoded data removed]",
      "text/plain": [
       "Plot with title \"Shepard Diagram (Spline MDS)\""
      ]
     },
     "metadata": {
      "image/png": {
       "height": 420,
       "width": 420
      }
     },
     "output_type": "display_data"
    }
   ],
   "source": [
    "fit.pmi = mds(pmi_dists[-excluded_langs, -excluded_langs], ndim = 3, type = \"mspline\", \n",
    "              spline.degree = 4, spline.intKnots = 4)\n",
    "\n",
    "print(\"Stress\")\n",
    "fit.pmi$stress\n",
    "plot(fit.pmi, plot.type = \"Shepard\",\n",
    "main = \"Shepard Diagram (Spline MDS)\")\n",
    "\n",
    "res.perm <- permtest(fit.pmi, nrep = 100, verbose = FALSE)\n",
    "res.perm"
   ]
  },
  {
   "cell_type": "markdown",
   "id": "aaf696ea",
   "metadata": {},
   "source": [
    "Make a map of the languages that are used for the spatial interpolation."
   ]
  },
  {
   "cell_type": "code",
   "execution_count": 8,
   "id": "b9a30af8",
   "metadata": {},
   "outputs": [
    {
     "name": "stderr",
     "output_type": "stream",
     "text": [
      "\u001b[1m\u001b[22mJoining, by = \"iso_code\"\n"
     ]
    },
    {
     "data": {
      "image/png": "[encoded data removed]",
      "text/plain": [
       "plot without title"
      ]
     },
     "metadata": {
      "image/png": {
       "height": 420,
       "width": 420
      }
     },
     "output_type": "display_data"
    }
   ],
   "source": [
    "coloured_northeuralex_pmi = colour_and_convert(fit.pmi, 1:62 , range_b = -excluded_langs)\n",
    "\n",
    "# tmap_save(\n",
    "coloured_northeuralex_pmi %>%\n",
    "    tm_shape() +\n",
    "    tm_symbols(size=0.2) +\n",
    "    tm_shape(world_without_55) +\n",
    "    tm_polygons(alpha = 1, col = 'white', border.alpha = 0.3) +\n",
    "    tm_layout(bg.color = 'lightblue') +\n",
    "    tm_shape(coloured_northeuralex_pmi) +\n",
    "    tm_symbols(size=1.0, col=\"col\", border.lwd=1, alpha=1)\n",
    "# ,filename=\"./imgs/kriging_langs.png\" ,dpi = 600)"
   ]
  },
  {
   "cell_type": "markdown",
   "id": "5b7fc46c",
   "metadata": {},
   "source": [
    "Create a grid of the world."
   ]
  },
  {
   "cell_type": "code",
   "execution_count": 10,
   "id": "94b80fb6",
   "metadata": {},
   "outputs": [],
   "source": [
    "world_grid = \n",
    "    coloured_northeuralex_pmi %>% \n",
    "    # get the rectangle which contains all of the geodata_sf language points\n",
    "    st_bbox() %>%\n",
    "    st_as_sfc() %>%\n",
    "    # create a grid based on that rectangle\n",
    "    st_make_grid(\n",
    "        cellsize = c(10000, 10000),\n",
    "        what=\"centers\"\n",
    "    )"
   ]
  },
  {
   "cell_type": "markdown",
   "id": "e1b325ee",
   "metadata": {},
   "source": [
    "Create variograms for each dimension and fit them with a model of choice."
   ]
  },
  {
   "cell_type": "code",
   "execution_count": 15,
   "id": "759cea0c",
   "metadata": {},
   "outputs": [
    {
     "data": {
      "image/png": "[encoded data removed]",
      "text/plain": [
       "plot without title"
      ]
     },
     "metadata": {
      "image/png": {
       "height": 420,
       "width": 420
      }
     },
     "output_type": "display_data"
    },
    {
     "name": "stderr",
     "output_type": "stream",
     "text": [
      "Warning message in fit.variogram(geodata_vgm, model):\n",
      "\"singular model in variogram fit\"\n"
     ]
    },
    {
     "name": "stdout",
     "output_type": "stream",
     "text": [
      "[1] \"a possible solution MIGHT be to scale semivariances and/or distances\"\n"
     ]
    },
    {
     "data": {
      "image/png": "[encoded data removed]",
      "text/plain": [
       "plot without title"
      ]
     },
     "metadata": {
      "image/png": {
       "height": 420,
       "width": 420
      }
     },
     "output_type": "display_data"
    },
    {
     "data": {
      "image/png": "[encoded data removed]",
      "text/plain": [
       "plot without title"
      ]
     },
     "metadata": {
      "image/png": {
       "height": 420,
       "width": 420
      }
     },
     "output_type": "display_data"
    }
   ],
   "source": [
    "geodata_vgm = variogram(r ~ 1, coloured_northeuralex_pmi, cutoff = 2000000)\n",
    "# ...and plot it\n",
    "plot(geodata_vgm, cex = 1.5)\n",
    "     \n",
    "model = vgm(nugget = 0.035, psill=0.07 ,\"Lin\", range = 2000000)\n",
    "plot(geodata_vgm, model, cex = 1.5, lwd= 1.5)\n",
    "\n",
    "vgm_fit = fit.variogram(geodata_vgm, model)\n",
    "# ... and plot it with the variogram\n",
    "plot(geodata_vgm, vgm_fit, cex = 1.5, lwd= 1.5)"
   ]
  },
  {
   "cell_type": "code",
   "execution_count": 17,
   "id": "fafd01d9",
   "metadata": {},
   "outputs": [
    {
     "name": "stdout",
     "output_type": "stream",
     "text": [
      "[using ordinary kriging]\n"
     ]
    }
   ],
   "source": [
    "geodata_krigedR = krige(r ~ 1, coloured_northeuralex_pmi, world_grid, model=vgm_fit)"
   ]
  },
  {
   "cell_type": "code",
   "execution_count": 28,
   "id": "4431ef78",
   "metadata": {},
   "outputs": [
    {
     "name": "stderr",
     "output_type": "stream",
     "text": [
      "Warning message:\n",
      "\"attribute variables are assumed to be spatially constant throughout all geometries\"\n"
     ]
    },
    {
     "data": {
      "text/html": [
       "<strong>png:</strong> 2"
      ],
      "text/latex": [
       "\\textbf{png:} 2"
      ],
      "text/markdown": [
       "**png:** 2"
      ],
      "text/plain": [
       "png \n",
       "  2 "
      ]
     },
     "metadata": {},
     "output_type": "display_data"
    },
    {
     "ename": "ERROR",
     "evalue": "Error in title(\"First Dimension\", line = 0.5, cex.main = 2): plot.new has not been called yet\n",
     "output_type": "error",
     "traceback": [
      "Error in title(\"First Dimension\", line = 0.5, cex.main = 2): plot.new has not been called yet\nTraceback:\n",
      "1. title(\"First Dimension\", line = 0.5, cex.main = 2)"
     ]
    }
   ],
   "source": [
    "krigeR.raster = \n",
    "      geodata_krigedR %>%\n",
    "      cbind(., st_coordinates(.)) %>%\n",
    "      st_drop_geometry() %>%\n",
    "      mutate(R = var1.pred) %>%\n",
    "      dplyr::select(X, Y, R) %>%\n",
    "      raster::rasterFromXYZ() %>%\n",
    "      as(\"SpatRaster\")\n",
    "\n",
    "# filter the raster, so that predictions on the oceans / seas are ignored\n",
    "filtered_raster = mask(krigeR.raster, vect(world_without_55)) \n",
    "# plot the raster\n",
    "eurasia = st_intersection(world_without_55, st_as_sfc(st_bbox(coloured_northeuralex_pmi)))\n",
    "png(file=\"./imgs/first_dimension.png\", 5000, 5000, res=600)\n",
    "plot(filtered_raster, axes=FALSE, legend=T, plg=list(shrink=0.66))\n",
    "plot(st_geometry(eurasia), add=T, border=\"brown\")\n",
    "dev.off()\n",
    "title(\"First Dimension\", line=0.5, cex.main=2.0)"
   ]
  },
  {
   "cell_type": "code",
   "execution_count": 20,
   "id": "69bce559",
   "metadata": {
    "scrolled": false
   },
   "outputs": [
    {
     "data": {
      "text/html": [
       "<strong>png:</strong> 2"
      ],
      "text/latex": [
       "\\textbf{png:} 2"
      ],
      "text/markdown": [
       "**png:** 2"
      ],
      "text/plain": [
       "png \n",
       "  2 "
      ]
     },
     "metadata": {},
     "output_type": "display_data"
    },
    {
     "data": {
      "image/png": "[encoded data removed]",
      "text/plain": [
       "plot without title"
      ]
     },
     "metadata": {
      "image/png": {
       "height": 420,
       "width": 420
      }
     },
     "output_type": "display_data"
    },
    {
     "data": {
      "image/png": "[encoded data removed]",
      "text/plain": [
       "plot without title"
      ]
     },
     "metadata": {
      "image/png": {
       "height": 420,
       "width": 420
      }
     },
     "output_type": "display_data"
    }
   ],
   "source": [
    "geodata_vgm = variogram(g ~ 1, coloured_northeuralex_pmi, cutoff=2000000)\n",
    "# ...and plot it\n",
    "\n",
    "plot(geodata_vgm, cex = 1.5)\n",
    "\n",
    "png(file=\"./imgs/variogram_fitted.png\", 5000, 5000, res=600)\n",
    "model = vgm(nugget = 0.025, psill=0.7, \"Hol\", range=2000000)\n",
    "plot(geodata_vgm, model, cex = 1.5, lwd= 1.5)\n",
    "dev.off()\n",
    "\n",
    "vgm_fit = fit.variogram(geodata_vgm, model)\n",
    "# ... and plot it with the variogram\n",
    "plot(geodata_vgm, vgm_fit, cex = 1.5, lwd= 1.5)"
   ]
  },
  {
   "cell_type": "code",
   "execution_count": 21,
   "id": "16e284f1",
   "metadata": {},
   "outputs": [
    {
     "name": "stdout",
     "output_type": "stream",
     "text": [
      "[using ordinary kriging]\n"
     ]
    }
   ],
   "source": [
    "geodata_krigedG = krige(g ~ 1, coloured_northeuralex_pmi, world_grid, model=vgm_fit)"
   ]
  },
  {
   "cell_type": "code",
   "execution_count": 27,
   "id": "0b5ea80d",
   "metadata": {},
   "outputs": [
    {
     "name": "stderr",
     "output_type": "stream",
     "text": [
      "Warning message:\n",
      "\"attribute variables are assumed to be spatially constant throughout all geometries\"\n"
     ]
    },
    {
     "data": {
      "text/html": [
       "<strong>png:</strong> 2"
      ],
      "text/latex": [
       "\\textbf{png:} 2"
      ],
      "text/markdown": [
       "**png:** 2"
      ],
      "text/plain": [
       "png \n",
       "  2 "
      ]
     },
     "metadata": {},
     "output_type": "display_data"
    },
    {
     "ename": "ERROR",
     "evalue": "Error in title(\"Second Dimension\", line = 0.5, cex.main = 2): plot.new has not been called yet\n",
     "output_type": "error",
     "traceback": [
      "Error in title(\"Second Dimension\", line = 0.5, cex.main = 2): plot.new has not been called yet\nTraceback:\n",
      "1. title(\"Second Dimension\", line = 0.5, cex.main = 2)"
     ]
    }
   ],
   "source": [
    "krigeG.raster = \n",
    "      geodata_krigedG %>%\n",
    "      cbind(., st_coordinates(.)) %>%\n",
    "      st_drop_geometry() %>%\n",
    "      mutate(G = var1.pred) %>%\n",
    "      dplyr::select(X, Y, G) %>%\n",
    "      raster::rasterFromXYZ() %>%\n",
    "      as(\"SpatRaster\")\n",
    "\n",
    "# filter the raster, so that predictions on the oceans / seas are ignored\n",
    "filtered_raster = mask(krigeG.raster, vect(world_without_55)) \n",
    "# plot the raster\n",
    "eurasia = st_intersection(world_without_55, st_as_sfc(st_bbox(coloured_northeuralex_pmi)))\n",
    "png(file=\"./imgs/second_dimension.png\", 5000, 5000, res=600)\n",
    "plot(filtered_raster, axes=FALSE, legend=T, plg=list(shrink=0.66))\n",
    "plot(st_geometry(eurasia), add=T, border=\"brown\")\n",
    "dev.off()\n",
    "title(\"Second Dimension\", line=0.5, cex.main=2.0)"
   ]
  },
  {
   "cell_type": "code",
   "execution_count": 23,
   "id": "c7307ebf",
   "metadata": {
    "scrolled": false
   },
   "outputs": [
    {
     "data": {
      "image/png": "[encoded data removed]",
      "text/plain": [
       "plot without title"
      ]
     },
     "metadata": {
      "image/png": {
       "height": 420,
       "width": 420
      }
     },
     "output_type": "display_data"
    },
    {
     "name": "stderr",
     "output_type": "stream",
     "text": [
      "Warning message in fit.variogram(geodata_vgm, model):\n",
      "\"singular model in variogram fit\"\n"
     ]
    },
    {
     "name": "stdout",
     "output_type": "stream",
     "text": [
      "[1] \"a possible solution MIGHT be to scale semivariances and/or distances\"\n"
     ]
    },
    {
     "data": {
      "image/png": "[encoded data removed]",
      "text/plain": [
       "plot without title"
      ]
     },
     "metadata": {
      "image/png": {
       "height": 420,
       "width": 420
      }
     },
     "output_type": "display_data"
    },
    {
     "data": {
      "image/png": "[encoded data removed]",
      "text/plain": [
       "plot without title"
      ]
     },
     "metadata": {
      "image/png": {
       "height": 420,
       "width": 420
      }
     },
     "output_type": "display_data"
    }
   ],
   "source": [
    "geodata_vgm = variogram(b ~ 1, coloured_northeuralex_pmi, cutoff=2000000)\n",
    "# ...and plot it\n",
    "plot(geodata_vgm, cex = 1.5)\n",
    "\n",
    "model = vgm(nugget = 0.025, psill=0.038, \"Lin\", range=2000000)\n",
    "plot(geodata_vgm, model, cex = 1.5, lwd= 1.5)\n",
    "\n",
    "vgm_fit = fit.variogram(geodata_vgm, model)\n",
    "# ... and plot it with the variogram\n",
    "plot(geodata_vgm, vgm_fit, cex = 1.5, lwd= 1.5)"
   ]
  },
  {
   "cell_type": "code",
   "execution_count": 24,
   "id": "168e472e",
   "metadata": {},
   "outputs": [
    {
     "name": "stdout",
     "output_type": "stream",
     "text": [
      "[using ordinary kriging]\n"
     ]
    }
   ],
   "source": [
    "geodata_krigedB = krige(b ~ 1, coloured_northeuralex_pmi, world_grid, model=vgm_fit)"
   ]
  },
  {
   "cell_type": "code",
   "execution_count": 26,
   "id": "0fb01a4c",
   "metadata": {},
   "outputs": [
    {
     "name": "stderr",
     "output_type": "stream",
     "text": [
      "Warning message:\n",
      "\"attribute variables are assumed to be spatially constant throughout all geometries\"\n"
     ]
    },
    {
     "data": {
      "text/html": [
       "<strong>png:</strong> 2"
      ],
      "text/latex": [
       "\\textbf{png:} 2"
      ],
      "text/markdown": [
       "**png:** 2"
      ],
      "text/plain": [
       "png \n",
       "  2 "
      ]
     },
     "metadata": {},
     "output_type": "display_data"
    },
    {
     "ename": "ERROR",
     "evalue": "Error in title(\"Third Dimension\", line = 0.5, cex.main = 2): plot.new has not been called yet\n",
     "output_type": "error",
     "traceback": [
      "Error in title(\"Third Dimension\", line = 0.5, cex.main = 2): plot.new has not been called yet\nTraceback:\n",
      "1. title(\"Third Dimension\", line = 0.5, cex.main = 2)"
     ]
    }
   ],
   "source": [
    "krigeB.raster = \n",
    "      geodata_krigedB %>%\n",
    "      cbind(., st_coordinates(.)) %>%\n",
    "      st_drop_geometry() %>%\n",
    "      mutate(B = var1.pred) %>%\n",
    "      dplyr::select(X, Y, B) %>%\n",
    "      raster::rasterFromXYZ() %>%\n",
    "      as(\"SpatRaster\")\n",
    "\n",
    "# filter the raster, so that predictions on the oceans / seas are ignored\n",
    "filtered_raster = mask(krigeB.raster, vect(world_without_55)) \n",
    "# plot the raster\n",
    "eurasia = st_intersection(world_without_55, st_as_sfc(st_bbox(coloured_northeuralex_pmi)))\n",
    "plot(filtered_raster, axes=FALSE, legend=T, plg=list(shrink=0.66))\n",
    "plot(st_geometry(eurasia), add=T, border=\"brown\")\n",
    "title(\"Third Dimension\", line=0.5, cex.main=2.0)"
   ]
  },
  {
   "cell_type": "code",
   "execution_count": 114,
   "id": "e32ff658",
   "metadata": {},
   "outputs": [],
   "source": [
    "# scale the values to be between 0 and 1\n",
    "krigeR.raster = krigeR.raster - minmax(krigeR.raster)[1]\n",
    "krigeR.raster = krigeR.raster / minmax(krigeR.raster)[2]\n",
    "\n",
    "# repeat for 2nd dimension\n",
    "krigeG.raster = krigeG.raster - minmax(krigeG.raster)[1]\n",
    "krigeG.raster = krigeG.raster / minmax(krigeG.raster)[2]\n",
    "\n",
    "# repeat for 3rd dimension\n",
    "krigeB.raster = krigeB.raster - minmax(krigeB.raster)[1]\n",
    "krigeB.raster = krigeB.raster / minmax(krigeB.raster)[2]"
   ]
  },
  {
   "cell_type": "code",
   "execution_count": 115,
   "id": "7778396d",
   "metadata": {},
   "outputs": [
    {
     "data": {
      "text/html": [
       "<strong>pdf:</strong> 2"
      ],
      "text/latex": [
       "\\textbf{pdf:} 2"
      ],
      "text/markdown": [
       "**pdf:** 2"
      ],
      "text/plain": [
       "pdf \n",
       "  2 "
      ]
     },
     "metadata": {},
     "output_type": "display_data"
    }
   ],
   "source": [
    "# adapting the plot window for the last two plots\n",
    "krigeRGB.raster = c(krigeR.raster, krigeG.raster, krigeB.raster)\n",
    "filtered_raster = mask(krigeRGB.raster, vect(world_without_55)) \n",
    "png(file=\"./imgs/kriging_map2.png\", 5000, 5000, res=600)\n",
    "plotRGB(filtered_raster, axes=T, scale=1, colNA=\"lightblue\", alpha=1, bgalpha=200)\n",
    "plot(st_geometry(eurasia), add=T, border=\"black\")\n",
    "dev.off()"
   ]
  },
  {
   "cell_type": "code",
   "execution_count": 134,
   "id": "aa480330",
   "metadata": {},
   "outputs": [
    {
     "name": "stdout",
     "output_type": "stream",
     "text": [
      "\n",
      "To cite package gstat in publications use:\n",
      "\n",
      "  Pebesma, E.J., 2004. Multivariable geostatistics in S: the gstat\n",
      "  package. Computers & Geosciences, 30: 683-691.\n",
      "\n",
      "Ein BibTeX-Eintrag für LaTeX-Benutzer ist\n",
      "\n",
      "  @Article{,\n",
      "    title = {Multivariable geostatistics in {S}: the gstat package},\n",
      "    author = {Edzer J. Pebesma},\n",
      "    journal = {Computers & Geosciences},\n",
      "    year = {2004},\n",
      "    volume = {30},\n",
      "    pages = {683-691},\n",
      "  }\n",
      "\n",
      "  Benedikt Gräler, Edzer Pebesma and Gerard Heuvelink, 2016.\n",
      "  Spatio-Temporal Interpolation using gstat.  The R Journal 8(1),\n",
      "  204-218\n",
      "\n",
      "Ein BibTeX-Eintrag für LaTeX-Benutzer ist\n",
      "\n",
      "  @Article{,\n",
      "    title = {Spatio-Temporal Interpolation using gstat},\n",
      "    author = {Benedikt Gräler and Edzer Pebesma and Gerard Heuvelink},\n",
      "    year = {2016},\n",
      "    journal = {The R Journal},\n",
      "    volume = {8},\n",
      "    issue = {1},\n",
      "    pages = {204-218},\n",
      "    url = {https://journal.r-project.org/archive/2016/RJ-2016-014/index.html},\n",
      "  }\n",
      "\n"
     ]
    }
   ],
   "source": [
    "print(citation(\"gstat\"), bibtex=T)"
   ]
  },
  {
   "cell_type": "code",
   "execution_count": null,
   "id": "4dea4ce2",
   "metadata": {},
   "outputs": [],
   "source": []
  }
 ],
 "metadata": {
  "kernelspec": {
   "display_name": "R",
   "language": "R",
   "name": "ir"
  },
  "language_info": {
   "codemirror_mode": "r",
   "file_extension": ".r",
   "mimetype": "text/x-r-source",
   "name": "R",
   "pygments_lexer": "r",
   "version": "4.2.2"
  }
 },
 "nbformat": 4,
 "nbformat_minor": 5
}
