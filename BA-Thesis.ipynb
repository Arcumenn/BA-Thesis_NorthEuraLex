{
 "cells": [
  {
   "cell_type": "code",
   "execution_count": 1,
   "id": "b531bae9",
   "metadata": {
    "scrolled": true
   },
   "outputs": [
    {
     "name": "stderr",
     "output_type": "stream",
     "text": [
      "-- \u001b[1mAttaching packages\u001b[22m ------------------------------------------------------------------------------- tidyverse 1.3.1 --\n",
      "\n",
      "\u001b[32mv\u001b[39m \u001b[34mggplot2\u001b[39m 3.3.5     \u001b[32mv\u001b[39m \u001b[34mpurrr  \u001b[39m 0.3.4\n",
      "\u001b[32mv\u001b[39m \u001b[34mtibble \u001b[39m 3.1.5     \u001b[32mv\u001b[39m \u001b[34mdplyr  \u001b[39m 1.0.7\n",
      "\u001b[32mv\u001b[39m \u001b[34mtidyr  \u001b[39m 1.1.4     \u001b[32mv\u001b[39m \u001b[34mstringr\u001b[39m 1.4.0\n",
      "\u001b[32mv\u001b[39m \u001b[34mreadr  \u001b[39m 2.0.2     \u001b[32mv\u001b[39m \u001b[34mforcats\u001b[39m 0.5.1\n",
      "\n",
      "-- \u001b[1mConflicts\u001b[22m ---------------------------------------------------------------------------------- tidyverse_conflicts() --\n",
      "\u001b[31mx\u001b[39m \u001b[34mdplyr\u001b[39m::\u001b[32mfilter()\u001b[39m masks \u001b[34mstats\u001b[39m::filter()\n",
      "\u001b[31mx\u001b[39m \u001b[34mdplyr\u001b[39m::\u001b[32mlag()\u001b[39m    masks \u001b[34mstats\u001b[39m::lag()\n",
      "\n"
     ]
    }
   ],
   "source": [
    "# set working directory\n",
    "setwd(\"C:/Users/stein/Dropbox/Studium/7. Semester/BA-Thesis/BA-Thesis_NorthEuraLex\")\n",
    "\n",
    "# load tidyverse library for better dataframes\n",
    "library(tidyverse)"
   ]
  },
  {
   "cell_type": "markdown",
   "id": "04550c4f",
   "metadata": {},
   "source": [
    "If necessary, download the necessary TSV-files from the NorthEuraLex website. Then read in the data."
   ]
  },
  {
   "cell_type": "code",
   "execution_count": 2,
   "id": "0fd07ddd",
   "metadata": {},
   "outputs": [
    {
     "data": {
      "text/html": [
       "<table class=\"dataframe\">\n",
       "<caption>A tibble: 6 × 10</caption>\n",
       "<thead>\n",
       "\t<tr><th scope=col>Language_ID</th><th scope=col>Glottocode</th><th scope=col>Concept_ID</th><th scope=col>Word_Form</th><th scope=col>rawIPA</th><th scope=col>IPA</th><th scope=col>ASJP</th><th scope=col>List</th><th scope=col>Dolgo</th><th scope=col>Next_Step</th></tr>\n",
       "\t<tr><th scope=col>&lt;chr&gt;</th><th scope=col>&lt;chr&gt;</th><th scope=col>&lt;chr&gt;</th><th scope=col>&lt;chr&gt;</th><th scope=col>&lt;chr&gt;</th><th scope=col>&lt;chr&gt;</th><th scope=col>&lt;chr&gt;</th><th scope=col>&lt;chr&gt;</th><th scope=col>&lt;chr&gt;</th><th scope=col>&lt;chr&gt;</th></tr>\n",
       "</thead>\n",
       "<tbody>\n",
       "\t<tr><td>fin</td><td>finn1318</td><td>Auge::N </td><td>silmä </td><td>silmæ                      </td><td>s i l m æ                     </td><td>silmE</td><td>SILME</td><td>SVRMV</td><td>validate</td></tr>\n",
       "\t<tr><td>fin</td><td>finn1318</td><td><span style=white-space:pre-wrap>Ohr::N  </span></td><td>korva </td><td>k&lt;U+0254&gt;r&lt;U+028B&gt;&lt;U+0251&gt; </td><td>k &lt;U+0254&gt; r &lt;U+028B&gt; &lt;U+0251&gt;</td><td>korwa</td><td>KURWA</td><td>KVRWV</td><td>validate</td></tr>\n",
       "\t<tr><td>fin</td><td>finn1318</td><td>Nase::N </td><td><span style=white-space:pre-wrap>nenä  </span></td><td><span style=white-space:pre-wrap>n&lt;U+025B&gt;næ                </span></td><td><span style=white-space:pre-wrap>n &lt;U+025B&gt; n æ                </span></td><td>nEnE </td><td>NENE </td><td>NVNV </td><td>validate</td></tr>\n",
       "\t<tr><td>fin</td><td>finn1318</td><td>Mund::N </td><td><span style=white-space:pre-wrap>suu   </span></td><td><span style=white-space:pre-wrap>su&lt;U+02D0&gt;                 </span></td><td><span style=white-space:pre-wrap>s u u                         </span></td><td><span style=white-space:pre-wrap>su   </span></td><td><span style=white-space:pre-wrap>SY   </span></td><td><span style=white-space:pre-wrap>SV   </span></td><td>validate</td></tr>\n",
       "\t<tr><td>fin</td><td>finn1318</td><td>Zahn::N </td><td>hammas</td><td>h&lt;U+0251&gt;m&lt;U+02D0&gt;&lt;U+0251&gt;s</td><td><span style=white-space:pre-wrap>h &lt;U+0251&gt; m m &lt;U+0251&gt; s     </span></td><td>hamas</td><td>HAMAS</td><td>HVMVS</td><td>validate</td></tr>\n",
       "\t<tr><td>fin</td><td>finn1318</td><td>Zunge::N</td><td>kieli </td><td><span style=white-space:pre-wrap>ki&lt;U+025B&gt;&lt;U+032F&gt;li       </span></td><td><span style=white-space:pre-wrap>k i &lt;U+025B&gt; l i              </span></td><td>kiEli</td><td>KIELI</td><td>KVRV </td><td>validate</td></tr>\n",
       "</tbody>\n",
       "</table>\n"
      ],
      "text/latex": [
       "A tibble: 6 × 10\n",
       "\\begin{tabular}{llllllllll}\n",
       " Language\\_ID & Glottocode & Concept\\_ID & Word\\_Form & rawIPA & IPA & ASJP & List & Dolgo & Next\\_Step\\\\\n",
       " <chr> & <chr> & <chr> & <chr> & <chr> & <chr> & <chr> & <chr> & <chr> & <chr>\\\\\n",
       "\\hline\n",
       "\t fin & finn1318 & Auge::N  & silmä  & silmæ                       & s i l m æ                      & silmE & SILME & SVRMV & validate\\\\\n",
       "\t fin & finn1318 & Ohr::N   & korva  & k<U+0254>r<U+028B><U+0251>  & k <U+0254> r <U+028B> <U+0251> & korwa & KURWA & KVRWV & validate\\\\\n",
       "\t fin & finn1318 & Nase::N  & nenä   & n<U+025B>næ                 & n <U+025B> n æ                 & nEnE  & NENE  & NVNV  & validate\\\\\n",
       "\t fin & finn1318 & Mund::N  & suu    & su<U+02D0>                  & s u u                          & su    & SY    & SV    & validate\\\\\n",
       "\t fin & finn1318 & Zahn::N  & hammas & h<U+0251>m<U+02D0><U+0251>s & h <U+0251> m m <U+0251> s      & hamas & HAMAS & HVMVS & validate\\\\\n",
       "\t fin & finn1318 & Zunge::N & kieli  & ki<U+025B><U+032F>li        & k i <U+025B> l i               & kiEli & KIELI & KVRV  & validate\\\\\n",
       "\\end{tabular}\n"
      ],
      "text/markdown": [
       "\n",
       "A tibble: 6 × 10\n",
       "\n",
       "| Language_ID &lt;chr&gt; | Glottocode &lt;chr&gt; | Concept_ID &lt;chr&gt; | Word_Form &lt;chr&gt; | rawIPA &lt;chr&gt; | IPA &lt;chr&gt; | ASJP &lt;chr&gt; | List &lt;chr&gt; | Dolgo &lt;chr&gt; | Next_Step &lt;chr&gt; |\n",
       "|---|---|---|---|---|---|---|---|---|---|\n",
       "| fin | finn1318 | Auge::N  | silmä  | silmæ                       | s i l m æ                      | silmE | SILME | SVRMV | validate |\n",
       "| fin | finn1318 | Ohr::N   | korva  | k&lt;U+0254&gt;r&lt;U+028B&gt;&lt;U+0251&gt;  | k &lt;U+0254&gt; r &lt;U+028B&gt; &lt;U+0251&gt; | korwa | KURWA | KVRWV | validate |\n",
       "| fin | finn1318 | Nase::N  | nenä   | n&lt;U+025B&gt;næ                 | n &lt;U+025B&gt; n æ                 | nEnE  | NENE  | NVNV  | validate |\n",
       "| fin | finn1318 | Mund::N  | suu    | su&lt;U+02D0&gt;                  | s u u                          | su    | SY    | SV    | validate |\n",
       "| fin | finn1318 | Zahn::N  | hammas | h&lt;U+0251&gt;m&lt;U+02D0&gt;&lt;U+0251&gt;s | h &lt;U+0251&gt; m m &lt;U+0251&gt; s      | hamas | HAMAS | HVMVS | validate |\n",
       "| fin | finn1318 | Zunge::N | kieli  | ki&lt;U+025B&gt;&lt;U+032F&gt;li        | k i &lt;U+025B&gt; l i               | kiEli | KIELI | KVRV  | validate |\n",
       "\n"
      ],
      "text/plain": [
       "  Language_ID Glottocode Concept_ID Word_Form rawIPA                     \n",
       "1 fin         finn1318   Auge::N    silmä     silmæ                      \n",
       "2 fin         finn1318   Ohr::N     korva     k<U+0254>r<U+028B><U+0251> \n",
       "3 fin         finn1318   Nase::N    nenä      n<U+025B>næ                \n",
       "4 fin         finn1318   Mund::N    suu       su<U+02D0>                 \n",
       "5 fin         finn1318   Zahn::N    hammas    h<U+0251>m<U+02D0><U+0251>s\n",
       "6 fin         finn1318   Zunge::N   kieli     ki<U+025B><U+032F>li       \n",
       "  IPA                            ASJP  List  Dolgo Next_Step\n",
       "1 s i l m æ                      silmE SILME SVRMV validate \n",
       "2 k <U+0254> r <U+028B> <U+0251> korwa KURWA KVRWV validate \n",
       "3 n <U+025B> n æ                 nEnE  NENE  NVNV  validate \n",
       "4 s u u                          su    SY    SV    validate \n",
       "5 h <U+0251> m m <U+0251> s      hamas HAMAS HVMVS validate \n",
       "6 k i <U+025B> l i               kiEli KIELI KVRV  validate "
      ]
     },
     "metadata": {},
     "output_type": "display_data"
    },
    {
     "data": {
      "text/html": [
       "<table class=\"dataframe\">\n",
       "<caption>A tibble: 6 × 7</caption>\n",
       "<thead>\n",
       "\t<tr><th scope=col>name</th><th scope=col>glotto_code</th><th scope=col>iso_code</th><th scope=col>family</th><th scope=col>subfamily</th><th scope=col>latitude</th><th scope=col>longitude</th></tr>\n",
       "\t<tr><th scope=col>&lt;chr&gt;</th><th scope=col>&lt;chr&gt;</th><th scope=col>&lt;chr&gt;</th><th scope=col>&lt;chr&gt;</th><th scope=col>&lt;chr&gt;</th><th scope=col>&lt;dbl&gt;</th><th scope=col>&lt;dbl&gt;</th></tr>\n",
       "</thead>\n",
       "<tbody>\n",
       "\t<tr><td>Finnish         </td><td>finn1318</td><td>fin</td><td>Uralic</td><td>Finnic</td><td>61.0000</td><td>24.4500</td></tr>\n",
       "\t<tr><td>North Karelian  </td><td>kare1335</td><td>krl</td><td>Uralic</td><td>Finnic</td><td>65.1691</td><td>30.8655</td></tr>\n",
       "\t<tr><td>Olonets Karelian</td><td>livv1243</td><td>olo</td><td>Uralic</td><td>Finnic</td><td>61.0000</td><td>33.0000</td></tr>\n",
       "\t<tr><td>Veps            </td><td>veps1250</td><td>vep</td><td>Uralic</td><td>Finnic</td><td>60.3353</td><td>34.7865</td></tr>\n",
       "\t<tr><td>Estonian        </td><td>esto1258</td><td>ekk</td><td>Uralic</td><td>Finnic</td><td>59.2500</td><td>24.7500</td></tr>\n",
       "\t<tr><td>Livonian        </td><td>livv1244</td><td>liv</td><td>Uralic</td><td>Finnic</td><td>57.5660</td><td>22.0262</td></tr>\n",
       "</tbody>\n",
       "</table>\n"
      ],
      "text/latex": [
       "A tibble: 6 × 7\n",
       "\\begin{tabular}{lllllll}\n",
       " name & glotto\\_code & iso\\_code & family & subfamily & latitude & longitude\\\\\n",
       " <chr> & <chr> & <chr> & <chr> & <chr> & <dbl> & <dbl>\\\\\n",
       "\\hline\n",
       "\t Finnish          & finn1318 & fin & Uralic & Finnic & 61.0000 & 24.4500\\\\\n",
       "\t North Karelian   & kare1335 & krl & Uralic & Finnic & 65.1691 & 30.8655\\\\\n",
       "\t Olonets Karelian & livv1243 & olo & Uralic & Finnic & 61.0000 & 33.0000\\\\\n",
       "\t Veps             & veps1250 & vep & Uralic & Finnic & 60.3353 & 34.7865\\\\\n",
       "\t Estonian         & esto1258 & ekk & Uralic & Finnic & 59.2500 & 24.7500\\\\\n",
       "\t Livonian         & livv1244 & liv & Uralic & Finnic & 57.5660 & 22.0262\\\\\n",
       "\\end{tabular}\n"
      ],
      "text/markdown": [
       "\n",
       "A tibble: 6 × 7\n",
       "\n",
       "| name &lt;chr&gt; | glotto_code &lt;chr&gt; | iso_code &lt;chr&gt; | family &lt;chr&gt; | subfamily &lt;chr&gt; | latitude &lt;dbl&gt; | longitude &lt;dbl&gt; |\n",
       "|---|---|---|---|---|---|---|\n",
       "| Finnish          | finn1318 | fin | Uralic | Finnic | 61.0000 | 24.4500 |\n",
       "| North Karelian   | kare1335 | krl | Uralic | Finnic | 65.1691 | 30.8655 |\n",
       "| Olonets Karelian | livv1243 | olo | Uralic | Finnic | 61.0000 | 33.0000 |\n",
       "| Veps             | veps1250 | vep | Uralic | Finnic | 60.3353 | 34.7865 |\n",
       "| Estonian         | esto1258 | ekk | Uralic | Finnic | 59.2500 | 24.7500 |\n",
       "| Livonian         | livv1244 | liv | Uralic | Finnic | 57.5660 | 22.0262 |\n",
       "\n"
      ],
      "text/plain": [
       "  name             glotto_code iso_code family subfamily latitude longitude\n",
       "1 Finnish          finn1318    fin      Uralic Finnic    61.0000  24.4500  \n",
       "2 North Karelian   kare1335    krl      Uralic Finnic    65.1691  30.8655  \n",
       "3 Olonets Karelian livv1243    olo      Uralic Finnic    61.0000  33.0000  \n",
       "4 Veps             veps1250    vep      Uralic Finnic    60.3353  34.7865  \n",
       "5 Estonian         esto1258    ekk      Uralic Finnic    59.2500  24.7500  \n",
       "6 Livonian         livv1244    liv      Uralic Finnic    57.5660  22.0262  "
      ]
     },
     "metadata": {},
     "output_type": "display_data"
    }
   ],
   "source": [
    "conceptdata_loc = \"northeuralex-0.9-forms.tsv\"\n",
    "geodata_loc = \"northeuralex-0.9-language-data.tsv\"\n",
    "\n",
    "if(!file.exists(conceptdata_loc)) {\n",
    "  download.file(\n",
    "    \"http://www.sfs.uni-tuebingen.de/~jdellert/northeuralex/0.9/northeuralex-0.9-forms.tsv\",\n",
    "    dest = conceptdata_loc\n",
    "  )\n",
    "}\n",
    "\n",
    "if(!file.exists(geodata_loc)) {\n",
    "  download.file(\n",
    "    \"http://www.sfs.uni-tuebingen.de/~jdellert/northeuralex/0.9/northeuralex-0.9-language-data.tsv\",\n",
    "    dest = geodata_loc\n",
    "  )\n",
    "}\n",
    "\n",
    "raw_conceptdata = read_tsv(\"northeuralex-0.9-forms.tsv\", show_col_types = FALSE)\n",
    "raw_geodata = read_tsv(\"northeuralex-0.9-language-data.tsv\", show_col_types = FALSE)\n",
    "\n",
    "head(raw_conceptdata)\n",
    "head(raw_geodata)"
   ]
  },
  {
   "cell_type": "markdown",
   "id": "0d441483",
   "metadata": {},
   "source": [
    "Filter for rows which have \"validate\" in their _Next_Step_ column, thereby excluding rows that still need to be reviewed."
   ]
  },
  {
   "cell_type": "code",
   "execution_count": 3,
   "id": "fda7fa74",
   "metadata": {},
   "outputs": [],
   "source": [
    "conceptdata = raw_conceptdata %>% filter(Next_Step == \"validate\")"
   ]
  },
  {
   "cell_type": "code",
   "execution_count": 4,
   "id": "59acd063",
   "metadata": {
    "scrolled": true
   },
   "outputs": [
    {
     "data": {
      "text/html": [
       "<table class=\"dataframe\">\n",
       "<caption>A tibble: 6 × 7</caption>\n",
       "<thead>\n",
       "\t<tr><th scope=col>Language_ID</th><th scope=col>Concept_ID</th><th scope=col>Word_Form</th><th scope=col>rawIPA</th><th scope=col>IPA</th><th scope=col>ASJP</th><th scope=col>Next_Step</th></tr>\n",
       "\t<tr><th scope=col>&lt;chr&gt;</th><th scope=col>&lt;chr&gt;</th><th scope=col>&lt;chr&gt;</th><th scope=col>&lt;chr&gt;</th><th scope=col>&lt;chr&gt;</th><th scope=col>&lt;chr&gt;</th><th scope=col>&lt;chr&gt;</th></tr>\n",
       "</thead>\n",
       "<tbody>\n",
       "\t<tr><td>fin</td><td>Auge::N </td><td>silmä </td><td>silmæ                      </td><td>s i l m æ                     </td><td>silmE</td><td>validate</td></tr>\n",
       "\t<tr><td>fin</td><td><span style=white-space:pre-wrap>Ohr::N  </span></td><td>korva </td><td>k&lt;U+0254&gt;r&lt;U+028B&gt;&lt;U+0251&gt; </td><td>k &lt;U+0254&gt; r &lt;U+028B&gt; &lt;U+0251&gt;</td><td>korwa</td><td>validate</td></tr>\n",
       "\t<tr><td>fin</td><td>Nase::N </td><td><span style=white-space:pre-wrap>nenä  </span></td><td><span style=white-space:pre-wrap>n&lt;U+025B&gt;næ                </span></td><td><span style=white-space:pre-wrap>n &lt;U+025B&gt; n æ                </span></td><td>nEnE </td><td>validate</td></tr>\n",
       "\t<tr><td>fin</td><td>Mund::N </td><td><span style=white-space:pre-wrap>suu   </span></td><td><span style=white-space:pre-wrap>su&lt;U+02D0&gt;                 </span></td><td><span style=white-space:pre-wrap>s u u                         </span></td><td><span style=white-space:pre-wrap>su   </span></td><td>validate</td></tr>\n",
       "\t<tr><td>fin</td><td>Zahn::N </td><td>hammas</td><td>h&lt;U+0251&gt;m&lt;U+02D0&gt;&lt;U+0251&gt;s</td><td><span style=white-space:pre-wrap>h &lt;U+0251&gt; m m &lt;U+0251&gt; s     </span></td><td>hamas</td><td>validate</td></tr>\n",
       "\t<tr><td>fin</td><td>Zunge::N</td><td>kieli </td><td><span style=white-space:pre-wrap>ki&lt;U+025B&gt;&lt;U+032F&gt;li       </span></td><td><span style=white-space:pre-wrap>k i &lt;U+025B&gt; l i              </span></td><td>kiEli</td><td>validate</td></tr>\n",
       "</tbody>\n",
       "</table>\n"
      ],
      "text/latex": [
       "A tibble: 6 × 7\n",
       "\\begin{tabular}{lllllll}\n",
       " Language\\_ID & Concept\\_ID & Word\\_Form & rawIPA & IPA & ASJP & Next\\_Step\\\\\n",
       " <chr> & <chr> & <chr> & <chr> & <chr> & <chr> & <chr>\\\\\n",
       "\\hline\n",
       "\t fin & Auge::N  & silmä  & silmæ                       & s i l m æ                      & silmE & validate\\\\\n",
       "\t fin & Ohr::N   & korva  & k<U+0254>r<U+028B><U+0251>  & k <U+0254> r <U+028B> <U+0251> & korwa & validate\\\\\n",
       "\t fin & Nase::N  & nenä   & n<U+025B>næ                 & n <U+025B> n æ                 & nEnE  & validate\\\\\n",
       "\t fin & Mund::N  & suu    & su<U+02D0>                  & s u u                          & su    & validate\\\\\n",
       "\t fin & Zahn::N  & hammas & h<U+0251>m<U+02D0><U+0251>s & h <U+0251> m m <U+0251> s      & hamas & validate\\\\\n",
       "\t fin & Zunge::N & kieli  & ki<U+025B><U+032F>li        & k i <U+025B> l i               & kiEli & validate\\\\\n",
       "\\end{tabular}\n"
      ],
      "text/markdown": [
       "\n",
       "A tibble: 6 × 7\n",
       "\n",
       "| Language_ID &lt;chr&gt; | Concept_ID &lt;chr&gt; | Word_Form &lt;chr&gt; | rawIPA &lt;chr&gt; | IPA &lt;chr&gt; | ASJP &lt;chr&gt; | Next_Step &lt;chr&gt; |\n",
       "|---|---|---|---|---|---|---|\n",
       "| fin | Auge::N  | silmä  | silmæ                       | s i l m æ                      | silmE | validate |\n",
       "| fin | Ohr::N   | korva  | k&lt;U+0254&gt;r&lt;U+028B&gt;&lt;U+0251&gt;  | k &lt;U+0254&gt; r &lt;U+028B&gt; &lt;U+0251&gt; | korwa | validate |\n",
       "| fin | Nase::N  | nenä   | n&lt;U+025B&gt;næ                 | n &lt;U+025B&gt; n æ                 | nEnE  | validate |\n",
       "| fin | Mund::N  | suu    | su&lt;U+02D0&gt;                  | s u u                          | su    | validate |\n",
       "| fin | Zahn::N  | hammas | h&lt;U+0251&gt;m&lt;U+02D0&gt;&lt;U+0251&gt;s | h &lt;U+0251&gt; m m &lt;U+0251&gt; s      | hamas | validate |\n",
       "| fin | Zunge::N | kieli  | ki&lt;U+025B&gt;&lt;U+032F&gt;li        | k i &lt;U+025B&gt; l i               | kiEli | validate |\n",
       "\n"
      ],
      "text/plain": [
       "  Language_ID Concept_ID Word_Form rawIPA                     \n",
       "1 fin         Auge::N    silmä     silmæ                      \n",
       "2 fin         Ohr::N     korva     k<U+0254>r<U+028B><U+0251> \n",
       "3 fin         Nase::N    nenä      n<U+025B>næ                \n",
       "4 fin         Mund::N    suu       su<U+02D0>                 \n",
       "5 fin         Zahn::N    hammas    h<U+0251>m<U+02D0><U+0251>s\n",
       "6 fin         Zunge::N   kieli     ki<U+025B><U+032F>li       \n",
       "  IPA                            ASJP  Next_Step\n",
       "1 s i l m æ                      silmE validate \n",
       "2 k <U+0254> r <U+028B> <U+0251> korwa validate \n",
       "3 n <U+025B> n æ                 nEnE  validate \n",
       "4 s u u                          su    validate \n",
       "5 h <U+0251> m m <U+0251> s      hamas validate \n",
       "6 k i <U+025B> l i               kiEli validate "
      ]
     },
     "metadata": {},
     "output_type": "display_data"
    }
   ],
   "source": [
    "conceptdata = conceptdata %>% select(Language_ID, Concept_ID, Word_Form, rawIPA, IPA, ASJP, Next_Step)\n",
    "head(conceptdata)"
   ]
  },
  {
   "cell_type": "code",
   "execution_count": 5,
   "id": "92335cea",
   "metadata": {
    "scrolled": false
   },
   "outputs": [
    {
     "data": {
      "text/html": [
       "'kɔrʋɑ'"
      ],
      "text/latex": [
       "'kɔrʋɑ'"
      ],
      "text/markdown": [
       "'kɔrʋɑ'"
      ],
      "text/plain": [
       "[1] \"k<U+0254>r<U+028B><U+0251>\""
      ]
     },
     "metadata": {},
     "output_type": "display_data"
    },
    {
     "data": {
      "text/html": [
       "'nɛnæ'"
      ],
      "text/latex": [
       "'nɛnæ'"
      ],
      "text/markdown": [
       "'nɛnæ'"
      ],
      "text/plain": [
       "[1] \"n<U+025B>næ\""
      ]
     },
     "metadata": {},
     "output_type": "display_data"
    },
    {
     "data": {
      "text/html": [
       "'suː'"
      ],
      "text/latex": [
       "'suː'"
      ],
      "text/markdown": [
       "'suː'"
      ],
      "text/plain": [
       "[1] \"su<U+02D0>\""
      ]
     },
     "metadata": {},
     "output_type": "display_data"
    },
    {
     "data": {
      "text/html": [
       "'hɑmːɑs'"
      ],
      "text/latex": [
       "'hɑmːɑs'"
      ],
      "text/markdown": [
       "'hɑmːɑs'"
      ],
      "text/plain": [
       "[1] \"h<U+0251>m<U+02D0><U+0251>s\""
      ]
     },
     "metadata": {},
     "output_type": "display_data"
    },
    {
     "data": {
      "text/html": [
       "'kiɛ̯li'"
      ],
      "text/latex": [
       "'kiɛ̯li'"
      ],
      "text/markdown": [
       "'kiɛ̯li'"
      ],
      "text/plain": [
       "[1] \"ki<U+025B><U+032F>li\""
      ]
     },
     "metadata": {},
     "output_type": "display_data"
    }
   ],
   "source": [
    "# Unicode characters are not correctly displayed in the tibble, but are internally correct\n",
    "conceptdata$rawIPA[2]\n",
    "conceptdata$rawIPA[3]\n",
    "conceptdata$rawIPA[4]\n",
    "conceptdata$rawIPA[5]\n",
    "conceptdata$rawIPA[6]"
   ]
  },
  {
   "cell_type": "markdown",
   "id": "de3040ef",
   "metadata": {},
   "source": [
    "Only select the three relevant columns."
   ]
  },
  {
   "cell_type": "code",
   "execution_count": 7,
   "id": "b722ebe2",
   "metadata": {},
   "outputs": [
    {
     "data": {
      "text/html": [
       "<table class=\"dataframe\">\n",
       "<caption>A tibble: 6 × 3</caption>\n",
       "<thead>\n",
       "\t<tr><th scope=col>Language_ID</th><th scope=col>Concept_ID</th><th scope=col>ASJP</th></tr>\n",
       "\t<tr><th scope=col>&lt;chr&gt;</th><th scope=col>&lt;chr&gt;</th><th scope=col>&lt;chr&gt;</th></tr>\n",
       "</thead>\n",
       "<tbody>\n",
       "\t<tr><td>fin</td><td>Auge::N </td><td>silmE</td></tr>\n",
       "\t<tr><td>fin</td><td>Ohr::N  </td><td>korwa</td></tr>\n",
       "\t<tr><td>fin</td><td>Nase::N </td><td>nEnE </td></tr>\n",
       "\t<tr><td>fin</td><td>Mund::N </td><td>su   </td></tr>\n",
       "\t<tr><td>fin</td><td>Zahn::N </td><td>hamas</td></tr>\n",
       "\t<tr><td>fin</td><td>Zunge::N</td><td>kiEli</td></tr>\n",
       "</tbody>\n",
       "</table>\n"
      ],
      "text/latex": [
       "A tibble: 6 × 3\n",
       "\\begin{tabular}{lll}\n",
       " Language\\_ID & Concept\\_ID & ASJP\\\\\n",
       " <chr> & <chr> & <chr>\\\\\n",
       "\\hline\n",
       "\t fin & Auge::N  & silmE\\\\\n",
       "\t fin & Ohr::N   & korwa\\\\\n",
       "\t fin & Nase::N  & nEnE \\\\\n",
       "\t fin & Mund::N  & su   \\\\\n",
       "\t fin & Zahn::N  & hamas\\\\\n",
       "\t fin & Zunge::N & kiEli\\\\\n",
       "\\end{tabular}\n"
      ],
      "text/markdown": [
       "\n",
       "A tibble: 6 × 3\n",
       "\n",
       "| Language_ID &lt;chr&gt; | Concept_ID &lt;chr&gt; | ASJP &lt;chr&gt; |\n",
       "|---|---|---|\n",
       "| fin | Auge::N  | silmE |\n",
       "| fin | Ohr::N   | korwa |\n",
       "| fin | Nase::N  | nEnE  |\n",
       "| fin | Mund::N  | su    |\n",
       "| fin | Zahn::N  | hamas |\n",
       "| fin | Zunge::N | kiEli |\n",
       "\n"
      ],
      "text/plain": [
       "  Language_ID Concept_ID ASJP \n",
       "1 fin         Auge::N    silmE\n",
       "2 fin         Ohr::N     korwa\n",
       "3 fin         Nase::N    nEnE \n",
       "4 fin         Mund::N    su   \n",
       "5 fin         Zahn::N    hamas\n",
       "6 fin         Zunge::N   kiEli"
      ]
     },
     "metadata": {},
     "output_type": "display_data"
    }
   ],
   "source": [
    "conceptdata = conceptdata %>% select(Language_ID, Concept_ID, ASJP)\n",
    "head(conceptdata)"
   ]
  },
  {
   "cell_type": "markdown",
   "id": "31d4b1bd",
   "metadata": {},
   "source": [
    "Make a vector with the ASJP word list and filter the data to only keep rows with one of the 40 ASJP concepts. "
   ]
  },
  {
   "cell_type": "code",
   "execution_count": 8,
   "id": "30ff8425",
   "metadata": {},
   "outputs": [
    {
     "data": {
      "text/html": [
       "<table class=\"dataframe\">\n",
       "<caption>A tibble: 6 × 3</caption>\n",
       "<thead>\n",
       "\t<tr><th scope=col>Language_ID</th><th scope=col>Concept_ID</th><th scope=col>ASJP</th></tr>\n",
       "\t<tr><th scope=col>&lt;chr&gt;</th><th scope=col>&lt;chr&gt;</th><th scope=col>&lt;chr&gt;</th></tr>\n",
       "</thead>\n",
       "<tbody>\n",
       "\t<tr><td>fin</td><td>Auge::N </td><td>silmE</td></tr>\n",
       "\t<tr><td>fin</td><td>Ohr::N  </td><td>korwa</td></tr>\n",
       "\t<tr><td>fin</td><td>Nase::N </td><td>nEnE </td></tr>\n",
       "\t<tr><td>fin</td><td>Zahn::N </td><td>hamas</td></tr>\n",
       "\t<tr><td>fin</td><td>Zunge::N</td><td>kiEli</td></tr>\n",
       "\t<tr><td>fin</td><td>Busen::N</td><td>rinta</td></tr>\n",
       "</tbody>\n",
       "</table>\n"
      ],
      "text/latex": [
       "A tibble: 6 × 3\n",
       "\\begin{tabular}{lll}\n",
       " Language\\_ID & Concept\\_ID & ASJP\\\\\n",
       " <chr> & <chr> & <chr>\\\\\n",
       "\\hline\n",
       "\t fin & Auge::N  & silmE\\\\\n",
       "\t fin & Ohr::N   & korwa\\\\\n",
       "\t fin & Nase::N  & nEnE \\\\\n",
       "\t fin & Zahn::N  & hamas\\\\\n",
       "\t fin & Zunge::N & kiEli\\\\\n",
       "\t fin & Busen::N & rinta\\\\\n",
       "\\end{tabular}\n"
      ],
      "text/markdown": [
       "\n",
       "A tibble: 6 × 3\n",
       "\n",
       "| Language_ID &lt;chr&gt; | Concept_ID &lt;chr&gt; | ASJP &lt;chr&gt; |\n",
       "|---|---|---|\n",
       "| fin | Auge::N  | silmE |\n",
       "| fin | Ohr::N   | korwa |\n",
       "| fin | Nase::N  | nEnE  |\n",
       "| fin | Zahn::N  | hamas |\n",
       "| fin | Zunge::N | kiEli |\n",
       "| fin | Busen::N | rinta |\n",
       "\n"
      ],
      "text/plain": [
       "  Language_ID Concept_ID ASJP \n",
       "1 fin         Auge::N    silmE\n",
       "2 fin         Ohr::N     korwa\n",
       "3 fin         Nase::N    nEnE \n",
       "4 fin         Zahn::N    hamas\n",
       "5 fin         Zunge::N   kiEli\n",
       "6 fin         Busen::N   rinta"
      ]
     },
     "metadata": {},
     "output_type": "display_data"
    }
   ],
   "source": [
    "asjp_concepts = c(\"Auge::N\", \"Ohr::N\", \"Nase::N\", \"Zahn::N\", \"Zunge::N\",\n",
    "                  \"Busen::N\", \"Hand::N\", \"Knie::N\", \"Haut::N\", \"Blut::N\", \n",
    "                  \"Knochen::N\", \"Leber::N\", \"Sonne::N\", \"Stern::N\", \"Wasser::N\",\n",
    "                  \"Stein::N\", \"Feuer::N\", \"Berg::N\", \"Baum::N\", \"Blatt::N\",\n",
    "                  \"Horn::N\", \"Hund::N\", \"Fisch::N\", \"Laus::N\", \"Mensch::N\", \n",
    "                  \"Name::N\", \"Pfad::N\", \"Nacht::N\", \"voll::A\", \"neu::A\", \n",
    "                  \"ich::PRN\", \"du::PRN\", \"wir::PRN\", \"eins::NUM\", \"zwei::NUM\",\n",
    "                  \"trinken::V\", \"sterben::V\", \"kommen::V\", \"sehen::V\", \n",
    "                  \"hören::V\")\n",
    "\n",
    "conceptdata = filter(conceptdata, Concept_ID %in% asjp_concepts)\n",
    "head(conceptdata)"
   ]
  },
  {
   "cell_type": "markdown",
   "id": "2b239c0e",
   "metadata": {},
   "source": [
    "Get the iso codes of all the languages."
   ]
  },
  {
   "cell_type": "code",
   "execution_count": 11,
   "id": "39e0dd98",
   "metadata": {},
   "outputs": [
    {
     "data": {
      "text/html": [
       "<table class=\"dataframe\">\n",
       "<caption>A tibble: 6 × 1</caption>\n",
       "<thead>\n",
       "\t<tr><th scope=col>iso_code</th></tr>\n",
       "\t<tr><th scope=col>&lt;chr&gt;</th></tr>\n",
       "</thead>\n",
       "<tbody>\n",
       "\t<tr><td>fin</td></tr>\n",
       "\t<tr><td>krl</td></tr>\n",
       "\t<tr><td>olo</td></tr>\n",
       "\t<tr><td>vep</td></tr>\n",
       "\t<tr><td>ekk</td></tr>\n",
       "\t<tr><td>liv</td></tr>\n",
       "</tbody>\n",
       "</table>\n"
      ],
      "text/latex": [
       "A tibble: 6 × 1\n",
       "\\begin{tabular}{l}\n",
       " iso\\_code\\\\\n",
       " <chr>\\\\\n",
       "\\hline\n",
       "\t fin\\\\\n",
       "\t krl\\\\\n",
       "\t olo\\\\\n",
       "\t vep\\\\\n",
       "\t ekk\\\\\n",
       "\t liv\\\\\n",
       "\\end{tabular}\n"
      ],
      "text/markdown": [
       "\n",
       "A tibble: 6 × 1\n",
       "\n",
       "| iso_code &lt;chr&gt; |\n",
       "|---|\n",
       "| fin |\n",
       "| krl |\n",
       "| olo |\n",
       "| vep |\n",
       "| ekk |\n",
       "| liv |\n",
       "\n"
      ],
      "text/plain": [
       "  iso_code\n",
       "1 fin     \n",
       "2 krl     \n",
       "3 olo     \n",
       "4 vep     \n",
       "5 ekk     \n",
       "6 liv     "
      ]
     },
     "metadata": {},
     "output_type": "display_data"
    }
   ],
   "source": [
    "languages = raw_geodata %>% select(iso_code)\n",
    "head(languages)"
   ]
  },
  {
   "cell_type": "markdown",
   "id": "16a8eeb5",
   "metadata": {},
   "source": [
    "For each language, compile a list of the concepts and the corresponding word(s) for that concept."
   ]
  },
  {
   "cell_type": "code",
   "execution_count": 12,
   "id": "c73b8335",
   "metadata": {},
   "outputs": [],
   "source": [
    "language_params = list()\n",
    "for (i in 1:nrow(languages)) {\n",
    "  lang = \n",
    "    conceptdata %>%\n",
    "    filter(Language_ID == languages$iso_code[i]) %>%\n",
    "    select(Concept_ID, ASJP)\n",
    "  language_params[[i]] = lang\n",
    "}"
   ]
  },
  {
   "cell_type": "markdown",
   "id": "8ff79e8e",
   "metadata": {},
   "source": [
    "To calculate the affine gap scores in the next step, the PMI scores between the ASJP sound classes are needed. If necessary, download the file with the PMI scores. Then read them in."
   ]
  },
  {
   "cell_type": "code",
   "execution_count": 49,
   "id": "8744df2b",
   "metadata": {},
   "outputs": [
    {
     "data": {
      "text/html": [
       "<table class=\"dataframe\">\n",
       "<caption>A data.frame: 6 × 41</caption>\n",
       "<thead>\n",
       "\t<tr><th></th><th scope=col>!</th><th scope=col>3</th><th scope=col>4</th><th scope=col>5</th><th scope=col>7</th><th scope=col>8</th><th scope=col>C</th><th scope=col>E</th><th scope=col>G</th><th scope=col>L</th><th scope=col>...</th><th scope=col>q</th><th scope=col>r</th><th scope=col>s</th><th scope=col>t</th><th scope=col>u</th><th scope=col>v</th><th scope=col>w</th><th scope=col>x</th><th scope=col>y</th><th scope=col>z</th></tr>\n",
       "\t<tr><th></th><th scope=col>&lt;dbl&gt;</th><th scope=col>&lt;dbl&gt;</th><th scope=col>&lt;dbl&gt;</th><th scope=col>&lt;dbl&gt;</th><th scope=col>&lt;dbl&gt;</th><th scope=col>&lt;dbl&gt;</th><th scope=col>&lt;dbl&gt;</th><th scope=col>&lt;dbl&gt;</th><th scope=col>&lt;dbl&gt;</th><th scope=col>&lt;dbl&gt;</th><th scope=col>...</th><th scope=col>&lt;dbl&gt;</th><th scope=col>&lt;dbl&gt;</th><th scope=col>&lt;dbl&gt;</th><th scope=col>&lt;dbl&gt;</th><th scope=col>&lt;dbl&gt;</th><th scope=col>&lt;dbl&gt;</th><th scope=col>&lt;dbl&gt;</th><th scope=col>&lt;dbl&gt;</th><th scope=col>&lt;dbl&gt;</th><th scope=col>&lt;dbl&gt;</th></tr>\n",
       "</thead>\n",
       "<tbody>\n",
       "\t<tr><th scope=row>!</th><td> 5.1221920</td><td>-5.366628</td><td>-0.6660987</td><td>-3.8046271</td><td>-4.727376</td><td>-2.5387277</td><td>-4.173302</td><td>-4.8432118</td><td>-0.2110367</td><td>-3.087661</td><td>...</td><td>-3.633199</td><td>-5.777114</td><td>-5.4221885</td><td>-6.020425375</td><td>-6.4771753</td><td>-3.733401</td><td>-5.1084969</td><td>-4.0021361</td><td>-5.133982</td><td>-3.478218</td></tr>\n",
       "\t<tr><th scope=row>3</th><td>-5.3666279</td><td> 2.321213</td><td>-4.0673450</td><td>-4.9032883</td><td>-7.435475</td><td>-5.2468267</td><td>-6.881401</td><td>-0.5782361</td><td>-3.6122829</td><td>-6.488907</td><td>...</td><td>-5.088535</td><td>-8.485213</td><td>-7.0316753</td><td>-8.728524451</td><td>-0.6736969</td><td>-6.441500</td><td>-8.5097432</td><td>-7.4033824</td><td>-5.167933</td><td>-5.780852</td></tr>\n",
       "\t<tr><th scope=row>4</th><td>-0.6660987</td><td>-4.067345</td><td> 5.2679133</td><td> 0.8958533</td><td>-3.428093</td><td>-0.1408324</td><td>-2.874019</td><td>-3.5439288</td><td> 1.0882463</td><td>-1.788378</td><td>...</td><td>-2.333916</td><td>-4.477831</td><td>-4.1229056</td><td>-4.721142391</td><td>-5.1778923</td><td>-2.434118</td><td>-3.1160668</td><td>-2.7028531</td><td>-3.834699</td><td>-2.178935</td></tr>\n",
       "\t<tr><th scope=row>5</th><td>-3.8046271</td><td>-4.903288</td><td> 0.8958533</td><td> 3.9886589</td><td>-4.264036</td><td>-4.3779731</td><td>-3.373490</td><td>-6.6824572</td><td>-1.3571349</td><td>-2.624321</td><td>...</td><td>-5.472445</td><td>-4.182373</td><td>-7.2614340</td><td>-6.761058514</td><td>-8.3164207</td><td>-5.572647</td><td>-6.2545952</td><td>-5.8413815</td><td>-1.054334</td><td>-2.544875</td></tr>\n",
       "\t<tr><th scope=row>7</th><td>-4.7273756</td><td>-7.435475</td><td>-3.4280926</td><td>-4.2640360</td><td> 3.702041</td><td>-4.2021093</td><td>-4.855854</td><td>-5.6592956</td><td>-2.9730306</td><td>-2.111985</td><td>...</td><td> 2.268349</td><td>-2.326502</td><td>-1.3543887</td><td>-0.653834114</td><td>-9.2391692</td><td>-5.396783</td><td>-0.1478133</td><td>-0.3572501</td><td>-1.950556</td><td>-4.448453</td></tr>\n",
       "\t<tr><th scope=row>8</th><td>-2.5387277</td><td>-5.246827</td><td>-0.1408324</td><td>-4.3779731</td><td>-4.202109</td><td> 4.2922055</td><td>-2.348752</td><td>-4.7234106</td><td>-0.7843826</td><td> 1.221795</td><td>...</td><td>-3.513398</td><td>-0.785940</td><td> 0.6456476</td><td>-0.002097624</td><td>-7.0505213</td><td>-3.208135</td><td>-5.6818429</td><td>-3.8823349</td><td> 1.012892</td><td> 1.701008</td></tr>\n",
       "</tbody>\n",
       "</table>\n"
      ],
      "text/latex": [
       "A data.frame: 6 × 41\n",
       "\\begin{tabular}{r|lllllllllllllllllllll}\n",
       "  & ! & 3 & 4 & 5 & 7 & 8 & C & E & G & L & ... & q & r & s & t & u & v & w & x & y & z\\\\\n",
       "  & <dbl> & <dbl> & <dbl> & <dbl> & <dbl> & <dbl> & <dbl> & <dbl> & <dbl> & <dbl> & ... & <dbl> & <dbl> & <dbl> & <dbl> & <dbl> & <dbl> & <dbl> & <dbl> & <dbl> & <dbl>\\\\\n",
       "\\hline\n",
       "\t! &  5.1221920 & -5.366628 & -0.6660987 & -3.8046271 & -4.727376 & -2.5387277 & -4.173302 & -4.8432118 & -0.2110367 & -3.087661 & ... & -3.633199 & -5.777114 & -5.4221885 & -6.020425375 & -6.4771753 & -3.733401 & -5.1084969 & -4.0021361 & -5.133982 & -3.478218\\\\\n",
       "\t3 & -5.3666279 &  2.321213 & -4.0673450 & -4.9032883 & -7.435475 & -5.2468267 & -6.881401 & -0.5782361 & -3.6122829 & -6.488907 & ... & -5.088535 & -8.485213 & -7.0316753 & -8.728524451 & -0.6736969 & -6.441500 & -8.5097432 & -7.4033824 & -5.167933 & -5.780852\\\\\n",
       "\t4 & -0.6660987 & -4.067345 &  5.2679133 &  0.8958533 & -3.428093 & -0.1408324 & -2.874019 & -3.5439288 &  1.0882463 & -1.788378 & ... & -2.333916 & -4.477831 & -4.1229056 & -4.721142391 & -5.1778923 & -2.434118 & -3.1160668 & -2.7028531 & -3.834699 & -2.178935\\\\\n",
       "\t5 & -3.8046271 & -4.903288 &  0.8958533 &  3.9886589 & -4.264036 & -4.3779731 & -3.373490 & -6.6824572 & -1.3571349 & -2.624321 & ... & -5.472445 & -4.182373 & -7.2614340 & -6.761058514 & -8.3164207 & -5.572647 & -6.2545952 & -5.8413815 & -1.054334 & -2.544875\\\\\n",
       "\t7 & -4.7273756 & -7.435475 & -3.4280926 & -4.2640360 &  3.702041 & -4.2021093 & -4.855854 & -5.6592956 & -2.9730306 & -2.111985 & ... &  2.268349 & -2.326502 & -1.3543887 & -0.653834114 & -9.2391692 & -5.396783 & -0.1478133 & -0.3572501 & -1.950556 & -4.448453\\\\\n",
       "\t8 & -2.5387277 & -5.246827 & -0.1408324 & -4.3779731 & -4.202109 &  4.2922055 & -2.348752 & -4.7234106 & -0.7843826 &  1.221795 & ... & -3.513398 & -0.785940 &  0.6456476 & -0.002097624 & -7.0505213 & -3.208135 & -5.6818429 & -3.8823349 &  1.012892 &  1.701008\\\\\n",
       "\\end{tabular}\n"
      ],
      "text/markdown": [
       "\n",
       "A data.frame: 6 × 41\n",
       "\n",
       "| <!--/--> | ! &lt;dbl&gt; | 3 &lt;dbl&gt; | 4 &lt;dbl&gt; | 5 &lt;dbl&gt; | 7 &lt;dbl&gt; | 8 &lt;dbl&gt; | C &lt;dbl&gt; | E &lt;dbl&gt; | G &lt;dbl&gt; | L &lt;dbl&gt; | ... ... | q &lt;dbl&gt; | r &lt;dbl&gt; | s &lt;dbl&gt; | t &lt;dbl&gt; | u &lt;dbl&gt; | v &lt;dbl&gt; | w &lt;dbl&gt; | x &lt;dbl&gt; | y &lt;dbl&gt; | z &lt;dbl&gt; |\n",
       "|---|---|---|---|---|---|---|---|---|---|---|---|---|---|---|---|---|---|---|---|---|---|\n",
       "| ! |  5.1221920 | -5.366628 | -0.6660987 | -3.8046271 | -4.727376 | -2.5387277 | -4.173302 | -4.8432118 | -0.2110367 | -3.087661 | ... | -3.633199 | -5.777114 | -5.4221885 | -6.020425375 | -6.4771753 | -3.733401 | -5.1084969 | -4.0021361 | -5.133982 | -3.478218 |\n",
       "| 3 | -5.3666279 |  2.321213 | -4.0673450 | -4.9032883 | -7.435475 | -5.2468267 | -6.881401 | -0.5782361 | -3.6122829 | -6.488907 | ... | -5.088535 | -8.485213 | -7.0316753 | -8.728524451 | -0.6736969 | -6.441500 | -8.5097432 | -7.4033824 | -5.167933 | -5.780852 |\n",
       "| 4 | -0.6660987 | -4.067345 |  5.2679133 |  0.8958533 | -3.428093 | -0.1408324 | -2.874019 | -3.5439288 |  1.0882463 | -1.788378 | ... | -2.333916 | -4.477831 | -4.1229056 | -4.721142391 | -5.1778923 | -2.434118 | -3.1160668 | -2.7028531 | -3.834699 | -2.178935 |\n",
       "| 5 | -3.8046271 | -4.903288 |  0.8958533 |  3.9886589 | -4.264036 | -4.3779731 | -3.373490 | -6.6824572 | -1.3571349 | -2.624321 | ... | -5.472445 | -4.182373 | -7.2614340 | -6.761058514 | -8.3164207 | -5.572647 | -6.2545952 | -5.8413815 | -1.054334 | -2.544875 |\n",
       "| 7 | -4.7273756 | -7.435475 | -3.4280926 | -4.2640360 |  3.702041 | -4.2021093 | -4.855854 | -5.6592956 | -2.9730306 | -2.111985 | ... |  2.268349 | -2.326502 | -1.3543887 | -0.653834114 | -9.2391692 | -5.396783 | -0.1478133 | -0.3572501 | -1.950556 | -4.448453 |\n",
       "| 8 | -2.5387277 | -5.246827 | -0.1408324 | -4.3779731 | -4.202109 |  4.2922055 | -2.348752 | -4.7234106 | -0.7843826 |  1.221795 | ... | -3.513398 | -0.785940 |  0.6456476 | -0.002097624 | -7.0505213 | -3.208135 | -5.6818429 | -3.8823349 |  1.012892 |  1.701008 |\n",
       "\n"
      ],
      "text/plain": [
       "  !          3         4          5          7         8          C        \n",
       "!  5.1221920 -5.366628 -0.6660987 -3.8046271 -4.727376 -2.5387277 -4.173302\n",
       "3 -5.3666279  2.321213 -4.0673450 -4.9032883 -7.435475 -5.2468267 -6.881401\n",
       "4 -0.6660987 -4.067345  5.2679133  0.8958533 -3.428093 -0.1408324 -2.874019\n",
       "5 -3.8046271 -4.903288  0.8958533  3.9886589 -4.264036 -4.3779731 -3.373490\n",
       "7 -4.7273756 -7.435475 -3.4280926 -4.2640360  3.702041 -4.2021093 -4.855854\n",
       "8 -2.5387277 -5.246827 -0.1408324 -4.3779731 -4.202109  4.2922055 -2.348752\n",
       "  E          G          L         ... q         r         s         \n",
       "! -4.8432118 -0.2110367 -3.087661 ... -3.633199 -5.777114 -5.4221885\n",
       "3 -0.5782361 -3.6122829 -6.488907 ... -5.088535 -8.485213 -7.0316753\n",
       "4 -3.5439288  1.0882463 -1.788378 ... -2.333916 -4.477831 -4.1229056\n",
       "5 -6.6824572 -1.3571349 -2.624321 ... -5.472445 -4.182373 -7.2614340\n",
       "7 -5.6592956 -2.9730306 -2.111985 ...  2.268349 -2.326502 -1.3543887\n",
       "8 -4.7234106 -0.7843826  1.221795 ... -3.513398 -0.785940  0.6456476\n",
       "  t            u          v         w          x          y         z        \n",
       "! -6.020425375 -6.4771753 -3.733401 -5.1084969 -4.0021361 -5.133982 -3.478218\n",
       "3 -8.728524451 -0.6736969 -6.441500 -8.5097432 -7.4033824 -5.167933 -5.780852\n",
       "4 -4.721142391 -5.1778923 -2.434118 -3.1160668 -2.7028531 -3.834699 -2.178935\n",
       "5 -6.761058514 -8.3164207 -5.572647 -6.2545952 -5.8413815 -1.054334 -2.544875\n",
       "7 -0.653834114 -9.2391692 -5.396783 -0.1478133 -0.3572501 -1.950556 -4.448453\n",
       "8 -0.002097624 -7.0505213 -3.208135 -5.6818429 -3.8823349  1.012892  1.701008"
      ]
     },
     "metadata": {},
     "output_type": "display_data"
    }
   ],
   "source": [
    "PMI_data_loc = \"pnas.1500331112.sd04.csv\"\n",
    "\n",
    "\n",
    "if(!file.exists(PMI_data_loc)) {\n",
    "  download.file(\n",
    "    \"http://www.pnas.org/lookup/suppl/doi:10.1073/pnas.1500331112/-/DCSupplemental/pnas.1500331112.sd04.csv\",\n",
    "    dest = PMI_data_loc\n",
    "  )\n",
    "}\n",
    "\n",
    "\n",
    "PMI_scores = read.table(\"pnas.1500331112.sd04.csv\", sep = \",\", check.names=FALSE)\n",
    "head(PMI_scores)"
   ]
  },
  {
   "cell_type": "markdown",
   "id": "027c98fd",
   "metadata": {},
   "source": [
    "Next, a function to calculate the affine gap score between two words is needed.\n",
    "\n",
    "The following R code has been adapted from the _affine_ function in the python **py_stringmatching** package; https://github.com/anhaidgroup/py_stringmatching/blob/master/py_stringmatching/similarity_measure/cython/cython_affine.pyx). \n",
    "\n",
    "The _gap_start_ and _gap_continuation_ values are taken from the paper _Phylogenetic Inference from Word Lists Using Weighted Alignment with Empirically Determined Weights_ by Gerhard Jäger (https://brill.com/view/journals/ldc/3/2/article-p245_4.xml?language=en)"
   ]
  },
  {
   "cell_type": "code",
   "execution_count": 54,
   "id": "d6dbf9bf",
   "metadata": {},
   "outputs": [],
   "source": [
    "affine <- function(word1, word2, gap_start = -2.4930, gap_continuation = -1.7057) {\n",
    "  \n",
    "  length1 = nchar(word1)\n",
    "  length2 = nchar(word2)\n",
    "  \n",
    "  m = matrix(0, length1 + 1, length2 + 1)\n",
    "  x = matrix(0, length1 + 1, length2 + 1)\n",
    "  y = matrix(0, length1 + 1, length2 + 1)\n",
    "  \n",
    "  for (i in 2:(length1 + 1)){\n",
    "    m[i, 1] = -Inf\n",
    "    x[i, 1] = gap_start + (i - 1) * gap_continuation\n",
    "    y[i, 1] = -Inf\n",
    "  } \n",
    "  \n",
    "  for (j in 2:(length2 + 1)){\n",
    "    m[1, j] = -Inf\n",
    "    x[1, j] = -Inf\n",
    "    y[1, j] = gap_start + (j - 1) * gap_continuation\n",
    "  }\n",
    "  \n",
    "  for (i in 2:(length1 + 1)){\n",
    "    for (j in 2:(length2 + 1)){\n",
    "      m[i,j] = PMI_scores[substr(word1, i - 1, i - 1), substr(word2, j - 1, j - 1)] +\n",
    "        max(m[i - 1, j - 1], x[i - 1, j - 1], y[i - 1, j - 1])\n",
    "      \n",
    "      x[i, j] = max(gap_start + m[i - 1, j], gap_continuation + x[i - 1, j])\n",
    "      \n",
    "      y[i, j] = max(gap_start + m[i, j - 1], gap_continuation + y[i, j - 1])      \n",
    "    }\n",
    "  }\n",
    "  \n",
    "  max(m[length1 + 1, length2 + 1], x[length1 + 1, length2 + 1], y[length1 + 1, length2 + 1])\n",
    "}"
   ]
  },
  {
   "cell_type": "markdown",
   "id": "30f152df",
   "metadata": {},
   "source": [
    "The following two examples are taken from the paper _Support for linguistic macrofamilies from weighted sequence alignment_, also by Gerhard Jäger (https://www.pnas.org/doi/epdf/10.1073/pnas.1500331112). The affine gap results are identical to the results in the paper, therefore the implementation of the algorithm seems to be correct."
   ]
  },
  {
   "cell_type": "code",
   "execution_count": 53,
   "id": "52520656",
   "metadata": {},
   "outputs": [
    {
     "data": {
      "text/html": [
       "4.8043564256737"
      ],
      "text/latex": [
       "4.8043564256737"
      ],
      "text/markdown": [
       "4.8043564256737"
      ],
      "text/plain": [
       "[1] 4.804356"
      ]
     },
     "metadata": {},
     "output_type": "display_data"
    },
    {
     "data": {
      "text/html": [
       "-11.28491539753"
      ],
      "text/latex": [
       "-11.28491539753"
      ],
      "text/markdown": [
       "-11.28491539753"
      ],
      "text/plain": [
       "[1] -11.28492"
      ]
     },
     "metadata": {},
     "output_type": "display_data"
    }
   ],
   "source": [
    "affine(\"hEnd\", \"hant\")\n",
    "affine(\"mano\", \"hant\")"
   ]
  },
  {
   "cell_type": "markdown",
   "id": "44092904",
   "metadata": {},
   "source": [
    "Before the distances between the languages are calculated, a matrix to store them is created."
   ]
  },
  {
   "cell_type": "code",
   "execution_count": 57,
   "id": "74c32ade",
   "metadata": {},
   "outputs": [],
   "source": [
    "language_distances = \n",
    "  matrix(0, nrow(languages), nrow(languages))"
   ]
  },
  {
   "cell_type": "markdown",
   "id": "2791f6ca",
   "metadata": {},
   "source": [
    "Now it's time to iterate through all language pairs and store the resulting language distances in the newly created matrix."
   ]
  },
  {
   "cell_type": "code",
   "execution_count": 64,
   "id": "4becb42f",
   "metadata": {},
   "outputs": [
    {
     "name": "stdout",
     "output_type": "stream",
     "text": [
      "[1] 1\n",
      "[1] 2\n",
      "[1] 3\n",
      "[1] 4\n",
      "[1] 5\n",
      "[1] 6\n",
      "[1] 7\n",
      "[1] 8\n",
      "[1] 9\n",
      "[1] 10\n",
      "[1] 11\n",
      "[1] 12\n",
      "[1] 13\n",
      "[1] 14\n",
      "[1] 15\n",
      "[1] 16\n",
      "[1] 17\n",
      "[1] 18\n",
      "[1] 19\n",
      "[1] 20\n",
      "[1] 21\n",
      "[1] 22\n",
      "[1] 23\n",
      "[1] 24\n",
      "[1] 25\n",
      "[1] 26\n",
      "[1] 27\n",
      "[1] 28\n",
      "[1] 29\n",
      "[1] 30\n",
      "[1] 31\n",
      "[1] 32\n",
      "[1] 33\n",
      "[1] 34\n",
      "[1] 35\n",
      "[1] 36\n",
      "[1] 37\n",
      "[1] 38\n",
      "[1] 39\n",
      "[1] 40\n",
      "[1] 41\n",
      "[1] 42\n",
      "[1] 43\n",
      "[1] 44\n",
      "[1] 45\n",
      "[1] 46\n",
      "[1] 47\n",
      "[1] 48\n",
      "[1] 49\n",
      "[1] 50\n",
      "[1] 51\n",
      "[1] 52\n",
      "[1] 53\n",
      "[1] 54\n",
      "[1] 55\n",
      "[1] 56\n",
      "[1] 57\n",
      "[1] 58\n",
      "[1] 59\n",
      "[1] 60\n",
      "[1] 61\n",
      "[1] 62\n",
      "[1] 63\n",
      "[1] 64\n",
      "[1] 65\n",
      "[1] 66\n",
      "[1] 67\n",
      "[1] 68\n",
      "[1] 69\n",
      "[1] 70\n",
      "[1] 71\n",
      "[1] 72\n",
      "[1] 73\n",
      "[1] 74\n",
      "[1] 75\n",
      "[1] 76\n",
      "[1] 77\n",
      "[1] 78\n",
      "[1] 79\n",
      "[1] 80\n",
      "[1] 81\n",
      "[1] 82\n",
      "[1] 83\n",
      "[1] 84\n",
      "[1] 85\n",
      "[1] 86\n",
      "[1] 87\n",
      "[1] 88\n",
      "[1] 89\n",
      "[1] 90\n",
      "[1] 91\n",
      "[1] 92\n",
      "[1] 93\n",
      "[1] 94\n",
      "[1] 95\n",
      "[1] 96\n",
      "[1] 97\n",
      "[1] 98\n",
      "[1] 99\n",
      "[1] 100\n",
      "[1] 101\n",
      "[1] 102\n",
      "[1] 103\n",
      "[1] 104\n",
      "[1] 105\n",
      "[1] 106\n"
     ]
    }
   ],
   "source": [
    "for (i in 1:(nrow(languages) - 1)) {\n",
    "  # print to see the program is actually doing something, because the loop takes a while\n",
    "  print(i)\n",
    "  for (j in (i + 1):nrow(languages)) {\n",
    "    # creates a tibble comparing two languages\n",
    "    join = inner_join(language_params[[i]], language_params[[j]], \n",
    "                      by=c(\"Concept_ID\" = \"Concept_ID\"))\n",
    "    lang_distance = 0\n",
    "    k = 1\n",
    "    n_concepts = 40\n",
    "    remove_concept = TRUE\n",
    "    for (concept in asjp_concepts) {\n",
    "      n_words = 0\n",
    "      concept_distance = 0\n",
    "      while ((join$Concept_ID[k] == concept) && k != nrow(join) + 1) {\n",
    "        remove_concept = FALSE\n",
    "        n_words = n_words + 1\n",
    "        concept_distance = \n",
    "          concept_distance + \n",
    "          (affine(join$ASJP.x[k], join$ASJP.y[k]) / \n",
    "          max(nchar(join$ASJP.x[k]), nchar(join$ASJP.y[k]))) \n",
    "        k = k + 1\n",
    "      }\n",
    "      if (remove_concept) {n_concepts = n_concepts - 1} \n",
    "      else {\n",
    "        remove_concept = TRUE\n",
    "        lang_distance = lang_distance + (concept_distance / n_words)\n",
    "      }\n",
    "      counter = 0\n",
    "      concept_distance = 0\n",
    "    }\n",
    "    language_distances[i, j] = (lang_distance / n_concepts) \n",
    "    language_distances[j, i] = (lang_distance / n_concepts)\n",
    "  }\n",
    "}"
   ]
  },
  {
   "cell_type": "code",
   "execution_count": 66,
   "id": "c998f367",
   "metadata": {},
   "outputs": [
    {
     "data": {
      "text/html": [
       "<table class=\"dataframe\">\n",
       "<caption>A matrix: 6 × 107 of type dbl</caption>\n",
       "<tbody>\n",
       "\t<tr><td>0.0000000</td><td>2.099054</td><td>1.714937</td><td>0.9608125</td><td>1.2088556</td><td>0.8725801</td><td>-0.5628791</td><td>-0.8307503</td><td>-0.7748954</td><td>-0.7105577</td><td>...</td><td>-1.982630</td><td>-1.838136</td><td>-1.667545</td><td>-1.757684</td><td>-1.698878</td><td>-1.723360</td><td>-1.818263</td><td>-1.837910</td><td>-1.985410</td><td>-1.619638</td></tr>\n",
       "\t<tr><td>2.0990544</td><td>0.000000</td><td>1.874872</td><td>1.0772252</td><td>1.4141897</td><td>0.8981040</td><td>-0.4127351</td><td>-0.7501226</td><td>-0.7174914</td><td>-0.6432128</td><td>...</td><td>-2.001874</td><td>-1.867331</td><td>-1.774955</td><td>-1.880128</td><td>-1.880817</td><td>-1.803597</td><td>-1.875059</td><td>-1.869994</td><td>-1.972895</td><td>-1.781808</td></tr>\n",
       "\t<tr><td>1.7149375</td><td>1.874872</td><td>0.000000</td><td>1.3261087</td><td>1.1631011</td><td>0.8629990</td><td>-0.5537836</td><td>-0.9012411</td><td>-0.7598275</td><td>-0.7031039</td><td>...</td><td>-2.090001</td><td>-1.795411</td><td>-1.707174</td><td>-1.820721</td><td>-1.749955</td><td>-1.768547</td><td>-1.881067</td><td>-1.781351</td><td>-1.988927</td><td>-1.652222</td></tr>\n",
       "\t<tr><td>0.9608125</td><td>1.077225</td><td>1.326109</td><td>0.0000000</td><td>1.3566684</td><td>0.8726903</td><td>-0.7409957</td><td>-1.0469739</td><td>-0.9514742</td><td>-0.8599191</td><td>...</td><td>-2.084979</td><td>-1.902554</td><td>-1.827839</td><td>-2.077658</td><td>-1.826783</td><td>-2.071801</td><td>-1.922537</td><td>-1.884865</td><td>-1.930468</td><td>-1.972818</td></tr>\n",
       "\t<tr><td>1.2088556</td><td>1.414190</td><td>1.163101</td><td>1.3566684</td><td>0.0000000</td><td>0.7272888</td><td>-0.7118341</td><td>-0.9399190</td><td>-0.8817747</td><td>-0.8087854</td><td>...</td><td>-2.152645</td><td>-1.945738</td><td>-1.927458</td><td>-2.059355</td><td>-1.794128</td><td>-2.151873</td><td>-1.869549</td><td>-1.831960</td><td>-1.910834</td><td>-1.927941</td></tr>\n",
       "\t<tr><td>0.8725801</td><td>0.898104</td><td>0.862999</td><td>0.8726903</td><td>0.7272888</td><td>0.0000000</td><td>-0.6704208</td><td>-0.8152105</td><td>-0.8730572</td><td>-0.7543655</td><td>...</td><td>-2.113595</td><td>-1.942571</td><td>-1.926469</td><td>-1.999410</td><td>-1.966429</td><td>-2.093235</td><td>-1.865565</td><td>-1.978354</td><td>-2.055234</td><td>-2.036301</td></tr>\n",
       "</tbody>\n",
       "</table>\n"
      ],
      "text/latex": [
       "A matrix: 6 × 107 of type dbl\n",
       "\\begin{tabular}{lllllllllllllllllllll}\n",
       "\t 0.0000000 & 2.099054 & 1.714937 & 0.9608125 & 1.2088556 & 0.8725801 & -0.5628791 & -0.8307503 & -0.7748954 & -0.7105577 & ... & -1.982630 & -1.838136 & -1.667545 & -1.757684 & -1.698878 & -1.723360 & -1.818263 & -1.837910 & -1.985410 & -1.619638\\\\\n",
       "\t 2.0990544 & 0.000000 & 1.874872 & 1.0772252 & 1.4141897 & 0.8981040 & -0.4127351 & -0.7501226 & -0.7174914 & -0.6432128 & ... & -2.001874 & -1.867331 & -1.774955 & -1.880128 & -1.880817 & -1.803597 & -1.875059 & -1.869994 & -1.972895 & -1.781808\\\\\n",
       "\t 1.7149375 & 1.874872 & 0.000000 & 1.3261087 & 1.1631011 & 0.8629990 & -0.5537836 & -0.9012411 & -0.7598275 & -0.7031039 & ... & -2.090001 & -1.795411 & -1.707174 & -1.820721 & -1.749955 & -1.768547 & -1.881067 & -1.781351 & -1.988927 & -1.652222\\\\\n",
       "\t 0.9608125 & 1.077225 & 1.326109 & 0.0000000 & 1.3566684 & 0.8726903 & -0.7409957 & -1.0469739 & -0.9514742 & -0.8599191 & ... & -2.084979 & -1.902554 & -1.827839 & -2.077658 & -1.826783 & -2.071801 & -1.922537 & -1.884865 & -1.930468 & -1.972818\\\\\n",
       "\t 1.2088556 & 1.414190 & 1.163101 & 1.3566684 & 0.0000000 & 0.7272888 & -0.7118341 & -0.9399190 & -0.8817747 & -0.8087854 & ... & -2.152645 & -1.945738 & -1.927458 & -2.059355 & -1.794128 & -2.151873 & -1.869549 & -1.831960 & -1.910834 & -1.927941\\\\\n",
       "\t 0.8725801 & 0.898104 & 0.862999 & 0.8726903 & 0.7272888 & 0.0000000 & -0.6704208 & -0.8152105 & -0.8730572 & -0.7543655 & ... & -2.113595 & -1.942571 & -1.926469 & -1.999410 & -1.966429 & -2.093235 & -1.865565 & -1.978354 & -2.055234 & -2.036301\\\\\n",
       "\\end{tabular}\n"
      ],
      "text/markdown": [
       "\n",
       "A matrix: 6 × 107 of type dbl\n",
       "\n",
       "| 0.0000000 | 2.099054 | 1.714937 | 0.9608125 | 1.2088556 | 0.8725801 | -0.5628791 | -0.8307503 | -0.7748954 | -0.7105577 | ... | -1.982630 | -1.838136 | -1.667545 | -1.757684 | -1.698878 | -1.723360 | -1.818263 | -1.837910 | -1.985410 | -1.619638 |\n",
       "| 2.0990544 | 0.000000 | 1.874872 | 1.0772252 | 1.4141897 | 0.8981040 | -0.4127351 | -0.7501226 | -0.7174914 | -0.6432128 | ... | -2.001874 | -1.867331 | -1.774955 | -1.880128 | -1.880817 | -1.803597 | -1.875059 | -1.869994 | -1.972895 | -1.781808 |\n",
       "| 1.7149375 | 1.874872 | 0.000000 | 1.3261087 | 1.1631011 | 0.8629990 | -0.5537836 | -0.9012411 | -0.7598275 | -0.7031039 | ... | -2.090001 | -1.795411 | -1.707174 | -1.820721 | -1.749955 | -1.768547 | -1.881067 | -1.781351 | -1.988927 | -1.652222 |\n",
       "| 0.9608125 | 1.077225 | 1.326109 | 0.0000000 | 1.3566684 | 0.8726903 | -0.7409957 | -1.0469739 | -0.9514742 | -0.8599191 | ... | -2.084979 | -1.902554 | -1.827839 | -2.077658 | -1.826783 | -2.071801 | -1.922537 | -1.884865 | -1.930468 | -1.972818 |\n",
       "| 1.2088556 | 1.414190 | 1.163101 | 1.3566684 | 0.0000000 | 0.7272888 | -0.7118341 | -0.9399190 | -0.8817747 | -0.8087854 | ... | -2.152645 | -1.945738 | -1.927458 | -2.059355 | -1.794128 | -2.151873 | -1.869549 | -1.831960 | -1.910834 | -1.927941 |\n",
       "| 0.8725801 | 0.898104 | 0.862999 | 0.8726903 | 0.7272888 | 0.0000000 | -0.6704208 | -0.8152105 | -0.8730572 | -0.7543655 | ... | -2.113595 | -1.942571 | -1.926469 | -1.999410 | -1.966429 | -2.093235 | -1.865565 | -1.978354 | -2.055234 | -2.036301 |\n",
       "\n"
      ],
      "text/plain": [
       "     [,1]      [,2]     [,3]     [,4]      [,5]      [,6]      [,7]      \n",
       "[1,] 0.0000000 2.099054 1.714937 0.9608125 1.2088556 0.8725801 -0.5628791\n",
       "[2,] 2.0990544 0.000000 1.874872 1.0772252 1.4141897 0.8981040 -0.4127351\n",
       "[3,] 1.7149375 1.874872 0.000000 1.3261087 1.1631011 0.8629990 -0.5537836\n",
       "[4,] 0.9608125 1.077225 1.326109 0.0000000 1.3566684 0.8726903 -0.7409957\n",
       "[5,] 1.2088556 1.414190 1.163101 1.3566684 0.0000000 0.7272888 -0.7118341\n",
       "[6,] 0.8725801 0.898104 0.862999 0.8726903 0.7272888 0.0000000 -0.6704208\n",
       "     [,8]       [,9]       [,10]      [,11] [,12]     [,13]     [,14]    \n",
       "[1,] -0.8307503 -0.7748954 -0.7105577 ...   -1.982630 -1.838136 -1.667545\n",
       "[2,] -0.7501226 -0.7174914 -0.6432128 ...   -2.001874 -1.867331 -1.774955\n",
       "[3,] -0.9012411 -0.7598275 -0.7031039 ...   -2.090001 -1.795411 -1.707174\n",
       "[4,] -1.0469739 -0.9514742 -0.8599191 ...   -2.084979 -1.902554 -1.827839\n",
       "[5,] -0.9399190 -0.8817747 -0.8087854 ...   -2.152645 -1.945738 -1.927458\n",
       "[6,] -0.8152105 -0.8730572 -0.7543655 ...   -2.113595 -1.942571 -1.926469\n",
       "     [,15]     [,16]     [,17]     [,18]     [,19]     [,20]     [,21]    \n",
       "[1,] -1.757684 -1.698878 -1.723360 -1.818263 -1.837910 -1.985410 -1.619638\n",
       "[2,] -1.880128 -1.880817 -1.803597 -1.875059 -1.869994 -1.972895 -1.781808\n",
       "[3,] -1.820721 -1.749955 -1.768547 -1.881067 -1.781351 -1.988927 -1.652222\n",
       "[4,] -2.077658 -1.826783 -2.071801 -1.922537 -1.884865 -1.930468 -1.972818\n",
       "[5,] -2.059355 -1.794128 -2.151873 -1.869549 -1.831960 -1.910834 -1.927941\n",
       "[6,] -1.999410 -1.966429 -2.093235 -1.865565 -1.978354 -2.055234 -2.036301"
      ]
     },
     "metadata": {},
     "output_type": "display_data"
    }
   ],
   "source": [
    "head(language_distances)"
   ]
  }
 ],
 "metadata": {
  "kernelspec": {
   "display_name": "R",
   "language": "R",
   "name": "ir"
  },
  "language_info": {
   "codemirror_mode": "r",
   "file_extension": ".r",
   "mimetype": "text/x-r-source",
   "name": "R",
   "pygments_lexer": "r",
   "version": "4.1.1"
  }
 },
 "nbformat": 4,
 "nbformat_minor": 5
}
